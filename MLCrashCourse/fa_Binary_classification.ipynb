{
  "nbformat": 4,
  "nbformat_minor": 0,
  "metadata": {
    "colab": {
      "provenance": [],
      "authorship_tag": "ABX9TyPXy9jvU5J3FhNK+QglCpTL",
      "include_colab_link": true
    },
    "kernelspec": {
      "name": "python3",
      "display_name": "Python 3"
    },
    "language_info": {
      "name": "python"
    }
  },
  "cells": [
    {
      "cell_type": "markdown",
      "metadata": {
        "id": "view-in-github",
        "colab_type": "text"
      },
      "source": [
        "<a href=\"https://colab.research.google.com/github/GhazalehKeyvani/Avina/blob/main/MLCrashCourse/fa_Binary_classification.ipynb\" target=\"_parent\"><img src=\"https://colab.research.google.com/assets/colab-badge.svg\" alt=\"Open In Colab\"/></a>"
      ]
    },
    {
      "cell_type": "markdown",
      "source": [
        "# طبقه بندی باینری\n",
        "\n",
        "تاکنون فقط مدل های رگرسیون ایجاد کرده اید. یعنی شما مدل‌هایی ایجاد کردید که پیش‌بینی‌های ممیز شناور را ایجاد می‌کردند، مانند «خانه‌های این محله N هزار دلار قیمت دارند». در این Colab، یک [مدل طبقه‌بندی] (https://developers.google.com/machine-learning/glossary/#classification_model) باینری ایجاد و ارزیابی خواهید کرد. یعنی شما مدلی ایجاد می کنید که به یک سوال باینری پاسخ می دهد. در این تمرین سوال دودویی این خواهد بود که \"آیا خانه های این محله از قیمت مشخصی بالاتر است؟\""
      ],
      "metadata": {
        "id": "0w0Vaf8QLyzt"
      }
    },
    {
      "cell_type": "markdown",
      "source": [
        "## اهداف یادگیری:\n",
        "\n",
        "پس از انجام این Colab، می دانید که چگونه:\n",
        "\n",
        "   * یک سوال رگرسیون را به یک سوال طبقه بندی تبدیل کنید.\n",
        "   * آستانه طبقه بندی را اصلاح کنید و تعیین کنید که این اصلاح چگونه بر مدل تأثیر می گذارد.\n",
        "   * برای تعیین اثربخشی مدل خود، معیارهای طبقه بندی مختلف را آزمایش کنید."
      ],
      "metadata": {
        "id": "S68-SRraMLEv"
      }
    },
    {
      "cell_type": "markdown",
      "source": [
        "## طراحی:\n",
        "\n",
        "پس از انجام این Colab، می بینید که چگونه:\n",
        "\n",
        "    * یک سوال رگرسیون را به یک سوال طبقه بندی کنید.\n",
        "    * سطح طبقه بندی را اصلاح کنید و تعیین کنید که چگونه بر مدل تأثیر می گذارد.\n",
        "    * برای تعیین اثربخشی مدل خود، معیارهای طبقه بندی مختلف را آزمایش کنید."
      ],
      "metadata": {
        "id": "6hzpRh_4MNJK"
      }
    },
    {
      "cell_type": "code",
      "execution_count": null,
      "metadata": {
        "id": "y8oUk_t1n6ju",
        "colab": {
          "base_uri": "https://localhost:8080/"
        },
        "outputId": "ab13224f-5121-4165-c830-b380b1d143a6"
      },
      "outputs": [
        {
          "output_type": "stream",
          "name": "stdout",
          "text": [
            "Ran the import statements.\n"
          ]
        }
      ],
      "source": [
        "#@title Load the imports\n",
        "\n",
        "import numpy as np\n",
        "import pandas as pd\n",
        "import tensorflow as tf\n",
        "from tensorflow.keras import layers\n",
        "from matplotlib import pyplot as plt\n",
        "\n",
        "# The following lines adjust the granularity of reporting.\n",
        "pd.options.display.max_rows = 10\n",
        "pd.options.display.float_format = \"{:.1f}\".format\n",
        "# tf.keras.backend.set_floatx('float32')\n",
        "\n",
        "print(\"Ran the import statements.\")"
      ]
    },
    {
      "cell_type": "markdown",
      "source": [
        "## مجموعه داده ها را از اینترنت بارگیری کنید\n",
        "\n",
        "سلول کد زیر فایل‌های csv. جداگانه را بارگیری می‌کند و دو پاندای DataFrame زیر را ایجاد می‌کند:\n",
        "\n",
        "* `train_df` که شامل مجموعه آموزشی است\n",
        "* `test_df` که شامل مجموعه تست است"
      ],
      "metadata": {
        "id": "YBaWDOSeM4Ve"
      }
    },
    {
      "cell_type": "code",
      "source": [
        "train_df = pd.read_csv(\"https://download.mlcc.google.com/mledu-datasets/california_housing_train.csv\")\n",
        "test_df = pd.read_csv(\"https://download.mlcc.google.com/mledu-datasets/california_housing_test.csv\")\n",
        "train_df = train_df.reindex(np.random.permutation(train_df.index)) # shuffle the training set"
      ],
      "metadata": {
        "id": "Lu-seVYaMrS5"
      },
      "execution_count": null,
      "outputs": []
    },
    {
      "cell_type": "markdown",
      "source": [
        "برخلاف برخی از Colab های قبلی، سلول کد قبلی برچسب (\"متوسط_مقدار_خانه\") را مقیاس بندی نکرد. بخش زیر (\"نرمال سازی مقادیر\") یک رویکرد جایگزین ارائه می دهد."
      ],
      "metadata": {
        "id": "JpScRFQxNCNC"
      }
    },
    {
      "cell_type": "markdown",
      "source": [
        "##نرمالسازی مقادیر\n",
        "\n",
        "هنگام ایجاد یک مدل با چندین ویژگی، مقادیر هر ویژگی باید تقریباً یک محدوده را پوشش دهد. به عنوان مثال، اگر محدوده یک ویژگی بین 500 تا 100000 باشد و محدوده ویژگی دیگری بین 2 تا 12 باشد، آموزش مدل دشوار یا غیرممکن خواهد بود. بنابراین، شما باید ویژگی ها را در یک مدل چند ویژگی نرمالسازی کنید.\n",
        "\n",
        "سلول کد زیر با تبدیل هر مقدار خام (شامل برچسب) به امتیاز Z آن، مجموعه داده ها را عادی می کند. Z-score تعداد انحرافات استاندارد از میانگین برای یک مقدار خام خاص است. به عنوان مثال، یک ویژگی را با ویژگی های زیر در نظر بگیرید:\n",
        "\n",
        "*    میانگین 60 است.\n",
        "\n",
        "*    انحراف معیار 10 است.\n",
        "\n",
        "مقدار خام 75 دارای Z-score 1.5+ خواهد بود:\n",
        "\n",
        "\n",
        "\n",
        "```\n",
        "z-score = (75 - 60) / 10 = +1.5\n",
        "```\n",
        "مقدار خام 75 دارای Z-score -2.2 خواهد بود:\n",
        "```\n",
        "z-score = (38 - 60) / 10 = -2.2\n",
        "```"
      ],
      "metadata": {
        "id": "owQjZ90HNhKZ"
      }
    },
    {
      "cell_type": "code",
      "source": [
        "# امتیاز Z هر ستون را در مجموعه آموزشی محاسبه کنید و\n",
        "# آن Z-score ها را در یک DataFrame پانداهای جدید به نام train_df_norm بنویسید.\n",
        "train_df_mean = train_df.mean()\n",
        "train_df_std = train_df.std()\n",
        "train_df_norm = (train_df - train_df_mean) / train_df_std\n",
        "\n",
        "# برخی از مقادیر مجموعه تمرینی نرمال شده را بررسی کنید. توجه کنید که بیشتر\n",
        "# امتیاز Z بین -2 و +2 قرار دارد.\n",
        "train_df_norm.head()"
      ],
      "metadata": {
        "colab": {
          "base_uri": "https://localhost:8080/",
          "height": 226
        },
        "id": "B7DDImcmln0X",
        "outputId": "39e669b5-9647-4916-f8d9-33c76bada7e7"
      },
      "execution_count": null,
      "outputs": [
        {
          "output_type": "execute_result",
          "data": {
            "text/plain": [
              "       longitude  latitude  housing_median_age  total_rooms  total_bedrooms  \\\n",
              "2377         1.0      -0.7                -1.9         -0.2            -0.1   \n",
              "14232       -1.3       0.8                -0.8          0.4             0.8   \n",
              "16424       -1.5       2.3                -0.1         -0.5            -0.5   \n",
              "7084         0.6      -0.7                 1.1          0.3             0.4   \n",
              "8915         0.4      -0.7                -1.2          1.1             0.5   \n",
              "\n",
              "       population  households  median_income  median_house_value  \n",
              "2377         -0.0        -0.1           -0.0                -0.9  \n",
              "14232         0.2         0.6            0.1                 0.6  \n",
              "16424        -0.5        -0.5           -0.6                -1.0  \n",
              "7084          0.7         0.4           -0.2                 0.7  \n",
              "8915          0.7         0.6            1.4                 0.7  "
            ],
            "text/html": [
              "\n",
              "  <div id=\"df-298203d6-07fe-40f1-98f7-2c5aeb4ed739\" class=\"colab-df-container\">\n",
              "    <div>\n",
              "<style scoped>\n",
              "    .dataframe tbody tr th:only-of-type {\n",
              "        vertical-align: middle;\n",
              "    }\n",
              "\n",
              "    .dataframe tbody tr th {\n",
              "        vertical-align: top;\n",
              "    }\n",
              "\n",
              "    .dataframe thead th {\n",
              "        text-align: right;\n",
              "    }\n",
              "</style>\n",
              "<table border=\"1\" class=\"dataframe\">\n",
              "  <thead>\n",
              "    <tr style=\"text-align: right;\">\n",
              "      <th></th>\n",
              "      <th>longitude</th>\n",
              "      <th>latitude</th>\n",
              "      <th>housing_median_age</th>\n",
              "      <th>total_rooms</th>\n",
              "      <th>total_bedrooms</th>\n",
              "      <th>population</th>\n",
              "      <th>households</th>\n",
              "      <th>median_income</th>\n",
              "      <th>median_house_value</th>\n",
              "    </tr>\n",
              "  </thead>\n",
              "  <tbody>\n",
              "    <tr>\n",
              "      <th>2377</th>\n",
              "      <td>1.0</td>\n",
              "      <td>-0.7</td>\n",
              "      <td>-1.9</td>\n",
              "      <td>-0.2</td>\n",
              "      <td>-0.1</td>\n",
              "      <td>-0.0</td>\n",
              "      <td>-0.1</td>\n",
              "      <td>-0.0</td>\n",
              "      <td>-0.9</td>\n",
              "    </tr>\n",
              "    <tr>\n",
              "      <th>14232</th>\n",
              "      <td>-1.3</td>\n",
              "      <td>0.8</td>\n",
              "      <td>-0.8</td>\n",
              "      <td>0.4</td>\n",
              "      <td>0.8</td>\n",
              "      <td>0.2</td>\n",
              "      <td>0.6</td>\n",
              "      <td>0.1</td>\n",
              "      <td>0.6</td>\n",
              "    </tr>\n",
              "    <tr>\n",
              "      <th>16424</th>\n",
              "      <td>-1.5</td>\n",
              "      <td>2.3</td>\n",
              "      <td>-0.1</td>\n",
              "      <td>-0.5</td>\n",
              "      <td>-0.5</td>\n",
              "      <td>-0.5</td>\n",
              "      <td>-0.5</td>\n",
              "      <td>-0.6</td>\n",
              "      <td>-1.0</td>\n",
              "    </tr>\n",
              "    <tr>\n",
              "      <th>7084</th>\n",
              "      <td>0.6</td>\n",
              "      <td>-0.7</td>\n",
              "      <td>1.1</td>\n",
              "      <td>0.3</td>\n",
              "      <td>0.4</td>\n",
              "      <td>0.7</td>\n",
              "      <td>0.4</td>\n",
              "      <td>-0.2</td>\n",
              "      <td>0.7</td>\n",
              "    </tr>\n",
              "    <tr>\n",
              "      <th>8915</th>\n",
              "      <td>0.4</td>\n",
              "      <td>-0.7</td>\n",
              "      <td>-1.2</td>\n",
              "      <td>1.1</td>\n",
              "      <td>0.5</td>\n",
              "      <td>0.7</td>\n",
              "      <td>0.6</td>\n",
              "      <td>1.4</td>\n",
              "      <td>0.7</td>\n",
              "    </tr>\n",
              "  </tbody>\n",
              "</table>\n",
              "</div>\n",
              "    <div class=\"colab-df-buttons\">\n",
              "\n",
              "  <div class=\"colab-df-container\">\n",
              "    <button class=\"colab-df-convert\" onclick=\"convertToInteractive('df-298203d6-07fe-40f1-98f7-2c5aeb4ed739')\"\n",
              "            title=\"Convert this dataframe to an interactive table.\"\n",
              "            style=\"display:none;\">\n",
              "\n",
              "  <svg xmlns=\"http://www.w3.org/2000/svg\" height=\"24px\" viewBox=\"0 -960 960 960\">\n",
              "    <path d=\"M120-120v-720h720v720H120Zm60-500h600v-160H180v160Zm220 220h160v-160H400v160Zm0 220h160v-160H400v160ZM180-400h160v-160H180v160Zm440 0h160v-160H620v160ZM180-180h160v-160H180v160Zm440 0h160v-160H620v160Z\"/>\n",
              "  </svg>\n",
              "    </button>\n",
              "\n",
              "  <style>\n",
              "    .colab-df-container {\n",
              "      display:flex;\n",
              "      gap: 12px;\n",
              "    }\n",
              "\n",
              "    .colab-df-convert {\n",
              "      background-color: #E8F0FE;\n",
              "      border: none;\n",
              "      border-radius: 50%;\n",
              "      cursor: pointer;\n",
              "      display: none;\n",
              "      fill: #1967D2;\n",
              "      height: 32px;\n",
              "      padding: 0 0 0 0;\n",
              "      width: 32px;\n",
              "    }\n",
              "\n",
              "    .colab-df-convert:hover {\n",
              "      background-color: #E2EBFA;\n",
              "      box-shadow: 0px 1px 2px rgba(60, 64, 67, 0.3), 0px 1px 3px 1px rgba(60, 64, 67, 0.15);\n",
              "      fill: #174EA6;\n",
              "    }\n",
              "\n",
              "    .colab-df-buttons div {\n",
              "      margin-bottom: 4px;\n",
              "    }\n",
              "\n",
              "    [theme=dark] .colab-df-convert {\n",
              "      background-color: #3B4455;\n",
              "      fill: #D2E3FC;\n",
              "    }\n",
              "\n",
              "    [theme=dark] .colab-df-convert:hover {\n",
              "      background-color: #434B5C;\n",
              "      box-shadow: 0px 1px 3px 1px rgba(0, 0, 0, 0.15);\n",
              "      filter: drop-shadow(0px 1px 2px rgba(0, 0, 0, 0.3));\n",
              "      fill: #FFFFFF;\n",
              "    }\n",
              "  </style>\n",
              "\n",
              "    <script>\n",
              "      const buttonEl =\n",
              "        document.querySelector('#df-298203d6-07fe-40f1-98f7-2c5aeb4ed739 button.colab-df-convert');\n",
              "      buttonEl.style.display =\n",
              "        google.colab.kernel.accessAllowed ? 'block' : 'none';\n",
              "\n",
              "      async function convertToInteractive(key) {\n",
              "        const element = document.querySelector('#df-298203d6-07fe-40f1-98f7-2c5aeb4ed739');\n",
              "        const dataTable =\n",
              "          await google.colab.kernel.invokeFunction('convertToInteractive',\n",
              "                                                    [key], {});\n",
              "        if (!dataTable) return;\n",
              "\n",
              "        const docLinkHtml = 'Like what you see? Visit the ' +\n",
              "          '<a target=\"_blank\" href=https://colab.research.google.com/notebooks/data_table.ipynb>data table notebook</a>'\n",
              "          + ' to learn more about interactive tables.';\n",
              "        element.innerHTML = '';\n",
              "        dataTable['output_type'] = 'display_data';\n",
              "        await google.colab.output.renderOutput(dataTable, element);\n",
              "        const docLink = document.createElement('div');\n",
              "        docLink.innerHTML = docLinkHtml;\n",
              "        element.appendChild(docLink);\n",
              "      }\n",
              "    </script>\n",
              "  </div>\n",
              "\n",
              "\n",
              "<div id=\"df-dfc90437-4d55-4744-89e9-1057aae509ea\">\n",
              "  <button class=\"colab-df-quickchart\" onclick=\"quickchart('df-dfc90437-4d55-4744-89e9-1057aae509ea')\"\n",
              "            title=\"Suggest charts\"\n",
              "            style=\"display:none;\">\n",
              "\n",
              "<svg xmlns=\"http://www.w3.org/2000/svg\" height=\"24px\"viewBox=\"0 0 24 24\"\n",
              "     width=\"24px\">\n",
              "    <g>\n",
              "        <path d=\"M19 3H5c-1.1 0-2 .9-2 2v14c0 1.1.9 2 2 2h14c1.1 0 2-.9 2-2V5c0-1.1-.9-2-2-2zM9 17H7v-7h2v7zm4 0h-2V7h2v10zm4 0h-2v-4h2v4z\"/>\n",
              "    </g>\n",
              "</svg>\n",
              "  </button>\n",
              "\n",
              "<style>\n",
              "  .colab-df-quickchart {\n",
              "      --bg-color: #E8F0FE;\n",
              "      --fill-color: #1967D2;\n",
              "      --hover-bg-color: #E2EBFA;\n",
              "      --hover-fill-color: #174EA6;\n",
              "      --disabled-fill-color: #AAA;\n",
              "      --disabled-bg-color: #DDD;\n",
              "  }\n",
              "\n",
              "  [theme=dark] .colab-df-quickchart {\n",
              "      --bg-color: #3B4455;\n",
              "      --fill-color: #D2E3FC;\n",
              "      --hover-bg-color: #434B5C;\n",
              "      --hover-fill-color: #FFFFFF;\n",
              "      --disabled-bg-color: #3B4455;\n",
              "      --disabled-fill-color: #666;\n",
              "  }\n",
              "\n",
              "  .colab-df-quickchart {\n",
              "    background-color: var(--bg-color);\n",
              "    border: none;\n",
              "    border-radius: 50%;\n",
              "    cursor: pointer;\n",
              "    display: none;\n",
              "    fill: var(--fill-color);\n",
              "    height: 32px;\n",
              "    padding: 0;\n",
              "    width: 32px;\n",
              "  }\n",
              "\n",
              "  .colab-df-quickchart:hover {\n",
              "    background-color: var(--hover-bg-color);\n",
              "    box-shadow: 0 1px 2px rgba(60, 64, 67, 0.3), 0 1px 3px 1px rgba(60, 64, 67, 0.15);\n",
              "    fill: var(--button-hover-fill-color);\n",
              "  }\n",
              "\n",
              "  .colab-df-quickchart-complete:disabled,\n",
              "  .colab-df-quickchart-complete:disabled:hover {\n",
              "    background-color: var(--disabled-bg-color);\n",
              "    fill: var(--disabled-fill-color);\n",
              "    box-shadow: none;\n",
              "  }\n",
              "\n",
              "  .colab-df-spinner {\n",
              "    border: 2px solid var(--fill-color);\n",
              "    border-color: transparent;\n",
              "    border-bottom-color: var(--fill-color);\n",
              "    animation:\n",
              "      spin 1s steps(1) infinite;\n",
              "  }\n",
              "\n",
              "  @keyframes spin {\n",
              "    0% {\n",
              "      border-color: transparent;\n",
              "      border-bottom-color: var(--fill-color);\n",
              "      border-left-color: var(--fill-color);\n",
              "    }\n",
              "    20% {\n",
              "      border-color: transparent;\n",
              "      border-left-color: var(--fill-color);\n",
              "      border-top-color: var(--fill-color);\n",
              "    }\n",
              "    30% {\n",
              "      border-color: transparent;\n",
              "      border-left-color: var(--fill-color);\n",
              "      border-top-color: var(--fill-color);\n",
              "      border-right-color: var(--fill-color);\n",
              "    }\n",
              "    40% {\n",
              "      border-color: transparent;\n",
              "      border-right-color: var(--fill-color);\n",
              "      border-top-color: var(--fill-color);\n",
              "    }\n",
              "    60% {\n",
              "      border-color: transparent;\n",
              "      border-right-color: var(--fill-color);\n",
              "    }\n",
              "    80% {\n",
              "      border-color: transparent;\n",
              "      border-right-color: var(--fill-color);\n",
              "      border-bottom-color: var(--fill-color);\n",
              "    }\n",
              "    90% {\n",
              "      border-color: transparent;\n",
              "      border-bottom-color: var(--fill-color);\n",
              "    }\n",
              "  }\n",
              "</style>\n",
              "\n",
              "  <script>\n",
              "    async function quickchart(key) {\n",
              "      const quickchartButtonEl =\n",
              "        document.querySelector('#' + key + ' button');\n",
              "      quickchartButtonEl.disabled = true;  // To prevent multiple clicks.\n",
              "      quickchartButtonEl.classList.add('colab-df-spinner');\n",
              "      try {\n",
              "        const charts = await google.colab.kernel.invokeFunction(\n",
              "            'suggestCharts', [key], {});\n",
              "      } catch (error) {\n",
              "        console.error('Error during call to suggestCharts:', error);\n",
              "      }\n",
              "      quickchartButtonEl.classList.remove('colab-df-spinner');\n",
              "      quickchartButtonEl.classList.add('colab-df-quickchart-complete');\n",
              "    }\n",
              "    (() => {\n",
              "      let quickchartButtonEl =\n",
              "        document.querySelector('#df-dfc90437-4d55-4744-89e9-1057aae509ea button');\n",
              "      quickchartButtonEl.style.display =\n",
              "        google.colab.kernel.accessAllowed ? 'block' : 'none';\n",
              "    })();\n",
              "  </script>\n",
              "</div>\n",
              "    </div>\n",
              "  </div>\n"
            ]
          },
          "metadata": {},
          "execution_count": 4
        }
      ]
    },
    {
      "cell_type": "code",
      "source": [
        "# امتیاز Z هر ستون در مجموعه تست را محاسبه کنید و\n",
        "# آن Z-score ها را در یک DataFrame پانداهای جدید به نام test_df_norm بنویسید.\n",
        "test_df_norm = (test_df - train_df_mean) / train_df_std\n",
        "\n",
        "# توجه داشته باشید که داده های تست را با مقادیر محاسبه شده از مجموعه آموزشی تبدیل می کنیم،\n",
        "# همانطور که همیشه باید مجموعه داده های خود را دقیقاً با همان مقادیر تبدیل کنید."
      ],
      "metadata": {
        "id": "-EUiF5VboKa-"
      },
      "execution_count": null,
      "outputs": []
    },
    {
      "cell_type": "markdown",
      "source": [
        "##تمرین 1:ایجاد برچسب باینری\n",
        "\n",
        "در مسائل طبقه‌بندی، برچسب برای هر مثال باید 0 یا 1 باشد. متأسفانه، برچسب طبیعی در مجموعه داده مسکن کالیفرنیا، median_house_values حاوی مقادیر ممیز شناور مانند 80100 یا 85700 به جای 0 و 1 است، در حالی که نسخه عادی شده از \"median_house_values\" حاوی مقادیر ممیز شناور است که عمدتاً بین -3 و +3 است.\n",
        "\n",
        "وظیفه شما این است که یک ستون جدید به نام \"median_house_value_is_high\" در مجموعه آموزشی و مجموعه تست ایجاد کنید. اگر «median_house_value_is_high\" از یک مقدار دلخواه خاص (تعریف شده توسط \"threshold\") بیشتر باشد، \"median_house_value_is_high \" را روی 1 تنظیم کنید. در غیر این صورت، \"median_house_value_is_high \" را روی 0 تنظیم کنید.\n",
        "\n",
        "\n",
        "**نکته:**\n",
        "\n",
        "سلول‌های ستون \"median_house_value_is_high \" باید هر کدام \"1\" و \"0\" داشته باشند، نه \"درست\" و \"نادرست\". برای تبدیل «True» و «False» به «1» و «0»، تابع DataFrame پانداها را «astype(float)» فراخوانی کنید."
      ],
      "metadata": {
        "id": "tR7eIAH9N47A"
      }
    },
    {
      "cell_type": "code",
      "source": [
        "# ما خودسرانه آستانه را روی 265000 قرار دادیم که این است\n",
        "# صدک 75 برای مقادیر متوسط خانه. هر محله ای\n",
        "# با میانگین قیمت خانه بالای 265000 برچسب 1،\n",
        "# و همه محله های دیگر برچسب 0 خواهند داشت.\n",
        "\n",
        "threshold = 265000 # این صدک 75ام برای مقادیر متوسط خانه است.\n",
        "train_df_norm['median_house_value_is_high'] = (train_df['median_house_value'] > threshold).astype(float)\n",
        "test_df_norm['median_house_value_is_high'] = (train_df['median_house_value'] > threshold).astype(float)\n",
        "\n",
        "# چند سلول نمونه را از ابتدا چاپ کنید و\n",
        "# وسط مجموعه آموزشی، فقط برای اطمینان از آن\n",
        "# کد شما فقط 0 و 1 در جدیدا ایجاد شده ایجاد کرد\n",
        "# میانه_ارزش_خانه_ستون_بالا است\n",
        "train_df_norm['median_house_value_is_high'].head(8000)\n",
        "\n",
        "\n",
        "# متناوبا، به جای انتخاب آستانه\n",
        "# بر اساس مقادیر خام خانه، می توانید با امتیازهای Z کار کنید.\n",
        "# برای مثال، راه حل ممکن زیر از یک امتیاز Z استفاده می کند\n",
        "# از +1.0 به عنوان آستانه، به این معنی که دیگر وجود ندارد\n",
        "# بیش از 16 درصد از مقادیر در میانه_ارزش_خانه_بالا است\n",
        "# دارای برچسب 1 خواهد بود.\n",
        "\n",
        "# threshold_in_Z = 1.0\n",
        "# train_df_norm[\"median_house_value_is_high\"] = (train_df_norm[\"median_house_value\"] > threshold_in_Z).astype(float)\n",
        "# test_df_norm[\"median_house_value_is_high\"] = (test_df_norm[\"median_house_value\"] > threshold_in_Z).astype(float)"
      ],
      "metadata": {
        "id": "Q_XGGZkdNb2n",
        "colab": {
          "base_uri": "https://localhost:8080/"
        },
        "outputId": "d1a27684-3ae1-4453-8b96-ad828706bc78"
      },
      "execution_count": null,
      "outputs": [
        {
          "output_type": "execute_result",
          "data": {
            "text/plain": [
              "2377    0.0\n",
              "14232   1.0\n",
              "16424   0.0\n",
              "7084    1.0\n",
              "8915    1.0\n",
              "         ..\n",
              "10190   0.0\n",
              "15506   0.0\n",
              "7326    0.0\n",
              "12011   0.0\n",
              "622     0.0\n",
              "Name: median_house_value_is_high, Length: 8000, dtype: float64"
            ]
          },
          "metadata": {},
          "execution_count": 6
        }
      ]
    },
    {
      "cell_type": "markdown",
      "source": [
        "##معرفی ویژگی ها به عنوان لایه های ورودی\n",
        "این سلول کد ویژگی‌ها، `median_income` و `total_rooms` را مشخص می‌کند که در نهایت مدل را روی آن‌ها آموزش خواهید داد. این اشیاء ورودی به عنوان تانسور Keras نمونه سازی می شوند."
      ],
      "metadata": {
        "id": "sT4TnLy2OH7Q"
      }
    },
    {
      "cell_type": "code",
      "source": [
        "inputs = {\n",
        "    #ویژگی های استفاده شده برای آموزش مدل\n",
        "    'median_income': tf.keras.Input(shape=(1,)),\n",
        "    'total_rooms': tf.keras.Input(shape=(1,))\n",
        "}"
      ],
      "metadata": {
        "id": "Q65M7pTYPFAt"
      },
      "execution_count": null,
      "outputs": []
    },
    {
      "cell_type": "markdown",
      "source": [
        "##تعریف توابعی که مدل ایجاد میکنند و آموزش می دهند\n",
        "\n",
        "سلول کد زیر دو تابع را تعریف می کند:\n",
        "\n",
        "create_model (ورودی ها، نرخ_آموزش، METRICS)، که توپوگرافی مدل را تعریف می کند.\n",
        "\n",
        "\n",
        "train_model (model, data, epochs, label_name, batch_size, shuffle) از ویژگی ها و برچسب های ورودی برای آموزش مدل استفاده می کند.\n",
        "\n",
        "تمرینات قبلی از ReLU به عنوان تابع فعال سازی استفاده می کردند. در مقابل، این تمرین از سیگموئید به عنوان تابع فعال سازی استفاده می کند."
      ],
      "metadata": {
        "id": "Z7GoAgOBPSXl"
      }
    },
    {
      "cell_type": "code",
      "source": [
        "#@title توابع ایجاد و آموزش یک مدل را تعریف کنید.\n",
        "def create_model(my_inputs, my_learning_rate, METRICS):\n",
        "  # از یک لایه Concatenate برای الحاق لایه های ورودی به یک تانسور استفاده کنید.\n",
        "  # به عنوان ورودی لایه متراکم. مثال: [input_1[0][0], input_2[0][0]]\n",
        "  concatenated_inputs = tf.keras.layers.Concatenate()(my_inputs.values())\n",
        "  dense = layers.Dense(units=1, name='dense_layer', activation=tf.sigmoid)\n",
        "  dense_output = dense(concatenated_inputs)\n",
        "  \"\"\"ایجاد و تدوین یک مدل طبقه بندی ساده.\"\"\"\n",
        "  my_outputs = {\n",
        "    'dense': dense_output,\n",
        "  }\n",
        "  model = tf.keras.Model(inputs=my_inputs, outputs=my_outputs)\n",
        "\n",
        "  # متد کامپایل را فراخوانی کنید تا لایه ها را در مدلی بسازید که\n",
        "  # TensorFlow می تواند اجرا شود. توجه داشته باشید که ما از ضرر متفاوتی استفاده می کنیم\n",
        "  # تابع برای طبقه بندی نسبت به رگرسیون.\n",
        "  model.compile(optimizer=tf.keras.optimizers.experimental.RMSprop(learning_rate=my_learning_rate),\n",
        "                loss=tf.keras.losses.BinaryCrossentropy(),\n",
        "                metrics=METRICS)\n",
        "  return model\n",
        "\n",
        "\n",
        "def train_model(model, dataset, epochs, label_name, batch_size=None, shuffle=True):\n",
        "  \"\"\"یک مجموعه داده را به مدل وارد کنید تا آن را آموزش دهید.\"\"\"\n",
        "\n",
        "  # پارامتر x tf.keras.Model.fit می تواند فهرستی از آرایه ها باشد، جایی که\n",
        "  # هر آرایه حاوی داده های یک ویژگی است. اینجا، ما در حال عبور هستیم\n",
        "  # هر ستون در مجموعه داده. توجه داشته باشید که feature_layer فیلتر خواهد شد\n",
        "  # اکثر آن ستون‌ها را\n",
        "  # دور کنید و فقط ستون‌های دلخواه و آنها باقی می‌ماند\n",
        "  # نمایش به عنوان ویژگی.\n",
        "  features = {name:np.array(value) for name, value in dataset.items()}\n",
        "  label = np.array(features.pop(label_name))\n",
        "  history = model.fit(x=features, y=label, batch_size=batch_size,\n",
        "                      epochs=epochs, shuffle=shuffle)\n",
        "\n",
        "  # فهرست دوره ها جدا از بقیه تاریخ ذخیره می شود.\n",
        "  epochs = history.epoch\n",
        "\n",
        "  # معیار طبقه بندی را برای هر دوره جدا کنید.\n",
        "  hist = pd.DataFrame(history.history)\n",
        "\n",
        "  return epochs, hist\n",
        "\n",
        "print(\"Defined the create_model and train_model functions.\")"
      ],
      "metadata": {
        "id": "YuduIrEdPrGB",
        "colab": {
          "base_uri": "https://localhost:8080/"
        },
        "outputId": "2a6711bf-f4aa-4603-a801-42db7b575a69"
      },
      "execution_count": null,
      "outputs": [
        {
          "output_type": "stream",
          "name": "stdout",
          "text": [
            "Defined the create_model and train_model functions.\n"
          ]
        }
      ]
    },
    {
      "cell_type": "markdown",
      "source": [
        "##تعریف یک تابع رسم نمودار\n",
        "\n",
        "تابع [matplotlib](https://developers.google.com/machine-learning/glossary/#matplotlib) زیر یک یا چند منحنی را ترسیم می‌کند و نشان می‌دهد که چگونه معیارهای طبقه‌بندی مختلف در هر دوره تغییر می‌کنند."
      ],
      "metadata": {
        "id": "aev4_rlbP9Ca"
      }
    },
    {
      "cell_type": "code",
      "source": [
        "#@title تابع رسم را تعریف کنید.\n",
        "def plot_curve (epoch, hist , list_of_metrics):\n",
        "   \"\"\"منحنی از یک یا چند معیار طبقه بندی در مقابل دوره را ترسیم کنید.\"\"\"\n",
        "   # فهرست_متریک‌ها باید یکی از نام‌هایی باشد که در:\n",
        "   # https://www.tensorflow.org/tutorials/structured_data/imbalanced_data#define_the_model_and_metrics\n",
        "\n",
        "   plt.figure()\n",
        "   plt.xlabel (\"Epoch\")\n",
        "   plt.ylabel (\"Value\")\n",
        "\n",
        "   for m in list_of_metrics:\n",
        "     x = hist[m]\n",
        "     plt.plot(epochs[1:], x[1:], label=m)\n",
        "\n",
        "   plt.legend()\n",
        "\n",
        "print(\"تابع plot_curve را تعریف کرد.\")"
      ],
      "metadata": {
        "id": "VRSgxE9TTugS",
        "colab": {
          "base_uri": "https://localhost:8080/"
        },
        "outputId": "ed8d28cf-20a0-4577-f077-264a6e2db2e4"
      },
      "execution_count": null,
      "outputs": [
        {
          "output_type": "stream",
          "name": "stdout",
          "text": [
            "تابع plot_curve را تعریف کرد.\n"
          ]
        }
      ]
    },
    {
      "cell_type": "markdown",
      "source": [
        "##توابع ایجاد، آموزش و ترسیم را فراخوانی کنید\n",
        "فراخوانی سلول کد زیر، هایپرپارامترها را مشخص می کند و سپس توابع را برای ایجاد و آموزش مدل فراخوانی می کند و سپس نتایج را رسم می کند."
      ],
      "metadata": {
        "id": "zR1nOHgsAse8"
      }
    },
    {
      "cell_type": "markdown",
      "source": [
        "##ارزیابی مدل با داده های تست"
      ],
      "metadata": {
        "id": "c3LtYdrrTwDO"
      }
    },
    {
      "cell_type": "code",
      "source": [
        "# متغیرهای زیر ابرپارامترها هستند.\n",
        "learning_rate = 0.001\n",
        "epochs = 20\n",
        "batch_size = 100\n",
        "\n",
        "label_name = \"median_house_value_is_high\"\n",
        "classification_threshold = 0.35\n",
        "\n",
        "# معیارهایی را که مدل اندازه گیری می کند، تعیین کنید.\n",
        "METRICS = [\n",
        "            tf.keras.metrics.BinaryAccuracy(name='accuracy',\n",
        "                                            threshold=classification_threshold)\n",
        "           ]\n",
        "\n",
        "# توپوگرافی مدل را تعیین کنید.\n",
        "my_model = create_model(inputs, learning_rate, METRICS)\n",
        "\n",
        "# برای مشاهده یک PNG از لایه‌های این مدل، تماس را لغو نظر کنید\n",
        "# `tf.keras.utils.plot_model` در زیر. پس از اجرای این سلول کد، کلیک کنید\n",
        "# پوشه فایل در سمت چپ، سپس فایل «my_classification_model.png».\n",
        "# tf.keras.utils.plot_model(my_model، \"my_classification_model.png\")\n",
        "\n",
        "# آموزش مدل روی مجموعه آموزشی.\n",
        "epochs, hist = train_model(my_model, train_df_norm, epochs,\n",
        "                            label_name, batch_size)\n",
        "\n",
        "# نموداری از متریک(ها) در مقابل دوره ها را رسم کنید.\n",
        "list_of_metrics_to_plot = ['accuracy']\n",
        "\n",
        "plot_curve(epochs, hist, list_of_metrics_to_plot)"
      ],
      "metadata": {
        "id": "bNjaL7ApUR5P",
        "colab": {
          "base_uri": "https://localhost:8080/",
          "height": 1000
        },
        "outputId": "5fdd0a1b-6e5b-406f-dbe5-09c4e06ea651"
      },
      "execution_count": null,
      "outputs": [
        {
          "output_type": "stream",
          "name": "stdout",
          "text": [
            "Epoch 1/20\n"
          ]
        },
        {
          "output_type": "stream",
          "name": "stderr",
          "text": [
            "/usr/local/lib/python3.10/dist-packages/keras/src/engine/functional.py:642: UserWarning: Input dict contained keys ['longitude', 'latitude', 'housing_median_age', 'total_bedrooms', 'population', 'households', 'median_house_value'] which did not match any model input. They will be ignored by the model.\n",
            "  inputs = self._flatten_to_reference_inputs(inputs)\n"
          ]
        },
        {
          "output_type": "stream",
          "name": "stdout",
          "text": [
            "170/170 [==============================] - 1s 2ms/step - loss: 0.6258 - accuracy: 0.4261\n",
            "Epoch 2/20\n",
            "170/170 [==============================] - 0s 2ms/step - loss: 0.5546 - accuracy: 0.5502\n",
            "Epoch 3/20\n",
            "170/170 [==============================] - 0s 2ms/step - loss: 0.5008 - accuracy: 0.6459\n",
            "Epoch 4/20\n",
            "170/170 [==============================] - 0s 2ms/step - loss: 0.4615 - accuracy: 0.7058\n",
            "Epoch 5/20\n",
            "170/170 [==============================] - 0s 2ms/step - loss: 0.4341 - accuracy: 0.7445\n",
            "Epoch 6/20\n",
            "170/170 [==============================] - 0s 2ms/step - loss: 0.4173 - accuracy: 0.7672\n",
            "Epoch 7/20\n",
            "170/170 [==============================] - 0s 2ms/step - loss: 0.4071 - accuracy: 0.7838\n",
            "Epoch 8/20\n",
            "170/170 [==============================] - 0s 2ms/step - loss: 0.4017 - accuracy: 0.7939\n",
            "Epoch 9/20\n",
            "170/170 [==============================] - 0s 2ms/step - loss: 0.3988 - accuracy: 0.8014\n",
            "Epoch 10/20\n",
            "170/170 [==============================] - 0s 2ms/step - loss: 0.3976 - accuracy: 0.8059\n",
            "Epoch 11/20\n",
            "170/170 [==============================] - 0s 2ms/step - loss: 0.3970 - accuracy: 0.8073\n",
            "Epoch 12/20\n",
            "170/170 [==============================] - 0s 2ms/step - loss: 0.3968 - accuracy: 0.8081\n",
            "Epoch 13/20\n",
            "170/170 [==============================] - 0s 3ms/step - loss: 0.3967 - accuracy: 0.8091\n",
            "Epoch 14/20\n",
            "170/170 [==============================] - 0s 2ms/step - loss: 0.3966 - accuracy: 0.8084\n",
            "Epoch 15/20\n",
            "170/170 [==============================] - 0s 2ms/step - loss: 0.3966 - accuracy: 0.8086\n",
            "Epoch 16/20\n",
            "170/170 [==============================] - 0s 2ms/step - loss: 0.3966 - accuracy: 0.8087\n",
            "Epoch 17/20\n",
            "170/170 [==============================] - 0s 2ms/step - loss: 0.3966 - accuracy: 0.8097\n",
            "Epoch 18/20\n",
            "170/170 [==============================] - 0s 3ms/step - loss: 0.3966 - accuracy: 0.8094\n",
            "Epoch 19/20\n",
            "170/170 [==============================] - 0s 2ms/step - loss: 0.3966 - accuracy: 0.8089\n",
            "Epoch 20/20\n",
            "170/170 [==============================] - 0s 2ms/step - loss: 0.3966 - accuracy: 0.8096\n"
          ]
        },
        {
          "output_type": "display_data",
          "data": {
            "text/plain": [
              "<Figure size 640x480 with 1 Axes>"
            ],
            "image/png": "[encoded data removed]"
          },
          "metadata": {}
        }
      ]
    },
    {
      "cell_type": "markdown",
      "source": [
        "## مدل را در مقابل مجموعه تست ارزیابی کنید\n",
        "\n",
        "در پایان آموزش مدل، شما با دقت خاصی در برابر *مجموعه آموزشی* مواجه شدید. برای تعیین دقت مدل خود در برابر *مجموعه تست*، سلول کد زیر را فراخوانی کنید."
      ],
      "metadata": {
        "id": "cjTPuvYsdCpj"
      }
    },
    {
      "cell_type": "code",
      "source": [
        "features = {name:np.array(value) for name,value in test_df_norm.items()}\n",
        "label = np.array(features.pop(label_name))\n",
        "\n",
        "my_model.evaluate(x = features, y = label, batch_size=batch_size)"
      ],
      "metadata": {
        "colab": {
          "base_uri": "https://localhost:8080/"
        },
        "id": "LZmSOyztdG9N",
        "outputId": "6482d511-d514-4798-8593-a70ecc94335b"
      },
      "execution_count": null,
      "outputs": [
        {
          "output_type": "stream",
          "name": "stdout",
          "text": [
            "30/30 [==============================] - 0s 2ms/step - loss: 0.6539 - accuracy: 0.6910\n"
          ]
        },
        {
          "output_type": "stream",
          "name": "stderr",
          "text": [
            "/usr/local/lib/python3.10/dist-packages/keras/src/engine/functional.py:642: UserWarning: Input dict contained keys ['longitude', 'latitude', 'housing_median_age', 'total_bedrooms', 'population', 'households', 'median_house_value'] which did not match any model input. They will be ignored by the model.\n",
            "  inputs = self._flatten_to_reference_inputs(inputs)\n"
          ]
        },
        {
          "output_type": "execute_result",
          "data": {
            "text/plain": [
              "[0.6539024114608765, 0.6909999847412109]"
            ]
          },
          "metadata": {},
          "execution_count": 11
        }
      ]
    },
    {
      "cell_type": "markdown",
      "source": [
        "##تمرین2 : مدل واقعی چقدر دقیق است؟"
      ],
      "metadata": {
        "id": "U8QjNICzUS2i"
      }
    },
    {
      "cell_type": "code",
      "source": [
        "#@title برای پاسخ احتمالی به Task 2 دوبار کلیک کنید.\n",
        "\n",
        "# یک مدل کامل می تواند پیش بینی های 100٪ دقیق را انجام دهد.\n",
        "# مدل ما 70٪ پیش بینی های دقیق انجام می دهد. 70 درصد صداها\n",
        "# خوب است، اما توجه داشته باشید که مدلی که همیشه حدس می زند\n",
        "# \"میانگین_ارزش_خانه_بالا_نادرست است\" 75% خواهد بود.\n",
        "# دقیق."
      ],
      "metadata": {
        "id": "00W1dPriUxG4"
      },
      "execution_count": null,
      "outputs": []
    },
    {
      "cell_type": "markdown",
      "source": [
        "##تمرین 3: افزودن معیارهای دقت و فراخوان\n",
        "\n",
        "\n",
        "تکیه صرف به دقت، به ویژه برای مجموعه داده های نامتعادل طبقاتی (مانند مجموعه ما)، می تواند روش ضعیفی برای قضاوت در مورد مدل طبقه بندی باشد. کد موجود در سلول کد زیر را تغییر دهید تا مدل بتواند نه تنها دقت، بلکه دقت و یادآوری را نیز اندازه گیری کند. ما داریم\n",
        "دقت و دقت اضافه شده؛ وظیفه شما اضافه کردن یادآوری است. برای جزئیات به [مرجع TensorFlow](https://www.tensorflow.org/api_docs/python/tf/keras/metrics/Recall) مراجعه کنید.\n"
      ],
      "metadata": {
        "id": "7eqzhgDfkGzl"
      }
    },
    {
      "cell_type": "code",
      "source": [
        "#@title برای پاسخ احتمالی به Task 3 دوبار کلیک کنید.\n",
        "# متغیرهای زیر ابرپارامترها هستند.\n",
        "learning_rate = 0.001\n",
        "epochs = 20\n",
        "batch_size = 100\n",
        "\n",
        "classification_threshold = 0.35\n",
        "label_name = 'median_house_value_is_high'\n",
        "\n",
        "\n",
        "\n",
        "# معیارهایی را که مدل اندازه گیری می کند، تعیین کنید.\n",
        "METRICS = [\n",
        "      tf.keras.metrics.BinaryAccuracy(name='accuracy',\n",
        "                                      threshold=classification_threshold),\n",
        "      tf.keras.metrics.Precision(thresholds=classification_threshold,\n",
        "                                 name='precision'\n",
        "                                 ),\n",
        "      tf.keras.metrics.Recall(thresholds=classification_threshold,\n",
        "                              name=\"recall\"),\n",
        "]\n",
        "\n",
        "# توپوگرافی مدل را تعیین کنید.\n",
        "my_model = create_model(inputs, learning_rate, METRICS)\n",
        "\n",
        "\n",
        "\n",
        "# آموزش مدل روی مجموعه آموزشی.\n",
        "epochs, hist = train_model(my_model, train_df_norm, epochs,\n",
        "                            label_name, batch_size)\n",
        "\n",
        "# نموداری از متریک(ها) در مقابل دوره ها را رسم کنید.\n",
        "\n",
        "list_of_metrics_to_plot = ['accuracy','precision','recall']\n",
        "plot_curve(epochs, hist, list_of_metrics_to_plot)\n",
        "\n",
        "# نمودارهای جدید نشان می دهد که دقت و یادآوری هستند\n",
        "# تا حدودی در تضاد. یعنی بهبودهایی در یکی از\n",
        "# آن معیارها ممکن است به معیار دیگر آسیب برساند."
      ],
      "metadata": {
        "id": "sBG9ujvAlmpC",
        "colab": {
          "base_uri": "https://localhost:8080/",
          "height": 1000
        },
        "outputId": "d2958f88-9b10-496c-9075-bd588b2c09e0"
      },
      "execution_count": null,
      "outputs": [
        {
          "output_type": "stream",
          "name": "stdout",
          "text": [
            "Epoch 1/20\n"
          ]
        },
        {
          "output_type": "stream",
          "name": "stderr",
          "text": [
            "/usr/local/lib/python3.10/dist-packages/keras/src/engine/functional.py:642: UserWarning: Input dict contained keys ['longitude', 'latitude', 'housing_median_age', 'total_bedrooms', 'population', 'households', 'median_house_value'] which did not match any model input. They will be ignored by the model.\n",
            "  inputs = self._flatten_to_reference_inputs(inputs)\n"
          ]
        },
        {
          "output_type": "stream",
          "name": "stdout",
          "text": [
            "170/170 [==============================] - 1s 2ms/step - loss: 0.5368 - accuracy: 0.5509 - precision: 0.3501 - recall: 0.9320\n",
            "Epoch 2/20\n",
            "170/170 [==============================] - 0s 2ms/step - loss: 0.4982 - accuracy: 0.6291 - precision: 0.3920 - recall: 0.8802\n",
            "Epoch 3/20\n",
            "170/170 [==============================] - 0s 2ms/step - loss: 0.4685 - accuracy: 0.6796 - precision: 0.4277 - recall: 0.8354\n",
            "Epoch 4/20\n",
            "170/170 [==============================] - 0s 2ms/step - loss: 0.4454 - accuracy: 0.7194 - precision: 0.4639 - recall: 0.7926\n",
            "Epoch 5/20\n",
            "170/170 [==============================] - 0s 2ms/step - loss: 0.4277 - accuracy: 0.7444 - precision: 0.4924 - recall: 0.7516\n",
            "Epoch 6/20\n",
            "170/170 [==============================] - 0s 2ms/step - loss: 0.4150 - accuracy: 0.7684 - precision: 0.5270 - recall: 0.7092\n",
            "Epoch 7/20\n",
            "170/170 [==============================] - 0s 2ms/step - loss: 0.4063 - accuracy: 0.7836 - precision: 0.5544 - recall: 0.6814\n",
            "Epoch 8/20\n",
            "170/170 [==============================] - 0s 2ms/step - loss: 0.4014 - accuracy: 0.7950 - precision: 0.5789 - recall: 0.6583\n",
            "Epoch 9/20\n",
            "170/170 [==============================] - 0s 2ms/step - loss: 0.3988 - accuracy: 0.8015 - precision: 0.5957 - recall: 0.6397\n",
            "Epoch 10/20\n",
            "170/170 [==============================] - 0s 2ms/step - loss: 0.3976 - accuracy: 0.8053 - precision: 0.6062 - recall: 0.6299\n",
            "Epoch 11/20\n",
            "170/170 [==============================] - 0s 2ms/step - loss: 0.3971 - accuracy: 0.8067 - precision: 0.6115 - recall: 0.6207\n",
            "Epoch 12/20\n",
            "170/170 [==============================] - 0s 2ms/step - loss: 0.3968 - accuracy: 0.8075 - precision: 0.6142 - recall: 0.6167\n",
            "Epoch 13/20\n",
            "170/170 [==============================] - 0s 2ms/step - loss: 0.3967 - accuracy: 0.8085 - precision: 0.6171 - recall: 0.6155\n",
            "Epoch 14/20\n",
            "170/170 [==============================] - 0s 2ms/step - loss: 0.3967 - accuracy: 0.8084 - precision: 0.6167 - recall: 0.6155\n",
            "Epoch 15/20\n",
            "170/170 [==============================] - 0s 2ms/step - loss: 0.3966 - accuracy: 0.8091 - precision: 0.6186 - recall: 0.6148\n",
            "Epoch 16/20\n",
            "170/170 [==============================] - 0s 2ms/step - loss: 0.3966 - accuracy: 0.8089 - precision: 0.6180 - recall: 0.6155\n",
            "Epoch 17/20\n",
            "170/170 [==============================] - 0s 2ms/step - loss: 0.3966 - accuracy: 0.8089 - precision: 0.6184 - recall: 0.6143\n",
            "Epoch 18/20\n",
            "170/170 [==============================] - 0s 2ms/step - loss: 0.3966 - accuracy: 0.8087 - precision: 0.6176 - recall: 0.6153\n",
            "Epoch 19/20\n",
            "170/170 [==============================] - 0s 2ms/step - loss: 0.3966 - accuracy: 0.8092 - precision: 0.6191 - recall: 0.6143\n",
            "Epoch 20/20\n",
            "170/170 [==============================] - 0s 2ms/step - loss: 0.3966 - accuracy: 0.8096 - precision: 0.6200 - recall: 0.6148\n"
          ]
        },
        {
          "output_type": "display_data",
          "data": {
            "text/plain": [
              "<Figure size 640x480 with 1 Axes>"
            ],
            "image/png": "[encoded data removed]"
          },
          "metadata": {}
        }
      ]
    },
    {
      "cell_type": "markdown",
      "source": [
        "## تمرین4: برای طبقه بندی آستانه را تجربه کسب کن\n",
        "\n",
        "\n",
        "مقادیر مختلف `classification_threshold` را در سلول کد در «فراخوانی توابع ایجاد، آموزش و ترسیم» آزمایش کنید. کدام مقدار `classification_threshold` بالاترین دقت را ایجاد می‌کند؟"
      ],
      "metadata": {
        "id": "gKjnerUQln2b"
      }
    },
    {
      "cell_type": "code",
      "source": [
        "#@title برای پاسخ احتمالی به Task 4 دوبار کلیک کنید.\n",
        "# متغیرهای زیر ابرپارامترها هستند.\n",
        "learning_rate = 0.001\n",
        "epochs = 20\n",
        "batch_size = 100\n",
        "\n",
        "classification_threshold = 0.52\n",
        "label_name = 'median_house_value_is_high'\n",
        "\n",
        "\n",
        "\n",
        "# معیارهایی را که مدل اندازه گیری می کند، تعیین کنید.\n",
        "METRICS = [\n",
        "      tf.keras.metrics.BinaryAccuracy(name='accuracy',\n",
        "                                      threshold=classification_threshold),\n",
        "      tf.keras.metrics.Precision(thresholds=classification_threshold,\n",
        "                                 name='precision'\n",
        "                                 ),\n",
        "      tf.keras.metrics.Recall(thresholds=classification_threshold,\n",
        "                              name=\"recall\"),\n",
        "]\n",
        "\n",
        "# توپوگرافی مدل را تعیین کنید.\n",
        "my_model = create_model(inputs, learning_rate, METRICS)\n",
        "\n",
        "\n",
        "\n",
        "# آموزش مدل روی مجموعه آموزشی.\n",
        "epochs, hist = train_model(my_model, train_df_norm, epochs,\n",
        "                            label_name, batch_size)\n",
        "\n",
        "# نموداری از متریک(ها) در مقابل دوره ها را رسم کنید.\n",
        "\n",
        "list_of_metrics_to_plot = ['accuracy','precision','recall']\n",
        "plot_curve(epochs, hist, list_of_metrics_to_plot)\n",
        "\n",
        "# `classification_threshold` کمی بیش از 0.5\n",
        "#به نظر می رسد بالاترین دقت (حدود 83٪) را ایجاد می کند.\n",
        "# افزایش `classification_threshold` به 0.9 افت\n",
        "# دقت در حدود 5٪. پایین آوردن\n",
        "# `classification_threshold` تا 0.3 دقت را کاهش می‌دهد\n",
        "# حدود 3 درصد"
      ],
      "metadata": {
        "id": "Nd5vCyifm-ec",
        "colab": {
          "base_uri": "https://localhost:8080/",
          "height": 1000
        },
        "outputId": "74636ddc-506b-41dc-bfae-5fdc50523b4f"
      },
      "execution_count": null,
      "outputs": [
        {
          "output_type": "stream",
          "name": "stdout",
          "text": [
            "Epoch 1/20\n"
          ]
        },
        {
          "output_type": "stream",
          "name": "stderr",
          "text": [
            "/usr/local/lib/python3.10/dist-packages/keras/src/engine/functional.py:642: UserWarning: Input dict contained keys ['longitude', 'latitude', 'housing_median_age', 'total_bedrooms', 'population', 'households', 'median_house_value'] which did not match any model input. They will be ignored by the model.\n",
            "  inputs = self._flatten_to_reference_inputs(inputs)\n"
          ]
        },
        {
          "output_type": "stream",
          "name": "stdout",
          "text": [
            "170/170 [==============================] - 1s 2ms/step - loss: 0.6178 - accuracy: 0.7141 - precision: 0.4488 - recall: 0.6332\n",
            "Epoch 2/20\n",
            "170/170 [==============================] - 0s 2ms/step - loss: 0.5466 - accuracy: 0.7885 - precision: 0.5760 - recall: 0.5809\n",
            "Epoch 3/20\n",
            "170/170 [==============================] - 0s 2ms/step - loss: 0.4940 - accuracy: 0.8138 - precision: 0.6490 - recall: 0.5550\n",
            "Epoch 4/20\n",
            "170/170 [==============================] - 0s 2ms/step - loss: 0.4574 - accuracy: 0.8255 - precision: 0.6926 - recall: 0.5423\n",
            "Epoch 5/20\n",
            "170/170 [==============================] - 0s 2ms/step - loss: 0.4337 - accuracy: 0.8303 - precision: 0.7185 - recall: 0.5272\n",
            "Epoch 6/20\n",
            "170/170 [==============================] - 0s 2ms/step - loss: 0.4180 - accuracy: 0.8329 - precision: 0.7383 - recall: 0.5128\n",
            "Epoch 7/20\n",
            "170/170 [==============================] - 0s 2ms/step - loss: 0.4084 - accuracy: 0.8332 - precision: 0.7538 - recall: 0.4938\n",
            "Epoch 8/20\n",
            "170/170 [==============================] - 0s 2ms/step - loss: 0.4027 - accuracy: 0.8347 - precision: 0.7678 - recall: 0.4850\n",
            "Epoch 9/20\n",
            "170/170 [==============================] - 0s 2ms/step - loss: 0.3995 - accuracy: 0.8359 - precision: 0.7818 - recall: 0.4759\n",
            "Epoch 10/20\n",
            "170/170 [==============================] - 0s 2ms/step - loss: 0.3980 - accuracy: 0.8361 - precision: 0.7877 - recall: 0.4709\n",
            "Epoch 11/20\n",
            "170/170 [==============================] - 0s 2ms/step - loss: 0.3973 - accuracy: 0.8365 - precision: 0.7882 - recall: 0.4723\n",
            "Epoch 12/20\n",
            "170/170 [==============================] - 0s 2ms/step - loss: 0.3970 - accuracy: 0.8361 - precision: 0.7879 - recall: 0.4704\n",
            "Epoch 13/20\n",
            "170/170 [==============================] - 0s 3ms/step - loss: 0.3968 - accuracy: 0.8361 - precision: 0.7882 - recall: 0.4704\n",
            "Epoch 14/20\n",
            "170/170 [==============================] - 0s 3ms/step - loss: 0.3967 - accuracy: 0.8359 - precision: 0.7870 - recall: 0.4707\n",
            "Epoch 15/20\n",
            "170/170 [==============================] - 0s 3ms/step - loss: 0.3966 - accuracy: 0.8355 - precision: 0.7837 - recall: 0.4719\n",
            "Epoch 16/20\n",
            "170/170 [==============================] - 1s 3ms/step - loss: 0.3966 - accuracy: 0.8358 - precision: 0.7853 - recall: 0.4719\n",
            "Epoch 17/20\n",
            "170/170 [==============================] - 1s 3ms/step - loss: 0.3966 - accuracy: 0.8359 - precision: 0.7851 - recall: 0.4723\n",
            "Epoch 18/20\n",
            "170/170 [==============================] - 0s 3ms/step - loss: 0.3966 - accuracy: 0.8365 - precision: 0.7847 - recall: 0.4763\n",
            "Epoch 19/20\n",
            "170/170 [==============================] - 0s 3ms/step - loss: 0.3966 - accuracy: 0.8364 - precision: 0.7892 - recall: 0.4707\n",
            "Epoch 20/20\n",
            "170/170 [==============================] - 0s 3ms/step - loss: 0.3966 - accuracy: 0.8359 - precision: 0.7812 - recall: 0.4766\n"
          ]
        },
        {
          "output_type": "display_data",
          "data": {
            "text/plain": [
              "<Figure size 640x480 with 1 Axes>"
            ],
            "image/png": "[encoded data removed]"
          },
          "metadata": {}
        }
      ]
    },
    {
      "cell_type": "markdown",
      "source": [
        "\n",
        "## تمرین 5: عملکرد مدل را خلاصه کنید (اگر زمان اجازه دهد)\n",
        "\n",
        "اگر زمان اجازه می‌دهد، یک معیار دیگر اضافه کنید که تلاش می‌کند عملکرد کلی مدل را خلاصه کند."
      ],
      "metadata": {
        "id": "ogr7iIpNnQgT"
      }
    },
    {
      "cell_type": "code",
      "source": [
        "#@title برای پاسخ احتمالی به Task 5 دوبار کلیک کنید.\n",
        "\n",
        "# متغیرهای زیر ابرپارامترها هستند.\n",
        "learning_rate = 0.001\n",
        "epochs = 20\n",
        "batch_size = 100\n",
        "\n",
        "classification_threshold = 0.35\n",
        "label_name = 'median_house_value_is_high'\n",
        "\n",
        "\n",
        "\n",
        "# AUC یک معیار \"خلاصه\" معقول برای است\n",
        "# مدل های طبقه بندی\n",
        "# در اینجا تعریف به روز شده METRICS به است\n",
        "# اندازه گیری AUC:\n",
        "METRICS = [\n",
        "      tf.keras.metrics.AUC(num_thresholds=100,\n",
        "                                 name='auc'\n",
        "                                 ),\n",
        "]\n",
        "# توپوگرافی مدل را تعیین کنید.\n",
        "my_model = create_model(inputs, learning_rate, METRICS)\n",
        "\n",
        "\n",
        "\n",
        "# آموزش مدل روی مجموعه آموزشی.\n",
        "epochs, hist = train_model(my_model, train_df_norm, epochs,\n",
        "                            label_name, batch_size)\n",
        "\n",
        "# نموداری از متریک(ها) در مقابل دوره ها را رسم کنید.\n",
        "\n",
        "list_of_metrics_to_plot = ['auc']\n",
        "plot_curve(epochs, hist, list_of_metrics_to_plot)\n",
        "\n",
        "# نمودارهای جدید نشان می دهد که دقت و یادآوری هستند\n",
        "# تا حدودی در تضاد. یعنی بهبودهایی در یکی از\n",
        "# آن معیارها ممکن است به معیار دیگر آسیب برساند."
      ],
      "metadata": {
        "colab": {
          "base_uri": "https://localhost:8080/",
          "height": 1000
        },
        "id": "Wx7B1u7XZbdl",
        "outputId": "8a665493-12f9-4a20-d6bf-2d9e2d5fd009"
      },
      "execution_count": null,
      "outputs": [
        {
          "output_type": "stream",
          "name": "stdout",
          "text": [
            "Epoch 1/20\n"
          ]
        },
        {
          "output_type": "stream",
          "name": "stderr",
          "text": [
            "/usr/local/lib/python3.10/dist-packages/keras/src/engine/functional.py:642: UserWarning: Input dict contained keys ['longitude', 'latitude', 'housing_median_age', 'total_bedrooms', 'population', 'households', 'median_house_value'] which did not match any model input. They will be ignored by the model.\n",
            "  inputs = self._flatten_to_reference_inputs(inputs)\n"
          ]
        },
        {
          "output_type": "stream",
          "name": "stdout",
          "text": [
            "170/170 [==============================] - 1s 2ms/step - loss: 0.8255 - auc: 0.3624\n",
            "Epoch 2/20\n",
            "170/170 [==============================] - 0s 2ms/step - loss: 0.7356 - auc: 0.4086\n",
            "Epoch 3/20\n",
            "170/170 [==============================] - 0s 2ms/step - loss: 0.6568 - auc: 0.4937\n",
            "Epoch 4/20\n",
            "170/170 [==============================] - 0s 3ms/step - loss: 0.5905 - auc: 0.6351\n",
            "Epoch 5/20\n",
            "170/170 [==============================] - 0s 3ms/step - loss: 0.5374 - auc: 0.7462\n",
            "Epoch 6/20\n",
            "170/170 [==============================] - 0s 3ms/step - loss: 0.4967 - auc: 0.7963\n",
            "Epoch 7/20\n",
            "170/170 [==============================] - 0s 3ms/step - loss: 0.4665 - auc: 0.8191\n",
            "Epoch 8/20\n",
            "170/170 [==============================] - 0s 3ms/step - loss: 0.4449 - auc: 0.8284\n",
            "Epoch 9/20\n",
            "170/170 [==============================] - 0s 3ms/step - loss: 0.4292 - auc: 0.8330\n",
            "Epoch 10/20\n",
            "170/170 [==============================] - 0s 2ms/step - loss: 0.4178 - auc: 0.8347\n",
            "Epoch 11/20\n",
            "170/170 [==============================] - 0s 3ms/step - loss: 0.4096 - auc: 0.8357\n",
            "Epoch 12/20\n",
            "170/170 [==============================] - 0s 3ms/step - loss: 0.4041 - auc: 0.8362\n",
            "Epoch 13/20\n",
            "170/170 [==============================] - 0s 2ms/step - loss: 0.4006 - auc: 0.8365\n",
            "Epoch 14/20\n",
            "170/170 [==============================] - 0s 2ms/step - loss: 0.3987 - auc: 0.8368\n",
            "Epoch 15/20\n",
            "170/170 [==============================] - 0s 2ms/step - loss: 0.3976 - auc: 0.8367\n",
            "Epoch 16/20\n",
            "170/170 [==============================] - 0s 2ms/step - loss: 0.3971 - auc: 0.8368\n",
            "Epoch 17/20\n",
            "170/170 [==============================] - 0s 2ms/step - loss: 0.3969 - auc: 0.8369\n",
            "Epoch 18/20\n",
            "170/170 [==============================] - 0s 2ms/step - loss: 0.3967 - auc: 0.8367\n",
            "Epoch 19/20\n",
            "170/170 [==============================] - 0s 2ms/step - loss: 0.3967 - auc: 0.8367\n",
            "Epoch 20/20\n",
            "170/170 [==============================] - 0s 2ms/step - loss: 0.3967 - auc: 0.8368\n"
          ]
        },
        {
          "output_type": "display_data",
          "data": {
            "text/plain": [
              "<Figure size 640x480 with 1 Axes>"
            ],
            "image/png": "[encoded data removed]"
          },
          "metadata": {}
        }
      ]
    }
  ]
}