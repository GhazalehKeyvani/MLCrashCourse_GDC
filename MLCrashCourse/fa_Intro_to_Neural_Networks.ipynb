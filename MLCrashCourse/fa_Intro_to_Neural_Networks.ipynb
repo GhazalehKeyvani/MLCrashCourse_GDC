{
  "nbformat": 4,
  "nbformat_minor": 0,
  "metadata": {
    "colab": {
      "provenance": [],
      "authorship_tag": "ABX9TyMjcYTFNBYkUXQcgBLYoa2x",
      "include_colab_link": true
    },
    "kernelspec": {
      "name": "python3",
      "display_name": "Python 3"
    },
    "language_info": {
      "name": "python"
    }
  },
  "cells": [
    {
      "cell_type": "markdown",
      "metadata": {
        "id": "view-in-github",
        "colab_type": "text"
      },
      "source": [
        "<a href=\"https://colab.research.google.com/github/GhazalehKeyvani/Avina/blob/main/MLCrashCourse/fa_Intro_to_Neural_Networks.ipynb\" target=\"_parent\"><img src=\"https://colab.research.google.com/assets/colab-badge.svg\" alt=\"Open In Colab\"/></a>"
      ]
    },
    {
      "cell_type": "markdown",
      "source": [
        "#معرفی شبکه ی عصبی"
      ],
      "metadata": {
        "id": "jv7FOquxuGfN"
      }
    },
    {
      "cell_type": "markdown",
      "source": [
        "##اهداف یادگیری\n",
        "\n",
        "\n",
        "\n",
        "*   ایجاد یک شبکه ی عصبی عمیق ساده\n",
        "\n",
        "*   هایپر پارامترها را برای یک شبکه عصبی عمیق هماهنگ و تنظیم کنید\n",
        "\n"
      ],
      "metadata": {
        "id": "9zXTe4lkuWsx"
      }
    },
    {
      "cell_type": "markdown",
      "source": [],
      "metadata": {
        "id": "Z5QfnNrZvRcS"
      }
    },
    {
      "cell_type": "markdown",
      "source": [
        "## ماژول های مربوطه را وارد کنید\n",
        "\n",
        "سلول کد مخفی زیر کد لازم را برای اجرای کد در بقیه قسمت های این آزمایشگاه وارد می کند."
      ],
      "metadata": {
        "id": "uRd9FZJxvkwt"
      }
    },
    {
      "cell_type": "code",
      "source": [
        "#@title Import relevant modules\n",
        "import numpy as np\n",
        "import pandas as pd\n",
        "import tensorflow as tf\n",
        "from matplotlib import pyplot as plt\n",
        "\n",
        "import seaborn as sns\n",
        "\n",
        "# The following lines adjust the granularity of reporting.\n",
        "pd.options.display.max_rows = 10\n",
        "pd.options.display.float_format = \"{:.1f}\".format\n",
        "\n",
        "print(\"Imported modules.\")"
      ],
      "metadata": {
        "cellView": "form",
        "id": "D5O00JJ0wFUn",
        "colab": {
          "base_uri": "https://localhost:8080/"
        },
        "outputId": "f967760c-297e-49a5-acf9-154d63d45510"
      },
      "execution_count": null,
      "outputs": [
        {
          "output_type": "stream",
          "name": "stdout",
          "text": [
            "Imported modules.\n"
          ]
        }
      ]
    },
    {
      "cell_type": "markdown",
      "source": [
        "##مجموعه داده ها را از اینترنت بارگیری کنید\n",
        "سلول کد زیر فایل‌های csv. جداگانه را بارگیری می‌کند و دو پاندای DataFrame زیر را ایجاد می‌کند:\n",
        "\n",
        "*    train_df که شامل مجموعه آموزشی است\n",
        "*    test_df که شامل مجموعه تست است"
      ],
      "metadata": {
        "id": "HZGraKiKwiJW"
      }
    },
    {
      "cell_type": "code",
      "execution_count": null,
      "metadata": {
        "id": "VRmBIQJ1_yrz"
      },
      "outputs": [],
      "source": [
        "train_df = pd.read_csv(\"https://download.mlcc.google.com/mledu-datasets/california_housing_train.csv\")\n",
        "train_df = train_df.reindex(np.random.permutation(train_df.index)) # shuffle the examples\n",
        "test_df = pd.read_csv(\"https://download.mlcc.google.com/mledu-datasets/california_housing_test.csv\")"
      ]
    },
    {
      "cell_type": "markdown",
      "source": [
        "\n",
        "\n",
        "## نمایش داده ها\n",
        "\n",
        "سلول کد زیر لایه های پیش پردازشی را ایجاد می کند که خروجی سه ویژگی دارد:\n",
        "\n",
        "* \"طول جغرافیایی\" X \"طول جغرافیایی\" (feature cross)\n",
        "* «درآمد_متوسط».\n",
        "* \"جمعیت\"\n",
        "\n",
        "این سلول کد ویژگی هایی را که در نهایت به مدل آموزش می دهید و نحوه نمایش هر یک از آن ویژگی ها را مشخص می کند. تبدیل‌ها (جمع‌آوری‌شده در «prepocessing_layers») تا زمانی که یک DataFrame را به آن ارسال نکنید، اعمال نمی‌شوند، که وقتی مدل را آموزش می‌دهیم اتفاق می‌افتد.\n",
        "\n",
        "ما از «لایه‌های پیش پردازش» هم برای مدل رگرسیون خطی و هم برای مدل شبکه عصبی خود استفاده خواهیم کرد.\n",
        "\n",
        "(ابزار [`keras.FeatureSpace`](https://keras.io/examples/structured_data/structured_data_classification_with_feature_space) جایگزینی برای ساخت لایه‌های پیش‌پردازش فردی Keras ارائه می‌کند -- اگر احساس ماجراجویی می‌کنید، آن را امتحان کنید!)"
      ],
      "metadata": {
        "id": "pX_CoxhIxN0H"
      }
    },
    {
      "cell_type": "code",
      "source": [
        "# Keras تنسورهای ورودی مقادیر شناور.\n",
        "inputs = {\n",
        "    'latitude':\n",
        "        tf.keras.layers.Input(shape=(1,), dtype=tf.float32,\n",
        "                              name='latitude'),\n",
        "    'longitude':\n",
        "        tf.keras.layers.Input(shape=(1,), dtype=tf.float32,\n",
        "                              name='longitude'),\n",
        "    'median_income':\n",
        "        tf.keras.layers.Input(shape=(1,), dtype=tf.float32,\n",
        "                              name='median_income'),\n",
        "    'population':\n",
        "        tf.keras.layers.Input(shape=(1,), dtype=tf.float32,\n",
        "                              name='population')\n",
        "}\n",
        "\n",
        "# یک لایه Normalization برای نرمال سازی داده های_درآمد متوسط ایجاد کنید.\n",
        "median_income = tf.keras.layers.Normalization(\n",
        "     name='normalization_median_comme',\n",
        "     axis=None)\n",
        "median_income.adapt(train_df['median_income'])\n",
        "median_income = median_income(inputs.get('median_income'))\n",
        "\n",
        "# یک لایه Normalization برای عادی سازی داده های جمعیت ایجاد کنید.\n",
        "population = tf.keras.layers.Normalization(\n",
        "     name='normalization_population',\n",
        "     axis=None)\n",
        "population.adapt(train_df['population'])\n",
        "population = population(inputs.get('population'))\n",
        "\n",
        "# فهرستی از اعداد که مرزهای سطل را برای عرض جغرافیایی نشان می دهد ایجاد کنید.\n",
        "# چون ما از یک لایه Normalization، مقادیر برای طول و عرض جغرافیایی استفاده می کنیم\n",
        "# تقریباً در محدوده 3- تا 3 (نماینده امتیاز Z) خواهد بود.\n",
        "# ما 20 سطل ایجاد می کنیم که به 21 مرز سطل نیاز دارد (بنابراین، 20+1).\n",
        "latitude_boundaries = np.linspace(-3, 3, 20+1)\n",
        "\n",
        "# یک لایه Normalization برای عادی سازی داده های عرض جغرافیایی ایجاد کنید.\n",
        "latitude = tf.keras.layers.Normalization(\n",
        "     name='normalization_latitude',\n",
        "     axis=None)\n",
        "latitude.adapt(train_df['latitude'])\n",
        "latitude =latitude(inputs.get('latitude'))\n",
        "\n",
        "# یک لایه Discretization ایجاد کنید تا داده های عرض جغرافیایی را در سطل ها جدا کنید.\n",
        "latitude = tf.keras.layers.Discretization(\n",
        "    bin_boundaries=latitude_boundaries,\n",
        "    name='discretization_latitude')(latitude)\n",
        "\n",
        "# فهرستی از اعداد که مرزهای سطل را برای طول جغرافیایی نشان می دهند ایجاد کنید.\n",
        "longitude_boundaries = np.linspace(-3, 3, 20+1)\n",
        "\n",
        "# یک لایه Normalization برای عادی سازی داده های طول جغرافیایی ایجاد کنید.\n",
        "longitude = tf.keras.layers.Normalization(\n",
        "    name='normalization_longitude',\n",
        "    axis=None)\n",
        "longitude.adapt(train_df['longitude'])\n",
        "longitude = longitude(inputs.get('longitude'))\n",
        "\n",
        "# یک لایه Discretization ایجاد کنید تا داده های طول جغرافیایی را در سطل ها جدا کنید.\n",
        "longitude = tf.keras.layers.Discretization(\n",
        "    bin_boundaries=longitude_boundaries,\n",
        "    name='discretization_longitude')(longitude)\n",
        "\n",
        "# ویژگی های طول و عرض جغرافیایی را در یک بردار تک داغ رد کنید.\n",
        "feature_cross = tf.keras.layers.HashedCrossing(\n",
        "     # num_bins قابل تنظیم است: مقادیر بالاتر دقت را بهبود می بخشد، مقادیر کمتر\n",
        "     # بهبود کارایی.\n",
        "    num_bins=len(latitude_boundaries) * len(longitude_boundaries),\n",
        "    output_mode='one_hot',\n",
        "    name='cross_latitude_longitude')([latitude, longitude])\n",
        "\n",
        "# ورودی های ما را به یک تنسور منفرد متصل کنید.\n",
        "preprocessing_layers = tf.keras.layers.Concatenate()(\n",
        "    [feature_cross, median_income, population])\n",
        "\n",
        "print (\"لایه های پیش پردازش تعریف شده است.\")"
      ],
      "metadata": {
        "id": "SOPHZJrHxYRW",
        "colab": {
          "base_uri": "https://localhost:8080/"
        },
        "outputId": "64d1d022-849c-4de2-e0c7-7341c9e41dd2"
      },
      "execution_count": null,
      "outputs": [
        {
          "output_type": "stream",
          "name": "stdout",
          "text": [
            "لایه های پیش پردازش تعریف شده است.\n"
          ]
        }
      ]
    },
    {
      "cell_type": "markdown",
      "source": [
        "## یک مدل رگرسیون خطی به عنوان خط پایه بسازید\n",
        "\n",
        "قبل از ایجاد یک شبکه عصبی عمیق، با اجرای یک مدل رگرسیون خطی ساده که از لایه‌های پیش پردازشی که ایجاد کرده‌اید استفاده می‌کند، یک فقدان [baseline](https://developers.google.com/machine-learning/glossary/#baseline) پیدا کنید."
      ],
      "metadata": {
        "id": "H5YQp9g6xZMI"
      }
    },
    {
      "cell_type": "code",
      "source": [
        "#@title Define the plotting function.\n",
        "\n",
        "def plot_the_loss_curve(epochs, mse_training, mse_validation):\n",
        "  \"\"\"Plot a curve of loss vs. epoch.\"\"\"\n",
        "\n",
        "  plt.figure()\n",
        "  plt.xlabel(\"Epoch\")\n",
        "  plt.ylabel(\"Mean Squared Error\")\n",
        "\n",
        "  plt.plot(epochs, mse_training, label=\"Training Loss\")\n",
        "  plt.plot(epochs, mse_validation, label=\"Validation Loss\")\n",
        "\n",
        "  # mse_training is a pandas Series, so convert it to a list first.\n",
        "  merged_mse_lists = mse_training.tolist() + mse_validation\n",
        "  highest_loss = max(merged_mse_lists)\n",
        "  lowest_loss = min(merged_mse_lists)\n",
        "  top_of_y_axis = highest_loss * 1.03\n",
        "  bottom_of_y_axis = lowest_loss * 0.97\n",
        "\n",
        "  plt.ylim([bottom_of_y_axis, top_of_y_axis])\n",
        "  plt.legend()\n",
        "  plt.show()\n",
        "\n",
        "print(\"Defined the plot_the_loss_curve function.\")"
      ],
      "metadata": {
        "id": "qKisp6MdybYu",
        "colab": {
          "base_uri": "https://localhost:8080/"
        },
        "outputId": "2440aa8b-42c4-4101-8e1a-aefc944c6db4"
      },
      "execution_count": null,
      "outputs": [
        {
          "output_type": "stream",
          "name": "stdout",
          "text": [
            "Defined the plot_the_loss_curve function.\n"
          ]
        }
      ]
    },
    {
      "cell_type": "code",
      "source": [
        "#@title Define functions to create and train a linear regression model\n",
        "def create_model(my_inputs, my_outputs, my_learning_rate):\n",
        "  \"\"\"Create and compile a simple linear regression model.\"\"\"\n",
        "  model = tf.keras.Model(inputs=my_inputs, outputs=my_outputs)\n",
        "\n",
        "  # Construct the layers into a model that TensorFlow can execute.\n",
        "  model.compile(optimizer=tf.keras.optimizers.Adam(\n",
        "      learning_rate=my_learning_rate),\n",
        "      loss=\"mean_squared_error\",\n",
        "      metrics=[tf.keras.metrics.MeanSquaredError()])\n",
        "\n",
        "  return model\n",
        "\n",
        "\n",
        "def train_model(model, dataset, epochs, batch_size, label_name, validation_split=0.1):\n",
        "  \"\"\"Feed a dataset into the model in order to train it.\"\"\"\n",
        "\n",
        "  # Split the dataset into features and label.\n",
        "  features = {name:np.array(value) for name, value in dataset.items()}\n",
        "  label = train_median_house_value_normalized(\n",
        "      np.array(features.pop(label_name)))\n",
        "  history = model.fit(x=features, y=label, batch_size=batch_size,\n",
        "                      epochs=epochs, shuffle=True, validation_split=validation_split)\n",
        "\n",
        "  # Get details that will be useful for plotting the loss curve.\n",
        "  epochs = history.epoch\n",
        "  hist = pd.DataFrame(history.history)\n",
        "  mse = hist[\"mean_squared_error\"]\n",
        "\n",
        "  return epochs, mse, history.history\n",
        "\n",
        "print(\"Defined the create_model and train_model functions.\")"
      ],
      "metadata": {
        "id": "asOGFzohybyG",
        "colab": {
          "base_uri": "https://localhost:8080/"
        },
        "outputId": "0e08124d-4fa6-4347-816d-0a2e544081b5"
      },
      "execution_count": null,
      "outputs": [
        {
          "output_type": "stream",
          "name": "stdout",
          "text": [
            "Defined the create_model and train_model functions.\n"
          ]
        }
      ]
    },
    {
      "cell_type": "code",
      "source": [
        "#@title Define normalized label columns\n",
        "# Create Normalization layers to normalize the median_house_value data.\n",
        "# Because median_house_value is our label (i.e., the target value we're\n",
        "# predicting), these layers won't be added to our model.\n",
        "train_median_house_value_normalized = tf.keras.layers.Normalization(axis=None)\n",
        "train_median_house_value_normalized.adapt(\n",
        "    np.array(train_df['median_house_value']))\n",
        "\n",
        "test_median_house_value_normalized = tf.keras.layers.Normalization(axis=None)\n",
        "test_median_house_value_normalized.adapt(\n",
        "    np.array(test_df['median_house_value']))\n"
      ],
      "metadata": {
        "id": "Rm8l0L1IybgC"
      },
      "execution_count": null,
      "outputs": []
    },
    {
      "cell_type": "code",
      "source": [
        "#@title Define linear regression model outputs\n",
        "def get_outputs_linear_regression():\n",
        "  # Create the Dense output layer.\n",
        "  dense_output = tf.keras.layers.Dense(units=1,\n",
        "                              name='dense_output')(preprocessing_layers)\n",
        "\n",
        "  # Define an output dictionary we'll send to the model constructor.\n",
        "  outputs = {\n",
        "    'dense_output': dense_output\n",
        "  }\n",
        "  return outputs"
      ],
      "metadata": {
        "id": "_ClH38zjyl7O"
      },
      "execution_count": null,
      "outputs": []
    },
    {
      "cell_type": "markdown",
      "source": [
        "سلول کد زیر را برای فراخوانی توابع تعریف شده در دو سلول کد قبلی اجرا کنید. (پیام های هشدار را نادیده بگیرید.)\n",
        "\n",
        "\n",
        "**توجه:**\n",
        "\n",
        " از آنجایی که ما تمام داده های ورودی، **از جمله برچسب** را مقیاس بندی کرده ایم، مقادیر تلفات به دست آمده *بسیار کمتر* از مدل های Colab های قبلی خواهد بود (به عنوان مثال، [Representation with a Feature Cross]( https://colab.sandbox.google.com/github/google/eng-edu/blob/main/ml/cc/exercises/representation_with_a_feature_cross.ipynb)).\n",
        "\n",
        "\n",
        "**توجه:**\n",
        "\n",
        "بسته به نسخه TensorFlow، اجرای این سلول ممکن است پیام های هشدار ایجاد کند. لطفا این هشدارها را نادیده بگیرید."
      ],
      "metadata": {
        "id": "lTueP92Yy5D2"
      }
    },
    {
      "cell_type": "code",
      "source": [
        "# متغیرهای زیر هایپرپارامترها هستند.\n",
        "learning_rate = 0.01\n",
        "epochs = 15\n",
        "batch_size = 1000\n",
        "label_name = \"median_house_value\"\n",
        "\n",
        "# مجموعه آموزشی اصلی را به یک مجموعه آموزشی کاهش یافته و یک\n",
        "# مجموعه اعتبارسنجی.\n",
        "validation_split = 0.2\n",
        "\n",
        "outputs = get_outputs_linear_regression()\n",
        "\n",
        "# توپوگرافی مدل را تعیین کنید.\n",
        "my_model = create_model(inputs, outputs, learning_rate)\n",
        "\n",
        "# مدل را روی مجموعه آموزشی نرمال شده آموزش دهید.\n",
        "epochs, mse, history = train_model(my_model, train_df, epochs, batch_size,\n",
        "                           label_name, validation_split)\n",
        "plot_the_loss_curve(epochs, mse, history[\"val_mean_squared_error\"])\n",
        "\n",
        "\n",
        "test_features = {name:np.array(value) for name, value in test_df.items()}\n",
        "test_label = test_median_house_value_normalized(test_features.pop(label_name)) # برچسب را جدا کنید\n",
        "print(\"\\n مدل رگرسیون خطی را در برابر مجموعه آزمایشی ارزیابی کنید:\")\n",
        "my_model.evaluate(x = test_features, y = test_label, batch_size=batch_size, return_dict=True)"
      ],
      "metadata": {
        "id": "v-ik44Tey53Y",
        "colab": {
          "base_uri": "https://localhost:8080/",
          "height": 1000
        },
        "outputId": "d4b10074-2a19-469d-cef9-55f33aec540d"
      },
      "execution_count": null,
      "outputs": [
        {
          "output_type": "stream",
          "name": "stdout",
          "text": [
            "Epoch 1/15\n"
          ]
        },
        {
          "output_type": "stream",
          "name": "stderr",
          "text": [
            "/usr/local/lib/python3.10/dist-packages/keras/src/engine/functional.py:642: UserWarning: Input dict contained keys ['housing_median_age', 'total_rooms', 'total_bedrooms', 'households'] which did not match any model input. They will be ignored by the model.\n",
            "  inputs = self._flatten_to_reference_inputs(inputs)\n"
          ]
        },
        {
          "output_type": "stream",
          "name": "stdout",
          "text": [
            "14/14 [==============================] - 2s 47ms/step - loss: 0.8545 - mean_squared_error: 0.8545 - val_loss: 0.7057 - val_mean_squared_error: 0.7057\n",
            "Epoch 2/15\n",
            "14/14 [==============================] - 0s 9ms/step - loss: 0.6186 - mean_squared_error: 0.6186 - val_loss: 0.5260 - val_mean_squared_error: 0.5260\n",
            "Epoch 3/15\n",
            "14/14 [==============================] - 0s 8ms/step - loss: 0.4749 - mean_squared_error: 0.4749 - val_loss: 0.4246 - val_mean_squared_error: 0.4246\n",
            "Epoch 4/15\n",
            "14/14 [==============================] - 0s 9ms/step - loss: 0.3992 - mean_squared_error: 0.3992 - val_loss: 0.3752 - val_mean_squared_error: 0.3752\n",
            "Epoch 5/15\n",
            "14/14 [==============================] - 0s 10ms/step - loss: 0.3629 - mean_squared_error: 0.3629 - val_loss: 0.3542 - val_mean_squared_error: 0.3542\n",
            "Epoch 6/15\n",
            "14/14 [==============================] - 0s 14ms/step - loss: 0.3486 - mean_squared_error: 0.3486 - val_loss: 0.3460 - val_mean_squared_error: 0.3460\n",
            "Epoch 7/15\n",
            "14/14 [==============================] - 0s 14ms/step - loss: 0.3428 - mean_squared_error: 0.3428 - val_loss: 0.3423 - val_mean_squared_error: 0.3423\n",
            "Epoch 8/15\n",
            "14/14 [==============================] - 0s 12ms/step - loss: 0.3404 - mean_squared_error: 0.3404 - val_loss: 0.3408 - val_mean_squared_error: 0.3408\n",
            "Epoch 9/15\n",
            "14/14 [==============================] - 0s 15ms/step - loss: 0.3390 - mean_squared_error: 0.3390 - val_loss: 0.3398 - val_mean_squared_error: 0.3398\n",
            "Epoch 10/15\n",
            "14/14 [==============================] - 0s 12ms/step - loss: 0.3383 - mean_squared_error: 0.3383 - val_loss: 0.3392 - val_mean_squared_error: 0.3392\n",
            "Epoch 11/15\n",
            "14/14 [==============================] - 0s 11ms/step - loss: 0.3377 - mean_squared_error: 0.3377 - val_loss: 0.3388 - val_mean_squared_error: 0.3388\n",
            "Epoch 12/15\n",
            "14/14 [==============================] - 0s 12ms/step - loss: 0.3376 - mean_squared_error: 0.3376 - val_loss: 0.3386 - val_mean_squared_error: 0.3386\n",
            "Epoch 13/15\n",
            "14/14 [==============================] - 0s 12ms/step - loss: 0.3371 - mean_squared_error: 0.3371 - val_loss: 0.3384 - val_mean_squared_error: 0.3384\n",
            "Epoch 14/15\n",
            "14/14 [==============================] - 0s 12ms/step - loss: 0.3370 - mean_squared_error: 0.3370 - val_loss: 0.3384 - val_mean_squared_error: 0.3384\n",
            "Epoch 15/15\n",
            "14/14 [==============================] - 0s 17ms/step - loss: 0.3370 - mean_squared_error: 0.3370 - val_loss: 0.3380 - val_mean_squared_error: 0.3380\n"
          ]
        },
        {
          "output_type": "display_data",
          "data": {
            "text/plain": [
              "<Figure size 640x480 with 1 Axes>"
            ],
            "image/png": "[encoded data removed]"
          },
          "metadata": {}
        },
        {
          "output_type": "stream",
          "name": "stdout",
          "text": [
            "\n",
            " مدل رگرسیون خطی را در برابر مجموعه آزمایشی ارزیابی کنید:\n",
            "3/3 [==============================] - 0s 14ms/step - loss: 0.3602 - mean_squared_error: 0.3602\n"
          ]
        },
        {
          "output_type": "execute_result",
          "data": {
            "text/plain": [
              "{'loss': 0.3602418601512909, 'mean_squared_error': 0.3602418601512909}"
            ]
          },
          "metadata": {},
          "execution_count": 43
        }
      ]
    },
    {
      "cell_type": "markdown",
      "source": [
        "## یک مدل شبکه عصبی عمیق را تعریف کنید\n",
        "\n",
        "تابع \"get_outputs_dnn\" توپوگرافی شبکه عصبی عمیق (DNN) را تعریف می کند و موارد زیر را مشخص می کند:\n",
        "\n",
        "* تعداد [لایه ها](https://developers.google.com/machine-learning/glossary/#layer) در شبکه عصبی عمیق.\n",
        "* تعداد [node](https://developers.google.com/machine-learning/glossary/#node) در هر لایه.\n",
        "\n",
        "تابع «get_outputs_dnn» همچنین [activation function](https://developers.google.com/machine-learning/glossary/#activation_function) هر لایه را تعریف می‌کند.\n",
        "\n",
        "اولین لایه «Dense» «لایه‌های پیش‌پردازش» تعریف‌شده قبلی را به عنوان ورودی می‌گیرد."
      ],
      "metadata": {
        "id": "qfnK-qHKzkAe"
      }
    },
    {
      "cell_type": "code",
      "source": [
        "def get_outputs_dnn():\n",
        "   # یک لایه متراکم با 20 گره ایجاد کنید.\n",
        "   dense_output = tf.keras.layers.Dense(units=20,\n",
        "                              activation='relu',\n",
        "                              name='hidden_dense_layer_1')(preprocessing_layers)\n",
        "   # یک لایه متراکم با 12 گره ایجاد کنید.\n",
        "   dense_output = tf.keras.layers.Dense(units=12,\n",
        "                              activation='relu',\n",
        "                              name='hidden_dense_layer_2')(dense_output)\n",
        "   # لایه خروجی متراکم را ایجاد کنید.\n",
        "   dense_output = tf.keras.layers.Dense(units=1,\n",
        "                               name='dense_output')(dense_output)\n",
        "\n",
        "   # دیکشنری خروجی تعریف کنید که برای سازنده مدل ارسال می کنیم.\n",
        "   outputs = {\n",
        "     'dense_output': dense_output\n",
        "   }\n",
        "\n",
        "   return outputs"
      ],
      "metadata": {
        "id": "pdB1vJN9zyqW"
      },
      "execution_count": null,
      "outputs": []
    },
    {
      "cell_type": "markdown",
      "source": [
        "## توابع را برای ساختن و آموزش شبکه عصبی عمیق فراخوانی کنید\n",
        "\n",
        "بسیار خوب، زمان آن فرا رسیده است که شبکه عصبی عمیق را آموزش دهیم. اگر زمان اجازه می‌دهد، با سه هایپرپارامتر آزمایش کنید تا ببینید آیا می‌توانید تلفات را کاهش دهید\n",
        "در مقابل مجموعه تست"
      ],
      "metadata": {
        "id": "wgtuhXF5zzYq"
      }
    },
    {
      "cell_type": "code",
      "source": [
        "# The following variables are the hyperparameters.\n",
        "learning_rate = 0.01\n",
        "epochs = 20\n",
        "batch_size = 1000\n",
        "\n",
        "# Specify the label\n",
        "label_name = \"median_house_value\"\n",
        "\n",
        "# Split the original training set into a reduced training set and a\n",
        "# validation set.\n",
        "validation_split = 0.2\n",
        "\n",
        "dnn_outputs = get_outputs_dnn()\n",
        "\n",
        "# Establish the model's topography.\n",
        "my_model = create_model(\n",
        "    inputs,\n",
        "    dnn_outputs,\n",
        "    learning_rate)\n",
        "\n",
        "# Train the model on the normalized training set. We're passing the entire\n",
        "# normalized training set, but the model will only use the features\n",
        "# defined in our inputs.\n",
        "epochs, mse, history = train_model(my_model, train_df, epochs,\n",
        "                                   batch_size, label_name, validation_split)\n",
        "plot_the_loss_curve(epochs, mse, history[\"val_mean_squared_error\"])\n",
        "\n",
        "# After building a model against the training set, test that model\n",
        "# against the test set.\n",
        "test_features = {name:np.array(value) for name, value in test_df.items()}\n",
        "test_label = test_median_house_value_normalized(np.array(test_features.pop(label_name))) # isolate the label\n",
        "print(\"\\n Evaluate the new model against the test set:\")\n",
        "my_model.evaluate(x = test_features, y = test_label, batch_size=batch_size, return_dict=True)"
      ],
      "metadata": {
        "id": "OC9dXXIj0QWa",
        "colab": {
          "base_uri": "https://localhost:8080/",
          "height": 1000
        },
        "outputId": "10b004b5-54ba-41ef-8ccf-f6e98a860f88"
      },
      "execution_count": null,
      "outputs": [
        {
          "output_type": "stream",
          "name": "stdout",
          "text": [
            "Epoch 1/20\n"
          ]
        },
        {
          "output_type": "stream",
          "name": "stderr",
          "text": [
            "/usr/local/lib/python3.10/dist-packages/keras/src/engine/functional.py:642: UserWarning: Input dict contained keys ['housing_median_age', 'total_rooms', 'total_bedrooms', 'households'] which did not match any model input. They will be ignored by the model.\n",
            "  inputs = self._flatten_to_reference_inputs(inputs)\n"
          ]
        },
        {
          "output_type": "stream",
          "name": "stdout",
          "text": [
            "14/14 [==============================] - 3s 29ms/step - loss: 0.5027 - mean_squared_error: 0.5027 - val_loss: 0.3538 - val_mean_squared_error: 0.3538\n",
            "Epoch 2/20\n",
            "14/14 [==============================] - 0s 13ms/step - loss: 0.3471 - mean_squared_error: 0.3471 - val_loss: 0.3357 - val_mean_squared_error: 0.3357\n",
            "Epoch 3/20\n",
            "14/14 [==============================] - 0s 13ms/step - loss: 0.3302 - mean_squared_error: 0.3302 - val_loss: 0.3324 - val_mean_squared_error: 0.3324\n",
            "Epoch 4/20\n",
            "14/14 [==============================] - 0s 13ms/step - loss: 0.3262 - mean_squared_error: 0.3262 - val_loss: 0.3274 - val_mean_squared_error: 0.3274\n",
            "Epoch 5/20\n",
            "14/14 [==============================] - 0s 13ms/step - loss: 0.3249 - mean_squared_error: 0.3249 - val_loss: 0.3258 - val_mean_squared_error: 0.3258\n",
            "Epoch 6/20\n",
            "14/14 [==============================] - 0s 13ms/step - loss: 0.3225 - mean_squared_error: 0.3225 - val_loss: 0.3253 - val_mean_squared_error: 0.3253\n",
            "Epoch 7/20\n",
            "14/14 [==============================] - 0s 16ms/step - loss: 0.3211 - mean_squared_error: 0.3211 - val_loss: 0.3258 - val_mean_squared_error: 0.3258\n",
            "Epoch 8/20\n",
            "14/14 [==============================] - 0s 13ms/step - loss: 0.3195 - mean_squared_error: 0.3195 - val_loss: 0.3271 - val_mean_squared_error: 0.3271\n",
            "Epoch 9/20\n",
            "14/14 [==============================] - 0s 13ms/step - loss: 0.3179 - mean_squared_error: 0.3179 - val_loss: 0.3247 - val_mean_squared_error: 0.3247\n",
            "Epoch 10/20\n",
            "14/14 [==============================] - 0s 13ms/step - loss: 0.3164 - mean_squared_error: 0.3164 - val_loss: 0.3235 - val_mean_squared_error: 0.3235\n",
            "Epoch 11/20\n",
            "14/14 [==============================] - 0s 14ms/step - loss: 0.3152 - mean_squared_error: 0.3152 - val_loss: 0.3284 - val_mean_squared_error: 0.3284\n",
            "Epoch 12/20\n",
            "14/14 [==============================] - 0s 13ms/step - loss: 0.3145 - mean_squared_error: 0.3145 - val_loss: 0.3229 - val_mean_squared_error: 0.3229\n",
            "Epoch 13/20\n",
            "14/14 [==============================] - 0s 14ms/step - loss: 0.3133 - mean_squared_error: 0.3133 - val_loss: 0.3205 - val_mean_squared_error: 0.3205\n",
            "Epoch 14/20\n",
            "14/14 [==============================] - 0s 13ms/step - loss: 0.3107 - mean_squared_error: 0.3107 - val_loss: 0.3208 - val_mean_squared_error: 0.3208\n",
            "Epoch 15/20\n",
            "14/14 [==============================] - 0s 17ms/step - loss: 0.3111 - mean_squared_error: 0.3111 - val_loss: 0.3211 - val_mean_squared_error: 0.3211\n",
            "Epoch 16/20\n",
            "14/14 [==============================] - 0s 13ms/step - loss: 0.3082 - mean_squared_error: 0.3082 - val_loss: 0.3196 - val_mean_squared_error: 0.3196\n",
            "Epoch 17/20\n",
            "14/14 [==============================] - 0s 16ms/step - loss: 0.3083 - mean_squared_error: 0.3083 - val_loss: 0.3239 - val_mean_squared_error: 0.3239\n",
            "Epoch 18/20\n",
            "14/14 [==============================] - 0s 14ms/step - loss: 0.3093 - mean_squared_error: 0.3093 - val_loss: 0.3202 - val_mean_squared_error: 0.3202\n",
            "Epoch 19/20\n",
            "14/14 [==============================] - 0s 17ms/step - loss: 0.3079 - mean_squared_error: 0.3079 - val_loss: 0.3191 - val_mean_squared_error: 0.3191\n",
            "Epoch 20/20\n",
            "14/14 [==============================] - 0s 20ms/step - loss: 0.3071 - mean_squared_error: 0.3071 - val_loss: 0.3205 - val_mean_squared_error: 0.3205\n"
          ]
        },
        {
          "output_type": "display_data",
          "data": {
            "text/plain": [
              "<Figure size 640x480 with 1 Axes>"
            ],
            "image/png": "[encoded data removed]"
          },
          "metadata": {}
        },
        {
          "output_type": "stream",
          "name": "stdout",
          "text": [
            "\n",
            " Evaluate the new model against the test set:\n",
            "3/3 [==============================] - 0s 14ms/step - loss: 0.3439 - mean_squared_error: 0.3439\n"
          ]
        },
        {
          "output_type": "execute_result",
          "data": {
            "text/plain": [
              "{'loss': 0.34387898445129395, 'mean_squared_error': 0.34387898445129395}"
            ]
          },
          "metadata": {},
          "execution_count": 52
        }
      ]
    },
    {
      "cell_type": "markdown",
      "source": [
        "##تمرین 1: دو مدل را با هم مقایسه کنید"
      ],
      "metadata": {
        "id": "3DcYXdPg0SG3"
      }
    },
    {
      "cell_type": "code",
      "source": [
        "#@title برای مشاهده پاسخ احتمالی دوبار کلیک کنید\n",
        "\n",
        "# با فرض همگرا شدن مدل خطی و\n",
        "# مدل شبکه عصبی عمیق نیز همگرا شد، لطفا\n",
        "# loss مجموعه تست را برای هر کدام مقایسه کنید.\n",
        "# در آزمایشات ما، از دست دادن عصبی عمیق\n",
        "# مدل شبکه به طور مداوم کمتر از\n",
        "# مدل رگرسیون خطی که\n",
        "# نشان می دهد که مدل شبکه عصبی عمیق\n",
        "# پیش بینی های بهتر از\n",
        "#  مدل رگرسیون خطی است."
      ],
      "metadata": {
        "id": "e7apyXbQ0xKG"
      },
      "execution_count": null,
      "outputs": []
    },
    {
      "cell_type": "markdown",
      "source": [
        "##تمرین 2:تپولوژی شبکه عصبی عمیق را بهینه کنید"
      ],
      "metadata": {
        "id": "op5V96A70x_n"
      }
    },
    {
      "cell_type": "code",
      "source": [
        "#@title برای مشاهده پاسخ احتمالی دوبار کلیک کنید\n",
        "\n",
        "# پاسخ های زیادی ممکن است. متوجه شدیم\n",
        "# روند زیر:\n",
        "# * دو لایه از یک لایه بهتر عمل کردند، اما\n",
        "# سه لایه عملکرد قابل توجهی نداشتند\n",
        "# بهتر از دو لایه.\n",
        "# به عبارت دیگر، دو لایه بهترین به نظر می رسید.\n",
        "# * تنظیم توپوگرافی به شرح زیر تولید شده است\n",
        "# نتایج نسبتاً خوب با نتایج نسبتاً کمی\n",
        "# گره:\n",
        "# * 10 گره در لایه اول.\n",
        "# * 6 گره در لایه دوم.\n",
        "# با کاهش تعداد گره ها در هر لایه\n",
        "# کمتر از قبل، ضرر تست افزایش یافته است.\n",
        "# با این حال، بسته به برنامه شما، سخت افزار\n",
        "# محدودیت و درد نسبی ایجاد شده\n",
        "# با یک مدل کمتر دقیق، یک شبکه کوچکتر\n",
        "# (مثلاً 6 گره در لایه اول و\n",
        "#گره 4 در لایه دوم) ممکن است باشد\n",
        "#قابل قبول"
      ],
      "metadata": {
        "id": "UfiK3VvR1Okv"
      },
      "execution_count": null,
      "outputs": []
    }
  ]
}