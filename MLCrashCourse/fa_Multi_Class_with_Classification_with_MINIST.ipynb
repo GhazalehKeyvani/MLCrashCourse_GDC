{
  "nbformat": 4,
  "nbformat_minor": 0,
  "metadata": {
    "colab": {
      "provenance": [],
      "authorship_tag": "ABX9TyNEjFYQxDy/LBXUYyfdT4z7",
      "include_colab_link": true
    },
    "kernelspec": {
      "name": "python3",
      "display_name": "Python 3"
    },
    "language_info": {
      "name": "python"
    }
  },
  "cells": [
    {
      "cell_type": "markdown",
      "metadata": {
        "id": "view-in-github",
        "colab_type": "text"
      },
      "source": [
        "<a href=\"https://colab.research.google.com/github/GhazalehKeyvani/Avina/blob/main/MLCrashCourse/fa_Multi_Class_with_Classification_with_MINIST.ipynb\" target=\"_parent\"><img src=\"https://colab.research.google.com/assets/colab-badge.svg\" alt=\"Open In Colab\"/></a>"
      ]
    },
    {
      "cell_type": "markdown",
      "source": [
        "#طبقه بندی چند کلاسه\n"
      ],
      "metadata": {
        "id": "ZE71F5dKrqvR"
      }
    },
    {
      "cell_type": "markdown",
      "source": [
        "## اهداف یادگیری:\n",
        "\n",
        "پس از انجام این کولب، می‌دانید که چگونه کارهای زیر را انجام دهید:\n",
        "\n",
        "   * مسئله کلاسیک MNIST را درک کنید.\n",
        "   * ایجاد یک شبکه عصبی عمیق که طبقه بندی چند کلاسه را انجام می دهد.\n",
        "   * شبکه عصبی عمیق را تنظیم کنید.\n",
        "\n",
        "این تمرین طبقه بندی تصاویر را با یادگیری ماشین معرفی می کند."
      ],
      "metadata": {
        "id": "3LI3Z37Dr3Ka"
      }
    },
    {
      "cell_type": "markdown",
      "source": [
        "\n",
        "## مجموعه داده\n",
        "  \n",
        "این مجموعه داده MNIST شامل نمونه های زیادی است:\n",
        "\n",
        "* مجموعه آموزشی MNIST شامل 60000 نمونه است.\n",
        "* مجموعه تست MNIST شامل 10000 نمونه است.\n",
        "\n",
        "هر مثال حاوی یک نقشه پیکسلی است که نشان می دهد شخص چگونه یک رقم را نوشته است. برای مثال، تصاویر زیر نشان می‌دهند که چگونه یک شخص رقم «1» را نوشته است و چگونه ممکن است آن رقم در یک نقشه پیکسلی 14×14 نمایش داده شود (پس از عادی‌سازی داده‌های ورودی).\n",
        "\n",
        "![دو تصویر. تصویر اول یک رقم تا حدودی مبهم را نشان می دهد. تصویر دوم یک آرایه ممیز شناور ۱۴×۱۴ را نشان می‌دهد که در آن بیشتر سلول‌ها دارای ۰ هستند اما تعداد کمی از سلول‌ها حاوی مقادیری بین ۰.۰ و ۱.۰ هستند. الگوی مقادیر غیرصفر با تصویر رقم فازی در تصویر اول مطابقت دارد.](https://www.tensorflow.org/images/MNIST-Matrix.png)\n",
        "\n",
        "هر نمونه در مجموعه داده MNIST شامل موارد زیر است:\n",
        "\n",
        "* برچسبی که توسط یک [رتبه‌دهنده](https://developers.google.com/machine-learning/glossary/#rater) مشخص شده است. هر برچسب باید یک عدد صحیح از 0 تا 9 باشد. برای مثال، در تصویر قبلی، رتبه‌دهنده تقریباً به طور قطع برچسب '1' را به مثال اختصاص می‌دهد.\n",
        "* یک نقشه پیکسل 28x28، که در آن هر پیکسل یک عدد صحیح بین 0 تا 255 است. مقادیر پیکسل در مقیاس خاکستری هستند که در آن 0 نشان دهنده سفید، 255 نشان دهنده سیاه و مقادیر بین 0 تا 255 نشان دهنده سایه های مختلف خاکستری است.\n",
        "\n",
        "این یک مشکل طبقه بندی چند کلاسه است که دارای 10 کلاس خروجی است، یکی برای هر رقم.\n"
      ],
      "metadata": {
        "id": "DeWkiKkT4Epa"
      }
    },
    {
      "cell_type": "markdown",
      "source": [
        "## ماژول های مربوطه را وارد کنید\n",
        "\n",
        "سلول کد مخفی زیر کد لازم را برای اجرای کد در بقیه قسمت های این آزمایشگاه وارد می کند."
      ],
      "metadata": {
        "id": "d4PqM5Sq3YmB"
      }
    },
    {
      "cell_type": "code",
      "execution_count": null,
      "metadata": {
        "id": "w9wjq37R_7Te"
      },
      "outputs": [],
      "source": [
        "#@title Import relevant modules\n",
        "import numpy as np\n",
        "import pandas as pd\n",
        "import tensorflow as tf\n",
        "from tensorflow.keras import layers\n",
        "from matplotlib import pyplot as plt\n",
        "\n",
        "# The following lines adjust the granularity of reporting.\n",
        "pd.options.display.max_rows = 10\n",
        "pd.options.display.float_format = \"{:.1f}\".format\n",
        "\n",
        "# The following line improves formatting when ouputting NumPy arrays.\n",
        "np.set_printoptions(linewidth = 200)"
      ]
    },
    {
      "cell_type": "markdown",
      "source": [
        "## دیتاست را بارگیری کنید\n",
        "\n",
        "`tf.keras` مجموعه ای از توابع راحت را برای بارگیری مجموعه داده های شناخته شده ارائه می دهد. هر یک از این توابع راحتی کارهای زیر را انجام می دهد:\n",
        "\n",
        "* هم مجموعه آموزشی و هم مجموعه تست را بارگذاری می کند.\n",
        "* هر مجموعه را به ویژگی ها و برچسب ها جدا می کند.\n",
        "\n",
        "تابع راحتی مربوطه برای MNIST ` mnist.load_data() `نامیده می شود:"
      ],
      "metadata": {
        "id": "3PGkrqf2jJdj"
      }
    },
    {
      "cell_type": "code",
      "source": [
        "(x_train,y_train),(x_test,y_test) = tf.keras.datasets.mnist.load_data()"
      ],
      "metadata": {
        "colab": {
          "base_uri": "https://localhost:8080/"
        },
        "id": "U74_hv4p3-mk",
        "outputId": "354eebf0-b465-44b4-fb76-5de8733543a8"
      },
      "execution_count": null,
      "outputs": [
        {
          "output_type": "stream",
          "name": "stdout",
          "text": [
            "Downloading data from https://storage.googleapis.com/tensorflow/tf-keras-datasets/mnist.npz\n",
            "11490434/11490434 [==============================] - 0s 0us/step\n"
          ]
        }
      ]
    },
    {
      "cell_type": "markdown",
      "source": [
        "توجه داشته باشید که `mnist.load_data()` چهار مقدار جداگانه برگرداند:\n",
        "\n",
        "* `x_train` شامل ویژگی های مجموعه آموزشی است.\n",
        "* `y_train` حاوی برچسب‌های مجموعه آموزشی است.\n",
        "* `x_test` شامل ویژگی‌های مجموعه آزمایشی است.\n",
        "* `y_test` حاوی برچسب‌های مجموعه آزمایشی است.\n",
        "\n",
        "**توجه:**\n",
        "\n",
        " مجموعه آموزشی MNIST .csv در حال حاضر مخلوط شده است."
      ],
      "metadata": {
        "id": "9Di5A7dPk1J7"
      }
    },
    {
      "cell_type": "markdown",
      "source": [
        "\n",
        "## مجموعه داده را مشاهده کنید\n",
        "\n",
        "فایل csv. برای مجموعه داده مسکن کالیفرنیا حاوی نام ستون‌ها است (به عنوان مثال، `latitude`, `longitude`, `population`). در مقابل، فایل csv. برای MNIST حاوی نام ستون نیست. به جای نام ستون ها، از اعداد ترتیبی برای دسترسی به زیر مجموعه های مختلف مجموعه داده MNIST استفاده می کنید. در واقع، احتمالاً بهتر است `x_train` و `x_test` را به‌عنوان آرایه‌های NumPy دو بعدی در نظر بگیرید:"
      ],
      "metadata": {
        "id": "0EW3AK3w4Nc6"
      }
    },
    {
      "cell_type": "code",
      "source": [
        "# خروجی مثال شماره 2197 مجموعه آموزشی.\n",
        "x_train[2197]"
      ],
      "metadata": {
        "colab": {
          "base_uri": "https://localhost:8080/"
        },
        "id": "LiQ4PtZm4ppi",
        "outputId": "1013c434-c5ee-4d36-9953-93a244b71e94"
      },
      "execution_count": null,
      "outputs": [
        {
          "output_type": "execute_result",
          "data": {
            "text/plain": [
              "array([[  0,   0,   0,   0,   0,   0,   0,   0,   0,   0,   0,   0,   0,   0,   0,   0,   0,   0,   0,   0,   0,   0,   0,   0,   0,   0,   0,   0],\n",
              "       [  0,   0,   0,   0,   0,   0,   0,   0,   0,   0,   0,   0,   0,   0,   0,   0,   0,   0,   0,   0,   0,   0,   0,   0,   0,   0,   0,   0],\n",
              "       [  0,   0,   0,   0,   0,   0,   0,   0,   0,   0,   0,   0,   0,   0,   0,   0,   0,   0,   0,   0,   0,   0,   0,   0,   0,   0,   0,   0],\n",
              "       [  0,   0,   0,   0,   0,   0,   0,   0,   0,   0,   0,   0,   0,   0,   0,   0,   0,   0,   0,   0,   0,   0,   0,   0,   0,   0,   0,   0],\n",
              "       [  0,   0,   0,   0,   0,   0,   0,   0,   0,   0,   0,   0,   0,   0,   0,   0,   0,   0,   0,   0,   0,   0,   0,   0,   0,   0,   0,   0],\n",
              "       [  0,   0,   0,   0,   0,   0,   0,   0,   0,   0,   0,   0,   0,  11, 213, 254,  50,   0,   0,   0,   0,   0,   0,   0,   0,   0,   0,   0],\n",
              "       [  0,   0,   0,   0,   0,   0,   0,   0,   0,   0,   0,   0,   0,  92, 252, 253, 131,   0,   0,   0,   0,   0,   0,   0,   0,   0,   0,   0],\n",
              "       [  0,   0,   0,   0,   0,   0,   0,   0,   0,   0,   0,   0,   0,  51, 253, 254, 213,   0,   0,   0,   0,   0,   0,   0,   0,   0,   0,   0],\n",
              "       [  0,   0,   0,   0,   0,   0,   0,   0,   0,   0,   0,   0,   0,  92, 252, 253, 252,  41,   0,   0,   0,   0,   0,   0,   0,   0,   0,   0],\n",
              "       [  0,   0,   0,   0,   0,   0,   0,   0,   0,   0,   0,   0,   0, 152, 253, 254, 253,   0,   0,   0,   0,   0,   0,   0,   0,   0,   0,   0],\n",
              "       [  0,   0,   0,   0,   0,   0,   0,   0,   0,   0,   0,   0,   0,  71, 252, 253, 252,   0,   0,   0,   0,   0,   0,   0,   0,   0,   0,   0],\n",
              "       [  0,   0,   0,   0,   0,   0,   0,   0,   0,   0,   0,   0,   0,  51, 253, 254, 253,   0,   0,   0,   0,   0,   0,   0,   0,   0,   0,   0],\n",
              "       [  0,   0,   0,   0,   0,   0,   0,   0,   0,   0,   0,   0,   0,  51, 252, 253, 252,   0,   0,   0,   0,   0,   0,   0,   0,   0,   0,   0],\n",
              "       [  0,   0,   0,   0,   0,   0,   0,   0,   0,   0,   0,   0,   0, 152, 253, 254, 192,   0,   0,   0,   0,   0,   0,   0,   0,   0,   0,   0],\n",
              "       [  0,   0,   0,   0,   0,   0,   0,   0,   0,   0,   0,   0,   0, 152, 252, 253, 151,   0,   0,   0,   0,   0,   0,   0,   0,   0,   0,   0],\n",
              "       [  0,   0,   0,   0,   0,   0,   0,   0,   0,   0,   0,   0,   0, 173, 253, 244,  40,   0,   0,   0,   0,   0,   0,   0,   0,   0,   0,   0],\n",
              "       [  0,   0,   0,   0,   0,   0,   0,   0,   0,   0,   0,   0,  41, 253, 252, 203,   0,   0,   0,   0,   0,   0,   0,   0,   0,   0,   0,   0],\n",
              "       [  0,   0,   0,   0,   0,   0,   0,   0,   0,   0,   0,   0, 203, 254, 253, 142,   0,   0,   0,   0,   0,   0,   0,   0,   0,   0,   0,   0],\n",
              "       [  0,   0,   0,   0,   0,   0,   0,   0,   0,   0,   0,   0, 203, 253, 252,  61,   0,   0,   0,   0,   0,   0,   0,   0,   0,   0,   0,   0],\n",
              "       [  0,   0,   0,   0,   0,   0,   0,   0,   0,   0,   0,   0, 203, 254, 192,   0,   0,   0,   0,   0,   0,   0,   0,   0,   0,   0,   0,   0],\n",
              "       [  0,   0,   0,   0,   0,   0,   0,   0,   0,   0,   0,   0, 203, 253, 151,   0,   0,   0,   0,   0,   0,   0,   0,   0,   0,   0,   0,   0],\n",
              "       [  0,   0,   0,   0,   0,   0,   0,   0,   0,   0,   0,   0, 204, 255, 151,   0,   0,   0,   0,   0,   0,   0,   0,   0,   0,   0,   0,   0],\n",
              "       [  0,   0,   0,   0,   0,   0,   0,   0,   0,   0,   0,   0, 203, 253, 151,   0,   0,   0,   0,   0,   0,   0,   0,   0,   0,   0,   0,   0],\n",
              "       [  0,   0,   0,   0,   0,   0,   0,   0,   0,   0,   0,   0, 204, 255, 253,  41,   0,   0,   0,   0,   0,   0,   0,   0,   0,   0,   0,   0],\n",
              "       [  0,   0,   0,   0,   0,   0,   0,   0,   0,   0,   0,   0, 162, 253, 252,   0,   0,   0,   0,   0,   0,   0,   0,   0,   0,   0,   0,   0],\n",
              "       [  0,   0,   0,   0,   0,   0,   0,   0,   0,   0,   0,   0,   0,   0,   0,   0,   0,   0,   0,   0,   0,   0,   0,   0,   0,   0,   0,   0],\n",
              "       [  0,   0,   0,   0,   0,   0,   0,   0,   0,   0,   0,   0,   0,   0,   0,   0,   0,   0,   0,   0,   0,   0,   0,   0,   0,   0,   0,   0],\n",
              "       [  0,   0,   0,   0,   0,   0,   0,   0,   0,   0,   0,   0,   0,   0,   0,   0,   0,   0,   0,   0,   0,   0,   0,   0,   0,   0,   0,   0]], dtype=uint8)"
            ]
          },
          "metadata": {},
          "execution_count": 4
        }
      ]
    },
    {
      "cell_type": "markdown",
      "source": [
        "همچنین، می‌توانید `matplotlib.pyplot.imshow` را فراخوانی کنید تا آرایه عددی قبلی را به عنوان یک تصویر تفسیر کنید."
      ],
      "metadata": {
        "id": "5-GIT0i2nxd1"
      }
    },
    {
      "cell_type": "code",
      "source": [
        "# برای تجسم آرایه از رنگ های کاذب استفاده کنید.\n",
        "plt.imshow(x_train[2197])"
      ],
      "metadata": {
        "colab": {
          "base_uri": "https://localhost:8080/",
          "height": 447
        },
        "id": "qGvyiEky4uvh",
        "outputId": "06c40ca1-cfa9-44fa-914a-d3b07ee62729"
      },
      "execution_count": null,
      "outputs": [
        {
          "output_type": "execute_result",
          "data": {
            "text/plain": [
              "<matplotlib.image.AxesImage at 0x7bbd4becf100>"
            ]
          },
          "metadata": {},
          "execution_count": 5
        },
        {
          "output_type": "display_data",
          "data": {
            "text/plain": [
              "<Figure size 640x480 with 1 Axes>"
            ],
            "image/png": "[encoded data removed]"
          },
          "metadata": {}
        }
      ]
    },
    {
      "cell_type": "code",
      "source": [
        "# خروجی ردیف #10 از مثال #2917.\n",
        "x_train[2197][10]"
      ],
      "metadata": {
        "colab": {
          "base_uri": "https://localhost:8080/"
        },
        "id": "05yK7o424ueM",
        "outputId": "660c8bd3-3fbf-4f7b-8582-7643eda6220d"
      },
      "execution_count": null,
      "outputs": [
        {
          "output_type": "execute_result",
          "data": {
            "text/plain": [
              "array([  0,   0,   0,   0,   0,   0,   0,   0,   0,   0,   0,   0,   0,  71, 252, 253, 252,   0,   0,   0,   0,   0,   0,   0,   0,   0,   0,   0], dtype=uint8)"
            ]
          },
          "metadata": {},
          "execution_count": 6
        }
      ]
    },
    {
      "cell_type": "code",
      "source": [
        "# پیکسل خروجی شماره 16 از ردیف شماره 10 مثال شماره 2197\n",
        "x_train[2197][10][16]"
      ],
      "metadata": {
        "colab": {
          "base_uri": "https://localhost:8080/"
        },
        "id": "dsmTlURR4_R0",
        "outputId": "d1e97596-a883-40a8-8850-5c35c198f227"
      },
      "execution_count": null,
      "outputs": [
        {
          "output_type": "execute_result",
          "data": {
            "text/plain": [
              "252"
            ]
          },
          "metadata": {},
          "execution_count": 7
        }
      ]
    },
    {
      "cell_type": "markdown",
      "source": [
        "##تمرین1 :نرمالسازی مقدار ویژگی ها\n",
        "\n",
        "سلول کد زیر را تکمیل کنید تا مقدار هر ویژگی از نمایش فعلی آن (یک عدد صحیح بین 0 تا 255) به یک مقدار ممیز شناور بین 0 و 1.0 نگاشت شود. مقادیر ممیز شناور را در `x_train_normalized` و `x_train_normalized` ذخیره کنید."
      ],
      "metadata": {
        "id": "lnAYVsoE4wFz"
      }
    },
    {
      "cell_type": "code",
      "source": [
        "x_train_normalized = x_train / 255.0\n",
        "x_test_normalized = x_test / 255.0\n",
        "print(x_train_normalized[2197][10])"
      ],
      "metadata": {
        "colab": {
          "base_uri": "https://localhost:8080/"
        },
        "id": "jOfNXYMXwr3v",
        "outputId": "13f658dd-302e-41c1-dddd-bf5910136651"
      },
      "execution_count": null,
      "outputs": [
        {
          "output_type": "stream",
          "name": "stdout",
          "text": [
            "[0.         0.         0.         0.         0.         0.         0.         0.         0.         0.         0.         0.         0.         0.27843137 0.98823529 0.99215686 0.98823529 0.\n",
            " 0.         0.         0.         0.         0.         0.         0.         0.         0.         0.        ]\n"
          ]
        }
      ]
    },
    {
      "cell_type": "markdown",
      "source": [
        "##معرفی تابع رسم نمودار"
      ],
      "metadata": {
        "id": "cnHrqq-d5KIC"
      }
    },
    {
      "cell_type": "code",
      "source": [
        "#@title تابع رسم را تعریف کنید\n",
        "def plot_curve (epochs, hist, list_of_metrics):\n",
        "   \"\"\"منحنی از یک یا چند معیار طبقه بندی در مقابل دوره را ترسیم کنید.\"\"\"\n",
        "   # فهرست_متریک‌ها باید یکی از نام‌هایی باشد که در:\n",
        "   # https://www.tensorflow.org/tutorials/structured_data/imbalanced_data#define_the_model_and_metrics\n",
        "\n",
        "   plt.figure()\n",
        "   plt.xlabel (\"epoch\")\n",
        "   plt.ylabel (\"value\")\n",
        "\n",
        "   for m in list_of_metrics:\n",
        "     x = hist[m]\n",
        "     plt.plot(epochs[1:], x[1:], label=m)\n",
        "\n",
        "   plt.legend()\n",
        "\n",
        "print(\"Loaded the plot_curve function\")"
      ],
      "metadata": {
        "colab": {
          "base_uri": "https://localhost:8080/"
        },
        "id": "FPwxQ4FdyGQH",
        "outputId": "c84f7977-3166-4b4d-fcc6-ed5c3e52b271"
      },
      "execution_count": null,
      "outputs": [
        {
          "output_type": "stream",
          "name": "stdout",
          "text": [
            "Loaded the plot_curve function\n"
          ]
        }
      ]
    },
    {
      "cell_type": "markdown",
      "source": [
        "##ایجاد مدل شبکه عصبی عمیق\n",
        "## یک مدل شبکه عصبی عمیق ایجاد کنید\n",
        "\n",
        "تابع \"create_model\" توپوگرافی شبکه عصبی عمیق را تعریف می کند و موارد زیر را مشخص می کند:\n",
        "\n",
        "* تعداد [لایه ها](https://developers.google.com/machine-learning/glossary/#layer) در شبکه عصبی عمیق.\n",
        "* تعداد [node](https://developers.google.com/machine-learning/glossary/#node) در هر لایه.\n",
        "* هر لایه [regularization](https://developers.google.com/machine-learning/glossary/#regularization).\n",
        "\n",
        "تابع create_model همچنین [عملکرد فعال‌سازی](https://developers.google.com/machine-learning/glossary/#activation_function) هر لایه را تعریف می‌کند. تابع فعال‌سازی لایه خروجی [softmax](https://developers.google.com/machine-learning/glossary/#softmax) است، که برای هر مثال 10 خروجی مختلف به دست می‌دهد. هر یک از 10 خروجی این احتمال را فراهم می کند که مثال ورودی یک رقم معین باشد.\n",
        "\n",
        "**توجه:**\n",
        "\n",
        " برخلاف چندین Colab های اخیر، این تمرین ستون های ویژگی یا لایه ویژگی را تعریف نمی کند. در عوض، مدل بر روی آرایه NumPy آموزش خواهد دید."
      ],
      "metadata": {
        "id": "kpKuBQrm5QIw"
      }
    },
    {
      "cell_type": "code",
      "source": [
        "def create_model(my_learning_rate):\n",
        "   \"\"\"یک شبکه عصبی عمیق ایجاد و کامپایل کنید.\"\"\"\n",
        "\n",
        "   # تمامی مدل های این دوره به صورت ترتیبی هستند.\n",
        "   model = tf.keras.models.Sequential()\n",
        "\n",
        "   # ویژگی ها در یک آرایه دو بعدی 28X28 ذخیره می شوند.\n",
        "   # آن آرایه دو بعدی را به صورت یک بعدی صاف کنید\n",
        "   # آرایه 784 عنصری.\n",
        "   model.add(tf.keras.layers.Flatten(input_shape=(28,28)))\n",
        "\n",
        "   # اولین لایه مخفی را تعریف کنید.\n",
        "   model.add(tf.keras.layers.Dense(units=256, activation='relu'))\n",
        "\n",
        "   # یک لایه تنظیم حذفی را تعریف کنید.\n",
        "   model.add(tf.keras.layers.Dropout(rate=0.2))\n",
        "\n",
        "\n",
        "   # لایه خروجی را تعریف کنید. پارامتر واحدها روی 10 تنظیم شده است زیرا\n",
        "   # مدل باید از بین 10 مقدار خروجی ممکن (نماینده\n",
        "   # ارقام از 0 تا 9، شامل).\n",
        "   #\n",
        "   # این لایه را تغییر ندهید.\n",
        "   model.add(tf.keras.layers.Dense(units=128, activation='softmax'))\n",
        "\n",
        "   # لایه ها را در مدلی بسازید که TensorFlow بتواند آن را اجرا کند.\n",
        "   # توجه کنید که تابع ضرر برای طبقه بندی چند کلاسه\n",
        "   # متفاوت از تابع ضرر برای طبقه بندی باینری است.\n",
        "   model.compile(optimizer=tf.keras.optimizers.Adam(learning_rate=my_learning_rate),\n",
        "                 loss='sparse_categorical_crossentropy',\n",
        "                 metrics=['accuracy'])\n",
        "\n",
        "   return model\n",
        "\n",
        "\n",
        "def train_model(model, train_features, train_label, epochs,\n",
        "                 batch_size=None, validation_split=0.1):\n",
        "   \"\"\"آموزش مدل با تغذیه داده ها.\"\"\"\n",
        "\n",
        "   history = model.fit(x=train_features, y=train_label, batch_size=batch_size,\n",
        "                       epochs=epochs, shuffle=True,\n",
        "                       validation_split=validation_split)\n",
        "\n",
        "   # برای پیگیری پیشرفت تمرین، یک عکس فوری جمع آوری کنید\n",
        "   # از معیارهای مدل در هر دوره.\n",
        "   epochs = history.epoch\n",
        "   hist = pd.DataFrame(history.history)\n",
        "\n",
        "   return epochs, hist"
      ],
      "metadata": {
        "id": "0tbtFI-D5PT6"
      },
      "execution_count": null,
      "outputs": []
    },
    {
      "cell_type": "markdown",
      "source": [
        "\n",
        "## توابع قبلی را فراخوانی کنید\n",
        "\n",
        "سلول کد زیر را اجرا کنید تا توابع قبلی را فراخوانی کنید و در واقع مدل را در مجموعه آموزشی آموزش دهید.\n",
        "\n",
        "**توجه:**\n",
        "\n",
        " به دلیل چندین عامل (به عنوان مثال، نمونه های بیشتر و شبکه عصبی پیچیده تر)، آموزش MNIST ممکن است بیشتر از آموزش مجموعه داده مسکن کالیفرنیا طول بکشد."
      ],
      "metadata": {
        "id": "ifvqNO7I5kca"
      }
    },
    {
      "cell_type": "code",
      "source": [
        "# متغیرهای زیر ابرپارامترها هستند.\n",
        "learning_rate = 0.003\n",
        "epochs = 50\n",
        "batch_size = 4000\n",
        "\n",
        "validation_split = 0.2\n",
        "\n",
        "# توپوگرافی مدل را تعیین کنید.\n",
        "my_model = create_model(learning_rate)\n",
        "\n",
        "# مدل را روی مجموعه آموزشی نرمال شده آموزش دهید.\n",
        "epochs, hist = train_model(my_model, x_train_normalized, y_train,\n",
        "                             epochs, batch_size, validation_split)\n",
        "\n",
        "\n",
        "# نموداری از متریک در مقابل دوره ها ترسیم کنید.\n",
        "list_of_metrics_to_plot = ['accuracy']\n",
        "plot_curve(epochs, hist, list_of_metrics_to_plot)\n",
        "\n",
        "# در مقابل مجموعه آزمون ارزیابی کنید.\n",
        "print(\"\\n مدل جدید را در برابر مجموعه آزمایشی ارزیابی کنید:\")\n",
        "my_model.evaluate(x=x_test_normalized, y=y_test, batch_size=batch_size)"
      ],
      "metadata": {
        "colab": {
          "base_uri": "https://localhost:8080/",
          "height": 1000
        },
        "id": "hYnjtFY75qH2",
        "outputId": "f91646e8-0866-41a1-f7f7-a9bcc0ae15a9"
      },
      "execution_count": null,
      "outputs": [
        {
          "output_type": "stream",
          "name": "stdout",
          "text": [
            "Epoch 1/50\n",
            "12/12 [==============================] - 3s 188ms/step - loss: 1.8968 - accuracy: 0.5714 - val_loss: 0.5252 - val_accuracy: 0.8505\n",
            "Epoch 2/50\n",
            "12/12 [==============================] - 2s 201ms/step - loss: 0.5326 - accuracy: 0.8330 - val_loss: 0.3456 - val_accuracy: 0.8996\n",
            "Epoch 3/50\n",
            "12/12 [==============================] - 2s 145ms/step - loss: 0.3951 - accuracy: 0.8832 - val_loss: 0.2894 - val_accuracy: 0.9174\n",
            "Epoch 4/50\n",
            "12/12 [==============================] - 1s 121ms/step - loss: 0.3273 - accuracy: 0.9028 - val_loss: 0.2534 - val_accuracy: 0.9286\n",
            "Epoch 5/50\n",
            "12/12 [==============================] - 1s 114ms/step - loss: 0.2833 - accuracy: 0.9187 - val_loss: 0.2277 - val_accuracy: 0.9377\n",
            "Epoch 6/50\n",
            "12/12 [==============================] - 1s 113ms/step - loss: 0.2538 - accuracy: 0.9277 - val_loss: 0.2083 - val_accuracy: 0.9417\n",
            "Epoch 7/50\n",
            "12/12 [==============================] - 1s 116ms/step - loss: 0.2281 - accuracy: 0.9344 - val_loss: 0.1920 - val_accuracy: 0.9459\n",
            "Epoch 8/50\n",
            "12/12 [==============================] - 1s 116ms/step - loss: 0.2102 - accuracy: 0.9396 - val_loss: 0.1790 - val_accuracy: 0.9506\n",
            "Epoch 9/50\n",
            "12/12 [==============================] - 1s 122ms/step - loss: 0.1938 - accuracy: 0.9445 - val_loss: 0.1667 - val_accuracy: 0.9534\n",
            "Epoch 10/50\n",
            "12/12 [==============================] - 2s 168ms/step - loss: 0.1786 - accuracy: 0.9484 - val_loss: 0.1564 - val_accuracy: 0.9562\n",
            "Epoch 11/50\n",
            "12/12 [==============================] - 3s 216ms/step - loss: 0.1663 - accuracy: 0.9515 - val_loss: 0.1477 - val_accuracy: 0.9579\n",
            "Epoch 12/50\n",
            "12/12 [==============================] - 2s 177ms/step - loss: 0.1566 - accuracy: 0.9547 - val_loss: 0.1390 - val_accuracy: 0.9597\n",
            "Epoch 13/50\n",
            "12/12 [==============================] - 1s 114ms/step - loss: 0.1455 - accuracy: 0.9586 - val_loss: 0.1339 - val_accuracy: 0.9612\n",
            "Epoch 14/50\n",
            "12/12 [==============================] - 1s 120ms/step - loss: 0.1364 - accuracy: 0.9605 - val_loss: 0.1273 - val_accuracy: 0.9632\n",
            "Epoch 15/50\n",
            "12/12 [==============================] - 1s 114ms/step - loss: 0.1290 - accuracy: 0.9624 - val_loss: 0.1226 - val_accuracy: 0.9641\n",
            "Epoch 16/50\n",
            "12/12 [==============================] - 1s 114ms/step - loss: 0.1218 - accuracy: 0.9647 - val_loss: 0.1175 - val_accuracy: 0.9656\n",
            "Epoch 17/50\n",
            "12/12 [==============================] - 1s 114ms/step - loss: 0.1150 - accuracy: 0.9674 - val_loss: 0.1138 - val_accuracy: 0.9671\n",
            "Epoch 18/50\n",
            "12/12 [==============================] - 1s 115ms/step - loss: 0.1097 - accuracy: 0.9682 - val_loss: 0.1109 - val_accuracy: 0.9668\n",
            "Epoch 19/50\n",
            "12/12 [==============================] - 1s 120ms/step - loss: 0.1054 - accuracy: 0.9694 - val_loss: 0.1071 - val_accuracy: 0.9677\n",
            "Epoch 20/50\n",
            "12/12 [==============================] - 2s 199ms/step - loss: 0.0990 - accuracy: 0.9710 - val_loss: 0.1043 - val_accuracy: 0.9687\n",
            "Epoch 21/50\n",
            "12/12 [==============================] - 2s 194ms/step - loss: 0.0962 - accuracy: 0.9718 - val_loss: 0.1022 - val_accuracy: 0.9694\n",
            "Epoch 22/50\n",
            "12/12 [==============================] - 2s 128ms/step - loss: 0.0930 - accuracy: 0.9732 - val_loss: 0.0989 - val_accuracy: 0.9702\n",
            "Epoch 23/50\n",
            "12/12 [==============================] - 2s 136ms/step - loss: 0.0871 - accuracy: 0.9749 - val_loss: 0.0968 - val_accuracy: 0.9707\n",
            "Epoch 24/50\n",
            "12/12 [==============================] - 1s 117ms/step - loss: 0.0834 - accuracy: 0.9756 - val_loss: 0.0950 - val_accuracy: 0.9708\n",
            "Epoch 25/50\n",
            "12/12 [==============================] - 1s 126ms/step - loss: 0.0805 - accuracy: 0.9770 - val_loss: 0.0928 - val_accuracy: 0.9716\n",
            "Epoch 26/50\n",
            "12/12 [==============================] - 1s 114ms/step - loss: 0.0761 - accuracy: 0.9783 - val_loss: 0.0928 - val_accuracy: 0.9718\n",
            "Epoch 27/50\n",
            "12/12 [==============================] - 1s 124ms/step - loss: 0.0739 - accuracy: 0.9785 - val_loss: 0.0907 - val_accuracy: 0.9727\n",
            "Epoch 28/50\n",
            "12/12 [==============================] - 2s 143ms/step - loss: 0.0716 - accuracy: 0.9793 - val_loss: 0.0899 - val_accuracy: 0.9731\n",
            "Epoch 29/50\n",
            "12/12 [==============================] - 3s 217ms/step - loss: 0.0692 - accuracy: 0.9796 - val_loss: 0.0878 - val_accuracy: 0.9731\n",
            "Epoch 30/50\n",
            "12/12 [==============================] - 3s 210ms/step - loss: 0.0676 - accuracy: 0.9798 - val_loss: 0.0860 - val_accuracy: 0.9730\n",
            "Epoch 31/50\n",
            "12/12 [==============================] - 2s 134ms/step - loss: 0.0627 - accuracy: 0.9819 - val_loss: 0.0860 - val_accuracy: 0.9735\n",
            "Epoch 32/50\n",
            "12/12 [==============================] - 2s 131ms/step - loss: 0.0616 - accuracy: 0.9820 - val_loss: 0.0840 - val_accuracy: 0.9740\n",
            "Epoch 33/50\n",
            "12/12 [==============================] - 1s 127ms/step - loss: 0.0589 - accuracy: 0.9827 - val_loss: 0.0830 - val_accuracy: 0.9751\n",
            "Epoch 34/50\n",
            "12/12 [==============================] - 2s 134ms/step - loss: 0.0569 - accuracy: 0.9835 - val_loss: 0.0822 - val_accuracy: 0.9747\n",
            "Epoch 35/50\n",
            "12/12 [==============================] - 1s 119ms/step - loss: 0.0549 - accuracy: 0.9842 - val_loss: 0.0818 - val_accuracy: 0.9750\n",
            "Epoch 36/50\n",
            "12/12 [==============================] - 1s 116ms/step - loss: 0.0524 - accuracy: 0.9852 - val_loss: 0.0814 - val_accuracy: 0.9752\n",
            "Epoch 37/50\n",
            "12/12 [==============================] - 1s 115ms/step - loss: 0.0514 - accuracy: 0.9847 - val_loss: 0.0798 - val_accuracy: 0.9753\n",
            "Epoch 38/50\n",
            "12/12 [==============================] - 2s 193ms/step - loss: 0.0492 - accuracy: 0.9859 - val_loss: 0.0799 - val_accuracy: 0.9764\n",
            "Epoch 39/50\n",
            "12/12 [==============================] - 2s 211ms/step - loss: 0.0479 - accuracy: 0.9863 - val_loss: 0.0799 - val_accuracy: 0.9755\n",
            "Epoch 40/50\n",
            "12/12 [==============================] - 2s 130ms/step - loss: 0.0463 - accuracy: 0.9862 - val_loss: 0.0790 - val_accuracy: 0.9760\n",
            "Epoch 41/50\n",
            "12/12 [==============================] - 1s 112ms/step - loss: 0.0454 - accuracy: 0.9866 - val_loss: 0.0788 - val_accuracy: 0.9759\n",
            "Epoch 42/50\n",
            "12/12 [==============================] - 1s 114ms/step - loss: 0.0424 - accuracy: 0.9879 - val_loss: 0.0778 - val_accuracy: 0.9768\n",
            "Epoch 43/50\n",
            "12/12 [==============================] - 1s 113ms/step - loss: 0.0416 - accuracy: 0.9879 - val_loss: 0.0773 - val_accuracy: 0.9760\n",
            "Epoch 44/50\n",
            "12/12 [==============================] - 1s 114ms/step - loss: 0.0396 - accuracy: 0.9886 - val_loss: 0.0777 - val_accuracy: 0.9766\n",
            "Epoch 45/50\n",
            "12/12 [==============================] - 1s 124ms/step - loss: 0.0382 - accuracy: 0.9889 - val_loss: 0.0772 - val_accuracy: 0.9773\n",
            "Epoch 46/50\n",
            "12/12 [==============================] - 1s 117ms/step - loss: 0.0389 - accuracy: 0.9885 - val_loss: 0.0770 - val_accuracy: 0.9767\n",
            "Epoch 47/50\n",
            "12/12 [==============================] - 2s 149ms/step - loss: 0.0362 - accuracy: 0.9896 - val_loss: 0.0757 - val_accuracy: 0.9772\n",
            "Epoch 48/50\n",
            "12/12 [==============================] - 2s 196ms/step - loss: 0.0373 - accuracy: 0.9895 - val_loss: 0.0765 - val_accuracy: 0.9768\n",
            "Epoch 49/50\n",
            "12/12 [==============================] - 2s 186ms/step - loss: 0.0348 - accuracy: 0.9900 - val_loss: 0.0763 - val_accuracy: 0.9773\n",
            "Epoch 50/50\n",
            "12/12 [==============================] - 1s 123ms/step - loss: 0.0347 - accuracy: 0.9904 - val_loss: 0.0755 - val_accuracy: 0.9778\n",
            "\n",
            " مدل جدید را در برابر مجموعه آزمایشی ارزیابی کنید:\n",
            "3/3 [==============================] - 0s 35ms/step - loss: 0.0723 - accuracy: 0.9780\n"
          ]
        },
        {
          "output_type": "execute_result",
          "data": {
            "text/plain": [
              "[0.07232123613357544, 0.9779999852180481]"
            ]
          },
          "metadata": {},
          "execution_count": 28
        },
        {
          "output_type": "display_data",
          "data": {
            "text/plain": [
              "<Figure size 640x480 with 1 Axes>"
            ],
            "image/png": "[encoded data removed]"
          },
          "metadata": {}
        }
      ]
    },
    {
      "cell_type": "markdown",
      "source": [
        "##تمرین 2: مدل را بهینه کنید\n",
        "\n",
        "با موارد زیر آزمایش کنید:\n",
        "\n",
        "* تعداد لایه های پنهان\n",
        "* تعداد گره ها در هر لایه\n",
        "* نرخ منظم regularization\n",
        "\n",
        "چه روندهایی را کشف کردید؟ آیا می توانید در برابر مجموعه تست به حداقل 98 درصد دقت برسید؟"
      ],
      "metadata": {
        "id": "fwUy-Vf-5uLw"
      }
    },
    {
      "cell_type": "code",
      "source": [
        "#@title برای مشاهده برخی از پاسخ های احتمالی دوبار کلیک کنید.\n",
        "\n",
        "# آزمایش بسیار طولانی خواهد بود\n",
        "# به طور کامل با توپوگرافی و تنظیم regularization\n",
        "# نرخ. در دنیای واقعی، شما این کار را خواهید کرد\n",
        "# همچنین با نرخ یادگیری، اندازه دسته ای آزمایش کنید،\n",
        "# و تعداد دوره ها از آنجایی که شما فقط یک\n",
        "# چند دقیقه، جستجوی روندها می تواند مفید باشد.\n",
        "# در اینجا چیزی است که ما کشف کردیم:\n",
        "  # * اضافه کردن گره های بیشتر (حداقل تا 256 گره)\n",
        "  # تا اولین لایه پنهان دقت را بهبود بخشید.\n",
        "  # * به طور کلی اضافه کردن یک لایه مخفی دوم\n",
        "  # دقت بهبود یافته.\n",
        "  # * وقتی مدل دارای گره های زیادی باشد،\n",
        "  # مدل بیش از حد برازش می‌کند مگر اینکه نرخ Dropout باشد\n",
        "  # حداقل 0.5 است.\n",
        "\n",
        "# با دقت تست به 98 درصد رسیدیم\n",
        "# پیکربندی زیر:\n",
        "# * یک لایه پنهان از 256 گره, بدون دوم\n",
        "# لایه پنهان\n",
        "# * نرخ منظم Dropout 0.4\n",
        "\n",
        "# با دقت تست به 98.2% رسیدیم\n",
        "# پیکربندی زیر:\n",
        "# * اولین لایه پنهان از 256 گره.\n",
        "# دومین لایه پنهان از 128 گره.\n",
        "# * نرخ regularization در خروجی 0.2"
      ],
      "metadata": {
        "id": "0scsaLXF5z5k"
      },
      "execution_count": null,
      "outputs": []
    }
  ]
}