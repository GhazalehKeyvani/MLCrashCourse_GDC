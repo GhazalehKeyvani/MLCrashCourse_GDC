{
  "nbformat": 4,
  "nbformat_minor": 0,
  "metadata": {
    "colab": {
      "provenance": [],
      "authorship_tag": "ABX9TyN46dKCmcGa8XzWNFA1vr0q",
      "include_colab_link": true
    },
    "kernelspec": {
      "name": "python3",
      "display_name": "Python 3"
    },
    "language_info": {
      "name": "python"
    }
  },
  "cells": [
    {
      "cell_type": "markdown",
      "metadata": {
        "id": "view-in-github",
        "colab_type": "text"
      },
      "source": [
        "<a href=\"https://colab.research.google.com/github/GhazalehKeyvani/Avina/blob/main/MLCrashCourse/fa_Numpy_Pandas_dataframe_UltraQuick_Tutorial.ipynb\" target=\"_parent\"><img src=\"https://colab.research.google.com/assets/colab-badge.svg\" alt=\"Open In Colab\"/></a>"
      ]
    },
    {
      "cell_type": "markdown",
      "source": [
        "#Numpy\n",
        "[Numpy](https://numpy.org/doc/stable/index.html) یک کتابخانه ی پایتون است که\n",
        "ماتریکس که ساختمان داده ی اصلی مورد استفاده برای الگوریتم های یادگیری ماشین است که داده ها را به صورت ردیفی و ستونی ذخیره سازی می کند.\n",
        "\n",
        "معادل ماتریکس ریاضیاتی در موارد زیر\n",
        "* python : lists\n",
        "* numpy : arrays\n",
        "* TensorFlow : tensors"
      ],
      "metadata": {
        "id": "Ikmog3A0GA5C"
      }
    },
    {
      "cell_type": "markdown",
      "source": [
        "##Import NumPy module"
      ],
      "metadata": {
        "id": "wUYyDH_oJfAi"
      }
    },
    {
      "cell_type": "code",
      "source": [
        "import numpy as np"
      ],
      "metadata": {
        "id": "GwXpKPyVIzDp"
      },
      "execution_count": null,
      "outputs": []
    },
    {
      "cell_type": "markdown",
      "source": [
        "\n",
        "ایجاد آرایه با اعداد مشخص\n",
        "*   np.array\n",
        "\n"
      ],
      "metadata": {
        "id": "MsCVKcGzJmsu"
      }
    },
    {
      "cell_type": "markdown",
      "source": [
        "##آرایه ی یک بعدی"
      ],
      "metadata": {
        "id": "8aj---uSLAVK"
      }
    },
    {
      "cell_type": "code",
      "source": [
        "one_dimentional_array = np.array([2.3, 4.03, 4.5, 3.9])\n",
        "print(one_dimentional_array)"
      ],
      "metadata": {
        "colab": {
          "base_uri": "https://localhost:8080/"
        },
        "id": "Yt_WCAgjJlmH",
        "outputId": "e5aa423e-f1d2-4e4a-a9a1-575e4d3fc19b"
      },
      "execution_count": null,
      "outputs": [
        {
          "output_type": "stream",
          "name": "stdout",
          "text": [
            "[2.3  4.03 4.5  3.9 ]\n"
          ]
        }
      ]
    },
    {
      "cell_type": "markdown",
      "source": [
        "##آرایه ی 2 بعدی"
      ],
      "metadata": {
        "id": "k8wAfSz-LSdl"
      }
    },
    {
      "cell_type": "code",
      "source": [
        "two_dimentional_array = np.array([[2.3,0], [4.03,3], [4.5,6], [3.9,4]])\n",
        "print(two_dimentional_array)"
      ],
      "metadata": {
        "colab": {
          "base_uri": "https://localhost:8080/"
        },
        "id": "usSTu6xMK3lB",
        "outputId": "3e049208-0f10-4033-f690-957e0585497c"
      },
      "execution_count": null,
      "outputs": [
        {
          "output_type": "stream",
          "name": "stdout",
          "text": [
            "[[2.3  0.  ]\n",
            " [4.03 3.  ]\n",
            " [4.5  6.  ]\n",
            " [3.9  4.  ]]\n"
          ]
        }
      ]
    },
    {
      "cell_type": "markdown",
      "source": [
        "##ساخت آرایه ی از 0\n",
        "* np.zeros\n",
        "\n",
        "##ساخت آرایه ی از 1\n",
        "* np.ones"
      ],
      "metadata": {
        "id": "s9cLKZl9L5xr"
      }
    },
    {
      "cell_type": "code",
      "source": [
        "np.ones(4)\n",
        "np.zeros(4)"
      ],
      "metadata": {
        "colab": {
          "base_uri": "https://localhost:8080/"
        },
        "id": "Zw5XkoNzLh5P",
        "outputId": "9269e332-fe4e-4495-da22-4e804172997e"
      },
      "execution_count": null,
      "outputs": [
        {
          "output_type": "execute_result",
          "data": {
            "text/plain": [
              "array([0., 0., 0., 0.])"
            ]
          },
          "metadata": {},
          "execution_count": 9
        }
      ]
    },
    {
      "cell_type": "markdown",
      "source": [
        "##ساخت آرایه ی از دنباله ای از اعداد"
      ],
      "metadata": {
        "id": "T51ghoDFNVFM"
      }
    },
    {
      "cell_type": "code",
      "source": [
        "sequence_of_intigers=np.arange(5,25)\n",
        "print(sequence_of_intigers)"
      ],
      "metadata": {
        "colab": {
          "base_uri": "https://localhost:8080/"
        },
        "id": "gnDDL-QQMlvG",
        "outputId": "e9b16eec-6d62-49fd-e9a0-f947c34fd443"
      },
      "execution_count": null,
      "outputs": [
        {
          "output_type": "stream",
          "name": "stdout",
          "text": [
            "[ 5  6  7  8  9 10 11 12 13 14 15 16 17 18 19 20 21 22 23 24]\n"
          ]
        }
      ]
    },
    {
      "cell_type": "markdown",
      "source": [
        "دقت کنید که از کوچکترین تا یکس مانده به آخرین عدد در این تابع آورده میشود و 25 در آن نیست"
      ],
      "metadata": {
        "id": "Zsf4uWKdN87h"
      }
    },
    {
      "cell_type": "markdown",
      "source": [
        "##ساخت آرایه ی از اعداد تصادفی"
      ],
      "metadata": {
        "id": "C3X_76uOOjZn"
      }
    },
    {
      "cell_type": "code",
      "source": [
        "random_integers_between_30_and_75 = np.random.randint(low=30,high=76,size=8)\n",
        "print(random_integers_between_30_and_75)"
      ],
      "metadata": {
        "colab": {
          "base_uri": "https://localhost:8080/"
        },
        "id": "2t-eAkevNRaE",
        "outputId": "325e1e9a-eab7-47ef-f228-51b0f3435d06"
      },
      "execution_count": null,
      "outputs": [
        {
          "output_type": "stream",
          "name": "stdout",
          "text": [
            "[64 73 75 74 65 67 50 37]\n"
          ]
        }
      ]
    },
    {
      "cell_type": "code",
      "source": [
        "random_floats_between_0_and_1 = np.random.random([8])\n",
        "print(random_floats_between_0_and_1)"
      ],
      "metadata": {
        "colab": {
          "base_uri": "https://localhost:8080/"
        },
        "id": "kIiJ3IMJPdmu",
        "outputId": "507621d5-540d-41d0-d203-961620ed85a5"
      },
      "execution_count": null,
      "outputs": [
        {
          "output_type": "stream",
          "name": "stdout",
          "text": [
            "[0.2978579  0.67577598 0.87503708 0.68845291 0.35687776 0.52982238\n",
            " 0.54850804 0.50050928]\n"
          ]
        }
      ]
    },
    {
      "cell_type": "markdown",
      "source": [],
      "metadata": {
        "id": "LhHUf7gIWnsR"
      }
    },
    {
      "cell_type": "markdown",
      "source": [
        "## عملیات های ریاضی در numpy"
      ],
      "metadata": {
        "id": "7odenJgqTB2P"
      }
    },
    {
      "cell_type": "markdown",
      "source": [
        "اگر می خواهید دو آرایه را اضافه یا کم کنید، جبر خطی مستلزم آن است که دو عملوند دارای ابعاد یکسانی باشند. علاوه بر این، اگر می خواهید دو آرایه را ضرب کنید، جبر خطی قوانین سختگیرانه ای را بر سازگاری ابعادی عملوندها اعمال می کند. خوشبختانه، NumPy از ترفندی به نام پخش استفاده می‌کند تا عملوند کوچک‌تر را به ابعادی که برای جبر خطی سازگار است، بسط دهد. به عنوان مثال، عملیات زیر از پخش برای اضافه کردن 2.0 به مقدار هر آیتم در آرایه ایجاد شده در سلول کد قبلی استفاده می کند:"
      ],
      "metadata": {
        "id": "f6I7lNNATpwC"
      }
    },
    {
      "cell_type": "code",
      "source": [
        "random_floats_between_2_and_3 = random_floats_between_0_and_1 + 2.0\n",
        "print(random_floats_between_2_and_3)"
      ],
      "metadata": {
        "colab": {
          "base_uri": "https://localhost:8080/"
        },
        "id": "XXRs9BH4W40n",
        "outputId": "49c0b292-c423-45f1-fc8c-03a5ae147a32"
      },
      "execution_count": null,
      "outputs": [
        {
          "output_type": "stream",
          "name": "stdout",
          "text": [
            "[2.2978579  2.67577598 2.87503708 2.68845291 2.35687776 2.52982238\n",
            " 2.54850804 2.50050928]\n"
          ]
        }
      ]
    },
    {
      "cell_type": "markdown",
      "source": [
        "پخش در ضرب"
      ],
      "metadata": {
        "id": "hRm4FPPfW3Sg"
      }
    },
    {
      "cell_type": "code",
      "source": [
        "random_integers_between_60_and_150 = random_integers_between_30_and_75 *2\n",
        "print(random_integers_between_60_and_150)"
      ],
      "metadata": {
        "colab": {
          "base_uri": "https://localhost:8080/"
        },
        "id": "9okaDbCWP0Tm",
        "outputId": "5a5699b4-3dc7-4310-8412-1a7e6aec4851"
      },
      "execution_count": null,
      "outputs": [
        {
          "output_type": "stream",
          "name": "stdout",
          "text": [
            "[128 146 150 148 130 134 100  74]\n"
          ]
        }
      ]
    },
    {
      "cell_type": "markdown",
      "source": [
        "تمرین 1:یک دیتاست خطی ایجاد کنید\n",
        "\n",
        "\n",
        "> هدف ایجاد یک دیتاست ساده با یک فیچر و برچسب آن است\n",
        "\n",
        "\n",
        "\n",
        "1.    دنباله ای از اعداد صحیح از 6 تا 20 به صورت numpy array\n",
        "2.   برچسب گزاری 15  تا از آنها\n",
        "\n",
        "\n",
        "\n",
        "\n",
        "\n"
      ],
      "metadata": {
        "id": "j6tV9D9iYHi3"
      }
    },
    {
      "cell_type": "code",
      "source": [
        "feature = np.arange(6,21)\n",
        "print(feature)\n",
        "label = (feature*3) + 4\n",
        "print(label)"
      ],
      "metadata": {
        "colab": {
          "base_uri": "https://localhost:8080/"
        },
        "id": "tvv7QNzMX3xJ",
        "outputId": "acb10194-4a88-4b04-f4bc-32027419bd0b"
      },
      "execution_count": null,
      "outputs": [
        {
          "output_type": "stream",
          "name": "stdout",
          "text": [
            "[ 6  7  8  9 10 11 12 13 14 15 16 17 18 19 20]\n",
            "[22 25 28 31 34 37 40 43 46 49 52 55 58 61 64]\n"
          ]
        }
      ]
    },
    {
      "cell_type": "markdown",
      "source": [
        "تمرین 2:\n",
        "تعدادی noise به دیتاست اضافه کنید .\n",
        "\n",
        "\n",
        "> دیتاست را کمی واقعی تر کنیدو به آن\n",
        "noise\n",
        "های تصادفی بیفزایید با افزودن یک سری\n",
        "اعداد تصادفی بین -2 , 2\n",
        "\n",
        "\n",
        "\n",
        "\n",
        "\n",
        "\n"
      ],
      "metadata": {
        "id": "OkQo7To2dFJ3"
      }
    },
    {
      "cell_type": "code",
      "source": [
        "noise = (np.random.random([15]) * 4)-2\n",
        "print(noise)\n",
        "label = noise + label\n",
        "print(label)"
      ],
      "metadata": {
        "colab": {
          "base_uri": "https://localhost:8080/"
        },
        "id": "IU_RHVVKbswL",
        "outputId": "618ccb55-7fd5-499e-fc12-09625bb81d2c"
      },
      "execution_count": null,
      "outputs": [
        {
          "output_type": "stream",
          "name": "stdout",
          "text": [
            "[-0.08743327  1.23214637 -0.94929191  1.62941158 -1.70572411 -1.48742196\n",
            " -1.44894025  0.27778523  1.66376771  1.79391725  0.28213797  0.76417225\n",
            "  0.53593718 -0.9062201   0.83314504]\n",
            "[20.15396475 24.95744876 27.47629653 30.70380744 34.02867619 35.18196544\n",
            " 39.56035744 42.75654723 46.71056034 50.92275635 53.06902421 56.25431318\n",
            " 60.47554443 60.05801252 64.8309942 ]\n"
          ]
        }
      ]
    },
    {
      "cell_type": "code",
      "source": [],
      "metadata": {
        "id": "hstEcGDlgzlR"
      },
      "execution_count": null,
      "outputs": []
    },
    {
      "cell_type": "markdown",
      "source": [
        "# Pandas DataFrame\n",
        "دیتا فرم ساختار مرکزی داده در pandas API\n",
        "است\n",
        "یک دیتا فریم شبیه یک spreadsheet است که در memory ذخیره شده\n",
        "\n",
        "\n",
        "*   یک دیتافریم داده ها را در سلول ها ذخیره می کند\n",
        "*   یک دیتافریم ستون هایش نام گزاری می شوند و ردیف هایش شماره گذاری میشود\n",
        "\n"
      ],
      "metadata": {
        "id": "xV1bvYIk0bwK"
      }
    },
    {
      "cell_type": "code",
      "source": [
        "import numpy as np\n",
        "import pandas as pd"
      ],
      "metadata": {
        "id": "CEl_Xmo-2-5U"
      },
      "execution_count": null,
      "outputs": []
    },
    {
      "cell_type": "markdown",
      "source": [
        "#Creating DataFrame\n",
        "\n",
        "\n",
        "\n",
        "*   5 ردیف\n",
        "*   2 ستون با نام tempreture , activity\n",
        "pd.Dataframe برای ساخت یک دیتا فریم 2 آرگومان می گیرد\n",
        "* اولین آرگومان داده را در 10 سلول ارائه میدهد np.array 5X2 numpy array\n",
        "* دومین آرگومان نام ستون ها را مشخص می کند\n",
        "\n"
      ],
      "metadata": {
        "id": "AQoGhDrY5Ozn"
      }
    },
    {
      "cell_type": "code",
      "source": [
        "my_data = np.array([[0,3],[10,7],[20,9],[30,14],[40,15]])\n",
        "\n",
        "my_column_names = ['temperature','activity']\n",
        "\n",
        "my_dataframe = pd.DataFrame(data=my_data, columns=my_column_names)\n",
        "\n",
        "print(my_dataframe)"
      ],
      "metadata": {
        "colab": {
          "base_uri": "https://localhost:8080/"
        },
        "id": "d8goMykF7Tgx",
        "outputId": "26dc8d9f-5c14-4147-df1f-934ea6322c93"
      },
      "execution_count": null,
      "outputs": [
        {
          "output_type": "stream",
          "name": "stdout",
          "text": [
            "   temperature  activity\n",
            "0            0         3\n",
            "1           10         7\n",
            "2           20         9\n",
            "3           30        14\n",
            "4           40        15\n"
          ]
        }
      ]
    },
    {
      "cell_type": "code",
      "source": [
        "print(\"Rows #0, #1, and #2:\")\n",
        "print(my_dataframe.head(3), '\\n')\n",
        "\n",
        "print(\"Row #2:\")\n",
        "print(my_dataframe.iloc[[2]], '\\n')\n",
        "\n",
        "print(\"Rows #1, #2, and #3:\")\n",
        "print(my_dataframe[1:4], '\\n')\n",
        "\n",
        "print(\"Column 'temperature':\")\n",
        "print(my_dataframe['temperature'])"
      ],
      "metadata": {
        "colab": {
          "base_uri": "https://localhost:8080/"
        },
        "id": "2VeIG-GN5pcj",
        "outputId": "37ac1f74-1bc5-48ed-8357-6cf6425d37cc"
      },
      "execution_count": null,
      "outputs": [
        {
          "output_type": "stream",
          "name": "stdout",
          "text": [
            "Rows #0, #1, and #2:\n",
            "   temperature  activity\n",
            "0            0         3\n",
            "1           10         7\n",
            "2           20         9 \n",
            "\n",
            "Row #2:\n",
            "   temperature  activity\n",
            "2           20         9 \n",
            "\n",
            "Rows #1, #2, and #3:\n",
            "   temperature  activity\n",
            "1           10         7\n",
            "2           20         9\n",
            "3           30        14 \n",
            "\n",
            "Column 'temperature':\n",
            "0     0\n",
            "1    10\n",
            "2    20\n",
            "3    30\n",
            "4    40\n",
            "Name: temperature, dtype: int64\n"
          ]
        }
      ]
    },
    {
      "cell_type": "markdown",
      "source": [
        "تمرین1: یک دیتافریم ایجاد کنید\n",
        "\n",
        "\n",
        "1.   3X4 Eleanor, Chidi, Tahani, Jason 12 سلول که در آنها 0تا 100 به صورت تصادفی\n",
        "\n",
        "1.   خروجی موارد زیر است\n",
        "\n",
        "\n",
        "*   کل دیتا فریم\n",
        "*   ردیف اول Eleanor درسلول ها را خروجی دهید\n",
        "\n",
        "\n",
        "2.   ایجاد نام ستون پنجم Janet ردیف\n",
        "\n",
        "مجموع tahani , jason\n",
        "\n"
      ],
      "metadata": {
        "id": "OzWfKRzj8wO8"
      }
    },
    {
      "cell_type": "code",
      "source": [
        "#@title Double-click for a solution to Task 1.\n",
        "\n",
        "# Create a Python list that holds the names of the four columns.\n",
        "my_column_names = ['Eleanor', 'Chidi', 'Tahani', 'Jason']\n",
        "\n",
        "# Create a 3x4 numpy array, each cell populated with a random integer.\n",
        "my_data = np.random.randint(low=0, high=101, size=(3, 4))\n",
        "\n",
        "# Create a DataFrame.\n",
        "df = pd.DataFrame(data=my_data, columns=my_column_names)\n",
        "\n",
        "# Print the entire DataFrame\n",
        "print(df)\n",
        "\n",
        "# Print the value in row #1 of the Eleanor column.\n",
        "print(\"\\nSecond row of the Eleanor column: %d\\n\" % df['Eleanor'][1])\n",
        "\n",
        "# Create a column named Janet whose contents are the sum\n",
        "# of two other columns.\n",
        "df['Janet'] = df['Tahani'] + df['Jason']\n",
        "\n",
        "# Print the enhanced DataFrame\n",
        "print(df)"
      ],
      "metadata": {
        "colab": {
          "base_uri": "https://localhost:8080/"
        },
        "id": "ATN2sV1J_0xk",
        "outputId": "8453ea00-18c9-4b71-c1cb-f53d78fc7645"
      },
      "execution_count": null,
      "outputs": [
        {
          "output_type": "stream",
          "name": "stdout",
          "text": [
            "   Eleanor  Chidi  Tahani  Jason\n",
            "0       77     42      13     48\n",
            "1       82     59      51     45\n",
            "2       93     70      72      7\n",
            "\n",
            "Second row of the Eleanor column: 82\n",
            "\n",
            "   Eleanor  Chidi  Tahani  Jason  Janet\n",
            "0       77     42      13     48     61\n",
            "1       82     59      51     45     96\n",
            "2       93     70      72      7     79\n"
          ]
        }
      ]
    },
    {
      "cell_type": "markdown",
      "source": [],
      "metadata": {
        "id": "V9aW-OMZ9Fwe"
      }
    },
    {
      "cell_type": "markdown",
      "source": [],
      "metadata": {
        "id": "9ndbG6ED9Fzr"
      }
    },
    {
      "cell_type": "code",
      "source": [
        "#@title Double-click for a solution to Task 1.\n",
        "\n",
        "# Create a Python list that holds the names of the four columns.\n",
        "my_column_names = ['Eleanor', 'Chidi', 'Tahani', 'Jason']\n",
        "\n",
        "# Create a 3x4 numpy array, each cell populated with a random integer.\n",
        "my_data = np.random.randint(low=0, high=101, size=(3, 4))\n",
        "\n",
        "# Create a DataFrame.\n",
        "df = pd.DataFrame(data=my_data, columns=my_column_names)\n",
        "\n",
        "# Print the entire DataFrame\n",
        "print(df)\n",
        "\n",
        "# Print the value in row #1 of the Eleanor column.\n",
        "print(\"\\nSecond row of the Eleanor column: %d\\n\" % df['Eleanor'][1])\n",
        "\n",
        "# Create a column named Janet whose contents are the sum\n",
        "# of two other columns.\n",
        "df['Janet'] = df['Tahani'] + df['Jason']\n",
        "\n",
        "# Print the enhanced DataFrame\n",
        "print(df)"
      ],
      "metadata": {
        "colab": {
          "base_uri": "https://localhost:8080/"
        },
        "id": "KiPA7oxj8C57",
        "outputId": "f974f363-7e3f-4782-fdef-9966d00598a7"
      },
      "execution_count": null,
      "outputs": [
        {
          "output_type": "stream",
          "name": "stdout",
          "text": [
            "   Eleanor  Chidi  Tahani  Jason\n",
            "0       42     75      75     72\n",
            "1       87     99      94     38\n",
            "2       24     10       7     67\n",
            "\n",
            "Second row of the Eleanor column: 87\n",
            "\n",
            "   Eleanor  Chidi  Tahani  Jason  Janet\n",
            "0       42     75      75     72    147\n",
            "1       87     99      94     38    132\n",
            "2       24     10       7     67     74\n"
          ]
        }
      ]
    },
    {
      "cell_type": "markdown",
      "source": [
        "##کپی یک دیتافریم\n",
        "\n",
        "\n",
        "*   Refrencing\n",
        "اگر یک دیتافریم را به یک متغییر جدید  ذخیره کنیم وتغییراتی در آن ایجاد کنیم تاثیر آن را در دیتافریم اولیه نیز می بینیم  \n",
        "*   Copying\n",
        "اما اگر np.DataFrame.copy را استفاده کنیم با تغییر در دیتافریم انعکاس آن را در دیگری نخواهیم دید\n"
      ],
      "metadata": {
        "id": "PLTBzz6mF0ds"
      }
    },
    {
      "cell_type": "code",
      "source": [
        "# Create a reference by assigning my_dataframe to a new variable.\n",
        "print(\"Experiment with a reference:\")\n",
        "reference_to_df = df\n",
        "\n",
        "# Print the starting value of a particular cell.\n",
        "print(\"  Starting value of df: %d\" % df['Jason'][1])\n",
        "print(\"  Starting value of reference_to_df: %d\\n\" % reference_to_df['Jason'][1])\n",
        "\n",
        "# Modify a cell in df.\n",
        "df.at[1, 'Jason'] = df['Jason'][1] + 5\n",
        "print(\"  Updated df: %d\" % df['Jason'][1])\n",
        "print(\"  Updated reference_to_df: %d\\n\\n\" % reference_to_df['Jason'][1])\n",
        "\n",
        "# Create a true copy of my_dataframe\n",
        "print(\"Experiment with a true copy:\")\n",
        "copy_of_my_dataframe = my_dataframe.copy()\n",
        "\n",
        "# Print the starting value of a particular cell.\n",
        "print(\"  Starting value of my_dataframe: %d\" % my_dataframe['activity'][1])\n",
        "print(\"  Starting value of copy_of_my_dataframe: %d\\n\" % copy_of_my_dataframe['activity'][1])\n",
        "\n",
        "# Modify a cell in df.\n",
        "my_dataframe.at[1, 'activity'] = my_dataframe['activity'][1] + 3\n",
        "print(\"  Updated my_dataframe: %d\" % my_dataframe['activity'][1])\n",
        "print(\"  copy_of_my_dataframe does not get updated: %d\" % copy_of_my_dataframe['activity'][1])"
      ],
      "metadata": {
        "colab": {
          "base_uri": "https://localhost:8080/",
          "height": 699
        },
        "id": "6bOWPPKKGT8O",
        "outputId": "5ddb647a-a34a-42bb-886e-1a37aadda3b5"
      },
      "execution_count": null,
      "outputs": [
        {
          "output_type": "stream",
          "name": "stdout",
          "text": [
            "Experiment with a reference:\n",
            "  Starting value of df: 38\n",
            "  Starting value of reference_to_df: 38\n",
            "\n",
            "  Updated df: 43\n",
            "  Updated reference_to_df: 43\n",
            "\n",
            "\n",
            "Experiment with a true copy:\n"
          ]
        },
        {
          "output_type": "error",
          "ename": "KeyError",
          "evalue": "ignored",
          "traceback": [
            "\u001b[0;31m---------------------------------------------------------------------------\u001b[0m",
            "\u001b[0;31mKeyError\u001b[0m                                  Traceback (most recent call last)",
            "\u001b[0;32m/usr/local/lib/python3.10/dist-packages/pandas/core/indexes/base.py\u001b[0m in \u001b[0;36mget_loc\u001b[0;34m(self, key, method, tolerance)\u001b[0m\n\u001b[1;32m   3801\u001b[0m             \u001b[0;32mtry\u001b[0m\u001b[0;34m:\u001b[0m\u001b[0;34m\u001b[0m\u001b[0;34m\u001b[0m\u001b[0m\n\u001b[0;32m-> 3802\u001b[0;31m                 \u001b[0;32mreturn\u001b[0m \u001b[0mself\u001b[0m\u001b[0;34m.\u001b[0m\u001b[0m_engine\u001b[0m\u001b[0;34m.\u001b[0m\u001b[0mget_loc\u001b[0m\u001b[0;34m(\u001b[0m\u001b[0mcasted_key\u001b[0m\u001b[0;34m)\u001b[0m\u001b[0;34m\u001b[0m\u001b[0;34m\u001b[0m\u001b[0m\n\u001b[0m\u001b[1;32m   3803\u001b[0m             \u001b[0;32mexcept\u001b[0m \u001b[0mKeyError\u001b[0m \u001b[0;32mas\u001b[0m \u001b[0merr\u001b[0m\u001b[0;34m:\u001b[0m\u001b[0;34m\u001b[0m\u001b[0;34m\u001b[0m\u001b[0m\n",
            "\u001b[0;32m/usr/local/lib/python3.10/dist-packages/pandas/_libs/index.pyx\u001b[0m in \u001b[0;36mpandas._libs.index.IndexEngine.get_loc\u001b[0;34m()\u001b[0m\n",
            "\u001b[0;32m/usr/local/lib/python3.10/dist-packages/pandas/_libs/index.pyx\u001b[0m in \u001b[0;36mpandas._libs.index.IndexEngine.get_loc\u001b[0;34m()\u001b[0m\n",
            "\u001b[0;32mpandas/_libs/hashtable_class_helper.pxi\u001b[0m in \u001b[0;36mpandas._libs.hashtable.PyObjectHashTable.get_item\u001b[0;34m()\u001b[0m\n",
            "\u001b[0;32mpandas/_libs/hashtable_class_helper.pxi\u001b[0m in \u001b[0;36mpandas._libs.hashtable.PyObjectHashTable.get_item\u001b[0;34m()\u001b[0m\n",
            "\u001b[0;31mKeyError\u001b[0m: 'activity'",
            "\nThe above exception was the direct cause of the following exception:\n",
            "\u001b[0;31mKeyError\u001b[0m                                  Traceback (most recent call last)",
            "\u001b[0;32m<ipython-input-46-c6d5a129dbfe>\u001b[0m in \u001b[0;36m<cell line: 19>\u001b[0;34m()\u001b[0m\n\u001b[1;32m     17\u001b[0m \u001b[0;34m\u001b[0m\u001b[0m\n\u001b[1;32m     18\u001b[0m \u001b[0;31m# Print the starting value of a particular cell.\u001b[0m\u001b[0;34m\u001b[0m\u001b[0;34m\u001b[0m\u001b[0m\n\u001b[0;32m---> 19\u001b[0;31m \u001b[0mprint\u001b[0m\u001b[0;34m(\u001b[0m\u001b[0;34m\"  Starting value of my_dataframe: %d\"\u001b[0m \u001b[0;34m%\u001b[0m \u001b[0mmy_dataframe\u001b[0m\u001b[0;34m[\u001b[0m\u001b[0;34m'activity'\u001b[0m\u001b[0;34m]\u001b[0m\u001b[0;34m[\u001b[0m\u001b[0;36m1\u001b[0m\u001b[0;34m]\u001b[0m\u001b[0;34m)\u001b[0m\u001b[0;34m\u001b[0m\u001b[0;34m\u001b[0m\u001b[0m\n\u001b[0m\u001b[1;32m     20\u001b[0m \u001b[0mprint\u001b[0m\u001b[0;34m(\u001b[0m\u001b[0;34m\"  Starting value of copy_of_my_dataframe: %d\\n\"\u001b[0m \u001b[0;34m%\u001b[0m \u001b[0mcopy_of_my_dataframe\u001b[0m\u001b[0;34m[\u001b[0m\u001b[0;34m'activity'\u001b[0m\u001b[0;34m]\u001b[0m\u001b[0;34m[\u001b[0m\u001b[0;36m1\u001b[0m\u001b[0;34m]\u001b[0m\u001b[0;34m)\u001b[0m\u001b[0;34m\u001b[0m\u001b[0;34m\u001b[0m\u001b[0m\n\u001b[1;32m     21\u001b[0m \u001b[0;34m\u001b[0m\u001b[0m\n",
            "\u001b[0;32m/usr/local/lib/python3.10/dist-packages/pandas/core/frame.py\u001b[0m in \u001b[0;36m__getitem__\u001b[0;34m(self, key)\u001b[0m\n\u001b[1;32m   3805\u001b[0m             \u001b[0;32mif\u001b[0m \u001b[0mself\u001b[0m\u001b[0;34m.\u001b[0m\u001b[0mcolumns\u001b[0m\u001b[0;34m.\u001b[0m\u001b[0mnlevels\u001b[0m \u001b[0;34m>\u001b[0m \u001b[0;36m1\u001b[0m\u001b[0;34m:\u001b[0m\u001b[0;34m\u001b[0m\u001b[0;34m\u001b[0m\u001b[0m\n\u001b[1;32m   3806\u001b[0m                 \u001b[0;32mreturn\u001b[0m \u001b[0mself\u001b[0m\u001b[0;34m.\u001b[0m\u001b[0m_getitem_multilevel\u001b[0m\u001b[0;34m(\u001b[0m\u001b[0mkey\u001b[0m\u001b[0;34m)\u001b[0m\u001b[0;34m\u001b[0m\u001b[0;34m\u001b[0m\u001b[0m\n\u001b[0;32m-> 3807\u001b[0;31m             \u001b[0mindexer\u001b[0m \u001b[0;34m=\u001b[0m \u001b[0mself\u001b[0m\u001b[0;34m.\u001b[0m\u001b[0mcolumns\u001b[0m\u001b[0;34m.\u001b[0m\u001b[0mget_loc\u001b[0m\u001b[0;34m(\u001b[0m\u001b[0mkey\u001b[0m\u001b[0;34m)\u001b[0m\u001b[0;34m\u001b[0m\u001b[0;34m\u001b[0m\u001b[0m\n\u001b[0m\u001b[1;32m   3808\u001b[0m             \u001b[0;32mif\u001b[0m \u001b[0mis_integer\u001b[0m\u001b[0;34m(\u001b[0m\u001b[0mindexer\u001b[0m\u001b[0;34m)\u001b[0m\u001b[0;34m:\u001b[0m\u001b[0;34m\u001b[0m\u001b[0;34m\u001b[0m\u001b[0m\n\u001b[1;32m   3809\u001b[0m                 \u001b[0mindexer\u001b[0m \u001b[0;34m=\u001b[0m \u001b[0;34m[\u001b[0m\u001b[0mindexer\u001b[0m\u001b[0;34m]\u001b[0m\u001b[0;34m\u001b[0m\u001b[0;34m\u001b[0m\u001b[0m\n",
            "\u001b[0;32m/usr/local/lib/python3.10/dist-packages/pandas/core/indexes/base.py\u001b[0m in \u001b[0;36mget_loc\u001b[0;34m(self, key, method, tolerance)\u001b[0m\n\u001b[1;32m   3802\u001b[0m                 \u001b[0;32mreturn\u001b[0m \u001b[0mself\u001b[0m\u001b[0;34m.\u001b[0m\u001b[0m_engine\u001b[0m\u001b[0;34m.\u001b[0m\u001b[0mget_loc\u001b[0m\u001b[0;34m(\u001b[0m\u001b[0mcasted_key\u001b[0m\u001b[0;34m)\u001b[0m\u001b[0;34m\u001b[0m\u001b[0;34m\u001b[0m\u001b[0m\n\u001b[1;32m   3803\u001b[0m             \u001b[0;32mexcept\u001b[0m \u001b[0mKeyError\u001b[0m \u001b[0;32mas\u001b[0m \u001b[0merr\u001b[0m\u001b[0;34m:\u001b[0m\u001b[0;34m\u001b[0m\u001b[0;34m\u001b[0m\u001b[0m\n\u001b[0;32m-> 3804\u001b[0;31m                 \u001b[0;32mraise\u001b[0m \u001b[0mKeyError\u001b[0m\u001b[0;34m(\u001b[0m\u001b[0mkey\u001b[0m\u001b[0;34m)\u001b[0m \u001b[0;32mfrom\u001b[0m \u001b[0merr\u001b[0m\u001b[0;34m\u001b[0m\u001b[0;34m\u001b[0m\u001b[0m\n\u001b[0m\u001b[1;32m   3805\u001b[0m             \u001b[0;32mexcept\u001b[0m \u001b[0mTypeError\u001b[0m\u001b[0;34m:\u001b[0m\u001b[0;34m\u001b[0m\u001b[0;34m\u001b[0m\u001b[0m\n\u001b[1;32m   3806\u001b[0m                 \u001b[0;31m# If we have a listlike key, _check_indexing_error will raise\u001b[0m\u001b[0;34m\u001b[0m\u001b[0;34m\u001b[0m\u001b[0m\n",
            "\u001b[0;31mKeyError\u001b[0m: 'activity'"
          ]
        }
      ]
    },
    {
      "cell_type": "code",
      "source": [],
      "metadata": {
        "id": "yAwE6kEdKJp_"
      },
      "execution_count": null,
      "outputs": []
    }
  ]
}