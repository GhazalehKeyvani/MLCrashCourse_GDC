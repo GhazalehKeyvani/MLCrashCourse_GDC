{
  "nbformat": 4,
  "nbformat_minor": 0,
  "metadata": {
    "colab": {
      "provenance": [],
      "authorship_tag": "ABX9TyM8ImQ/GINfKOAGkH2PVWdV",
      "include_colab_link": true
    },
    "kernelspec": {
      "name": "python3",
      "display_name": "Python 3"
    },
    "language_info": {
      "name": "python"
    }
  },
  "cells": [
    {
      "cell_type": "markdown",
      "metadata": {
        "id": "view-in-github",
        "colab_type": "text"
      },
      "source": [
        "<a href=\"https://colab.research.google.com/github/GhazalehKeyvani/Avina/blob/main/MLCrashCourse/fa_Representation_with_feature_crosses.ipynb\" target=\"_parent\"><img src=\"https://colab.research.google.com/assets/colab-badge.svg\" alt=\"Open In Colab\"/></a>"
      ]
    },
    {
      "cell_type": "markdown",
      "source": [
        "#Representation with a Feature Cross\n"
      ],
      "metadata": {
        "id": "kCRPnbFV5n5g"
      }
    },
    {
      "cell_type": "markdown",
      "source": [
        "##اهداف یادگیری\n",
        "\n",
        "\n",
        "\n",
        "*   استفاده از TensorFlow برای پیش نمایش ویژگی ها به روش های مختلف\n",
        "*   معرفی ویژگی های دور ریختنی\n",
        "*   برای ایجاد feature cross ویژگی های دور ریختنی را ترکیب می کنیم\n",
        "\n"
      ],
      "metadata": {
        "id": "5_RMGry-63lm"
      }
    },
    {
      "cell_type": "markdown",
      "source": [
        "##Import"
      ],
      "metadata": {
        "id": "qHG83PF999Oe"
      }
    },
    {
      "cell_type": "code",
      "source": [
        "#@title Load the import\n",
        "\n",
        "import numpy as np\n",
        "import pandas as pd\n",
        "import tensorflow as tf\n",
        "from tensorflow.keras import layers\n",
        "\n",
        "from matplotlib import pyplot as plt\n",
        "\n",
        "#خط های زیر تنظیم جزییات گزارش را انجام میدهند\n",
        "\n",
        "\n",
        "pd.options.display.max_rows = 10\n",
        "pd.options.display.float_format = \"{:.1f}\".format\n",
        "\n",
        "tf.keras.backend.set_floatx('float32')\n",
        "\n",
        "print('imported the madules')\n"
      ],
      "metadata": {
        "colab": {
          "base_uri": "https://localhost:8080/"
        },
        "id": "vkUxA9HI14BH",
        "outputId": "6e999b28-331b-4ea7-eec1-2f0b1f715ed0"
      },
      "execution_count": null,
      "outputs": [
        {
          "output_type": "stream",
          "name": "stdout",
          "text": [
            "imported the madules\n"
          ]
        }
      ]
    },
    {
      "cell_type": "markdown",
      "source": [
        "##نمونه ها را بارگذاری کنید، مقیاس بندی کنید و به هم بزنید\n",
        "\n",
        "\n",
        "بارگزاری فایل های csv به صورت جداگانه در قالب دو دیتافریم:\n",
        "\n",
        "\n",
        "*   train_df\n",
        "*   test_df\n",
        "\n",
        "و داده ها را در قالب median_house_value برای فهم بهتره انسانی می آوریم و سپس آنرا shuffle میکنیم"
      ],
      "metadata": {
        "id": "k20gQ5dw-VVu"
      }
    },
    {
      "cell_type": "code",
      "source": [
        "train_df = pd.read_csv(\"https://download.mlcc.google.com/mledu-datasets/california_housing_train.csv\")\n",
        "test_df = pd.read_csv(\"https://download.mlcc.google.com/mledu-datasets/california_housing_test.csv\")\n",
        "\n",
        "\n",
        "\n",
        "scale_factor = 1000.0\n",
        "train_df['median_house_value'] /= scale_factor\n",
        "test_df['median_house_value'] /= scale_factor\n",
        "\n",
        "train_df = train_df.reindex(np.random.permutation(train_df.index))"
      ],
      "metadata": {
        "id": "lXSAoPfQ6-Wv"
      },
      "execution_count": null,
      "outputs": []
    },
    {
      "cell_type": "markdown",
      "source": [
        "##معرفی طول و عرض جغرافیایی به عنوان ارزش floating-point\n",
        "\n",
        "در ماژول قبل ما از یک ویژگی معنادار استفاده کردیم اما در اینجا از دو ویژگی استفاده میکنیم در نتیجه به لایه های ورودی نیاز داریم\n",
        "\n",
        "موقعیت مکانی محله ی ملک مهمترین ویژگی مشخص کننده ی قیمت ملک است در دیتاست خانه های کالیفورنیا ما دو ویژگی عرض و طوت جغرافیایی را داریم که با آنها می توانیم موقعیت محله ی ملک را مشخص کنیم\n",
        "\n",
        "در کد زیر دو لایه ی tf.kerad.Input راداریم یکی برای مشخص کردن عرض جغرافیایی و دیگری برای طول جغرافیایی هر دو به عنوان مقادیر نقاط شناور floating-point\n"
      ],
      "metadata": {
        "id": "ysYjU8TM-__V"
      }
    },
    {
      "cell_type": "code",
      "source": [
        "#تنسور مقادیر شناور\n",
        "\n",
        "inputs = {\n",
        "    'latitude': tf.keras.layers.Input(shape=(1,), dtype=tf.float32,\n",
        "                                      name='latitude'),\n",
        "    'longitude': tf.keras.layers.Input(shape=(1,),dtype=tf.float32,\n",
        "                                       name='longitude')\n",
        "\n",
        "}"
      ],
      "metadata": {
        "id": "o5LfoHXpCH-E"
      },
      "execution_count": null,
      "outputs": []
    },
    {
      "cell_type": "markdown",
      "source": [
        "##تعریف توابعی  برای ایجاد و آموزش , یک مدل و یک تابع طراحی\n",
        "\n",
        "سه تابع در کد زیر تعریف شده:\n",
        "\n",
        "\n",
        "\n",
        "*   create_model\n",
        "\n",
        "  به تنسورفلو می گوید که یک مدل رگرسیون خطی بر اساس ورودی ها و خروجی ها بسازد\n",
        "\n",
        "*   train_model\n",
        "*   plot_the_loss_curve\n"
      ],
      "metadata": {
        "id": "cn5DEs1rAIR0"
      }
    },
    {
      "cell_type": "code",
      "source": [
        "#@title Define functions to create and train a model, and a plotting function\n",
        "\n",
        "def create_model(my_inputs, my_outputs, my_learning_rate):\n",
        "\n",
        "  model = tf.keras.Model(inputs=my_inputs, outputs = my_outputs)\n",
        "\n",
        "  # ساخت لایه های قابل اجرا برای تنسور فلو با تبدیل آنها به مدل\n",
        "  model.compile(optimizer=tf.keras.optimizers.experimental.RMSprop(learning_rate=my_learning_rate) ,\n",
        "                loss='mean_squared_error' ,\n",
        "                metrics=[tf.keras.metrics.RootMeanSquaredError()] )\n",
        "\n",
        "  return model\n",
        "\n",
        "def train_model(model, dataset, epochs, batch_size, label_name):\n",
        "  \"\"\"یک مجموعه داده را به مدل وارد کنید تا آن را آموزش دهید\"\"\"\n",
        "\n",
        "  features = {name:np.array(value) for name, value in dataset.items()}\n",
        "  label = np.array(features.pop(label_name))\n",
        "  history = model.fit(x=features, y=label, batch_size=batch_size,\n",
        "                      epochs=epochs, shuffle=True)\n",
        "\n",
        "\n",
        "#لیست epoch ها به صورت جداگانه ذخیره میشود\n",
        "  epochs = history.epoch\n",
        "\n",
        "\n",
        "#مینیمم مطلق خطای هر epoch  را منزوی میکنیم\n",
        "  hist = pd.DataFrame(history.history)\n",
        "  rmse = hist['root_mean_squared_error']\n",
        "\n",
        "  return epochs,rmse\n",
        "\n",
        "\n",
        "def plot_the_loss_curve(epochs,rmse):\n",
        "  \"\"\"منحنی loss در مقابل epochs را بکش\"\"\"\n",
        "\n",
        "  plt.figure()\n",
        "  plt.xlabel(\"Epoch\")\n",
        "  plt.ylabel(\"Root Mean Squared Error\")\n",
        "\n",
        "  plt.plot(epochs,rmse, label=\"Loss\")\n",
        "  plt.plot()\n",
        "  plt.ylim([rmse.min()*0.94,rmse.max()*1.05])\n",
        "  plt.show()\n",
        "\n",
        "print(\"Defined the create_model, train_model, and plot_the_loss_curve functions.\")\n"
      ],
      "metadata": {
        "colab": {
          "base_uri": "https://localhost:8080/"
        },
        "id": "4DuNzMZLEt2I",
        "outputId": "97d61827-4db0-4c72-a877-65bee5eb91ba"
      },
      "execution_count": null,
      "outputs": [
        {
          "output_type": "stream",
          "name": "stdout",
          "text": [
            "Defined the create_model, train_model, and plot_the_loss_curve functions.\n"
          ]
        }
      ]
    },
    {
      "cell_type": "markdown",
      "source": [
        "##آموزش مدل با معرفی مقادیر شناور"
      ],
      "metadata": {
        "id": "gInsKyglDgrG"
      }
    },
    {
      "cell_type": "code",
      "source": [
        "\n",
        "#مقداردهی هایپر پارامتر ها\n",
        "learning_rate = 0.05\n",
        "epochs = 30\n",
        "batch_size = 100\n",
        "label_name = 'median_house_value'\n",
        "\n",
        "\n",
        "#  دو لایه ی ورودی بهم متصل شده و می توان به صورت یک لایه از آن استفاده نمود\n",
        "# تبدیل تنسور به یک لایه ی متراکم\n",
        "preprocessing_layer = tf.keras.layers.Concatenate()(inputs.values())\n",
        "dense_output = layers.Dense(units=1, name='dense_layer')(preprocessing_layer)\n",
        "\n",
        "outputs = {\n",
        "  'dense_output': dense_output\n",
        "}\n",
        "\n",
        "# ایجاد و گرد آوری تپو گرافی مدل\n",
        "my_model = create_model(inputs, outputs, learning_rate)\n",
        "\n",
        "# برای مشاهده یک PNG از لایه‌های این مدل، تماس را لغو نظر کنید\n",
        "# `tf.keras.utils.plot_model` در زیر. پس از اجرای این سلول کد، کلیک کنید\n",
        "# پوشه فایل در سمت چپ، سپس فایل «my_model.png».\n",
        "# tf.keras.utils.plot_model(my_model، \"my_model.png\"، show_shapes=True)\n",
        "\n",
        "# آموزش مدل روی داده های آموزشی\n",
        "epochs, rmse = train_model(my_model, train_df, epochs, batch_size,label_name)\n",
        "\n",
        "# خلاصه ی مدل را چاپ کن\n",
        "my_model.summary()\n",
        "\n",
        "plot_the_loss_curve(epochs, rmse)\n",
        "\n",
        "print(\"\\n: Evaluate the new model against the test set:\")\n",
        "test_features = {name:np.array(value) for name, value in test_df.items()}\n",
        "test_label = np.array(test_features.pop(label_name))\n",
        "my_model.evaluate(x=test_features, y=test_label, batch_size= batch_size)"
      ],
      "metadata": {
        "colab": {
          "base_uri": "https://localhost:8080/",
          "height": 1000
        },
        "id": "r9Vf_ayJkh2-",
        "outputId": "b3761ac7-ffc7-40ee-a1ba-6d13d0a3fc51"
      },
      "execution_count": null,
      "outputs": [
        {
          "output_type": "stream",
          "name": "stdout",
          "text": [
            "Epoch 1/30\n"
          ]
        },
        {
          "output_type": "stream",
          "name": "stderr",
          "text": [
            "/usr/local/lib/python3.10/dist-packages/keras/src/engine/functional.py:642: UserWarning: Input dict contained keys ['housing_median_age', 'total_rooms', 'total_bedrooms', 'population', 'households', 'median_income'] which did not match any model input. They will be ignored by the model.\n",
            "  inputs = self._flatten_to_reference_inputs(inputs)\n"
          ]
        },
        {
          "output_type": "stream",
          "name": "stdout",
          "text": [
            "170/170 [==============================] - 1s 2ms/step - loss: 13615.5488 - root_mean_squared_error: 116.6857\n",
            "Epoch 2/30\n",
            "170/170 [==============================] - 0s 2ms/step - loss: 13540.6846 - root_mean_squared_error: 116.3644\n",
            "Epoch 3/30\n",
            "170/170 [==============================] - 0s 1ms/step - loss: 13496.9551 - root_mean_squared_error: 116.1764\n",
            "Epoch 4/30\n",
            "170/170 [==============================] - 0s 1ms/step - loss: 13445.1514 - root_mean_squared_error: 115.9532\n",
            "Epoch 5/30\n",
            "170/170 [==============================] - 0s 1ms/step - loss: 13383.8555 - root_mean_squared_error: 115.6886\n",
            "Epoch 6/30\n",
            "170/170 [==============================] - 0s 2ms/step - loss: 13358.6855 - root_mean_squared_error: 115.5798\n",
            "Epoch 7/30\n",
            "170/170 [==============================] - 0s 1ms/step - loss: 13307.1543 - root_mean_squared_error: 115.3566\n",
            "Epoch 8/30\n",
            "170/170 [==============================] - 0s 1ms/step - loss: 13275.4229 - root_mean_squared_error: 115.2190\n",
            "Epoch 9/30\n",
            "170/170 [==============================] - 0s 2ms/step - loss: 13249.4092 - root_mean_squared_error: 115.1061\n",
            "Epoch 10/30\n",
            "170/170 [==============================] - 0s 1ms/step - loss: 13213.7451 - root_mean_squared_error: 114.9511\n",
            "Epoch 11/30\n",
            "170/170 [==============================] - 0s 1ms/step - loss: 13159.2070 - root_mean_squared_error: 114.7136\n",
            "Epoch 12/30\n",
            "170/170 [==============================] - 0s 1ms/step - loss: 13136.5889 - root_mean_squared_error: 114.6150\n",
            "Epoch 13/30\n",
            "170/170 [==============================] - 0s 1ms/step - loss: 13114.7402 - root_mean_squared_error: 114.5196\n",
            "Epoch 14/30\n",
            "170/170 [==============================] - 0s 1ms/step - loss: 13075.7012 - root_mean_squared_error: 114.3490\n",
            "Epoch 15/30\n",
            "170/170 [==============================] - 0s 1ms/step - loss: 13084.5391 - root_mean_squared_error: 114.3877\n",
            "Epoch 16/30\n",
            "170/170 [==============================] - 0s 1ms/step - loss: 13041.4014 - root_mean_squared_error: 114.1990\n",
            "Epoch 17/30\n",
            "170/170 [==============================] - 0s 1ms/step - loss: 13023.7812 - root_mean_squared_error: 114.1218\n",
            "Epoch 18/30\n",
            "170/170 [==============================] - 0s 1ms/step - loss: 13006.1172 - root_mean_squared_error: 114.0444\n",
            "Epoch 19/30\n",
            "170/170 [==============================] - 0s 1ms/step - loss: 12965.7627 - root_mean_squared_error: 113.8673\n",
            "Epoch 20/30\n",
            "170/170 [==============================] - 0s 1ms/step - loss: 12955.6865 - root_mean_squared_error: 113.8231\n",
            "Epoch 21/30\n",
            "170/170 [==============================] - 0s 1ms/step - loss: 12959.0645 - root_mean_squared_error: 113.8379\n",
            "Epoch 22/30\n",
            "170/170 [==============================] - 0s 1ms/step - loss: 12948.4785 - root_mean_squared_error: 113.7914\n",
            "Epoch 23/30\n",
            "170/170 [==============================] - 0s 1ms/step - loss: 12915.7002 - root_mean_squared_error: 113.6473\n",
            "Epoch 24/30\n",
            "170/170 [==============================] - 0s 1ms/step - loss: 12909.5771 - root_mean_squared_error: 113.6203\n",
            "Epoch 25/30\n",
            "170/170 [==============================] - 0s 1ms/step - loss: 12887.2217 - root_mean_squared_error: 113.5219\n",
            "Epoch 26/30\n",
            "170/170 [==============================] - 0s 1ms/step - loss: 12890.5225 - root_mean_squared_error: 113.5364\n",
            "Epoch 27/30\n",
            "170/170 [==============================] - 0s 1ms/step - loss: 12870.7393 - root_mean_squared_error: 113.4493\n",
            "Epoch 28/30\n",
            "170/170 [==============================] - 0s 1ms/step - loss: 12862.7988 - root_mean_squared_error: 113.4143\n",
            "Epoch 29/30\n",
            "170/170 [==============================] - 0s 1ms/step - loss: 12842.4541 - root_mean_squared_error: 113.3246\n",
            "Epoch 30/30\n",
            "170/170 [==============================] - 0s 1ms/step - loss: 12847.6855 - root_mean_squared_error: 113.3476\n",
            "Model: \"model_1\"\n",
            "__________________________________________________________________________________________________\n",
            " Layer (type)                Output Shape                 Param #   Connected to                  \n",
            "==================================================================================================\n",
            " latitude (InputLayer)       [(None, 1)]                  0         []                            \n",
            "                                                                                                  \n",
            " longitude (InputLayer)      [(None, 1)]                  0         []                            \n",
            "                                                                                                  \n",
            " concatenate_1 (Concatenate  (None, 2)                    0         ['latitude[0][0]',            \n",
            " )                                                                   'longitude[0][0]']           \n",
            "                                                                                                  \n",
            " dense_layer (Dense)         (None, 1)                    3         ['concatenate_1[0][0]']       \n",
            "                                                                                                  \n",
            "==================================================================================================\n",
            "Total params: 3 (12.00 Byte)\n",
            "Trainable params: 3 (12.00 Byte)\n",
            "Non-trainable params: 0 (0.00 Byte)\n",
            "__________________________________________________________________________________________________\n"
          ]
        },
        {
          "output_type": "display_data",
          "data": {
            "text/plain": [
              "<Figure size 640x480 with 1 Axes>"
            ],
            "image/png": "[encoded data removed]"
          },
          "metadata": {}
        },
        {
          "output_type": "stream",
          "name": "stdout",
          "text": [
            "\n",
            ": Evaluate the new model against the test set:\n",
            "30/30 [==============================] - 0s 1ms/step - loss: 12183.4316 - root_mean_squared_error: 110.3786\n"
          ]
        },
        {
          "output_type": "stream",
          "name": "stderr",
          "text": [
            "/usr/local/lib/python3.10/dist-packages/keras/src/engine/functional.py:642: UserWarning: Input dict contained keys ['housing_median_age', 'total_rooms', 'total_bedrooms', 'population', 'households', 'median_income'] which did not match any model input. They will be ignored by the model.\n",
            "  inputs = self._flatten_to_reference_inputs(inputs)\n"
          ]
        },
        {
          "output_type": "execute_result",
          "data": {
            "text/plain": [
              "[12183.431640625, 110.37858581542969]"
            ]
          },
          "metadata": {},
          "execution_count": 8
        }
      ]
    },
    {
      "cell_type": "markdown",
      "source": [
        "##تمرین 1 : چرا مقادیر اعشاری راه مناسبی برای نمایش طول و عرض جغرافیایی نیست؟\n",
        "\n"
      ],
      "metadata": {
        "id": "w8dfiGGRC2QW"
      }
    },
    {
      "cell_type": "code",
      "source": [
        "#@title برای مشاهده پاسخ به تمرین 1 دوبار کلیک کنید.\n",
        "\n",
        "# شماره نشان دهنده طول و عرض جغرافیایی به عنوان\n",
        "# مقادیر ممیز شناور چیز زیادی ندارد\n",
        "# قدرت پیش بینی به عنوان مثال، محله ها در\n",
        "# عرض جغرافیایی 35 36/35 ارزش بیشتری ندارند\n",
        "# (یا 35/36 کم ارزش تر) از خانه های در\n",
        "# عرض جغرافیایی 36.\n",
        "\n",
        "# نشان دهنده «طول و عرض جغرافیایی» به عنوان\n",
        "# مقادیر ممیز شناور تقریباً هیچ ارائه نمی دهد\n",
        "# قدرت پیش بینی ما فقط از مقادیر خام استفاده می کنیم\n",
        "# برای ایجاد یک خط پایه برای آزمایش های آینده\n",
        "# با بازنمایی بهتر."
      ],
      "metadata": {
        "id": "hNsIxylT0NpO"
      },
      "execution_count": null,
      "outputs": []
    },
    {
      "cell_type": "markdown",
      "source": [
        "##نمایش طول و عرض جغرافیایی در بسته ها buckets\n",
        "\n",
        " کد زیر عرض و طول جغرافیایی را در بسته هایی معرفی می کند هر بسته همه ی محله ها را با یک درجه معرفی می کند برای مثال محله های در طول جغرافیایی 35.4 و 35.8 دربسته های مشابه هستند ولی\n",
        "\n",
        " مدل برای هر بسته یک وزن جدا یاد خواهد گرفت برای مثال و مدل یک وزن برای محله هایی که در بسته ی با طول جغرافیایی 35 وزن متفاوتی با بسته ای با ول جغرافیایی 36 یاد می گیرد در اینجا 20 بسته در نظر گرفته شده:\n",
        "\n",
        "\n",
        "*   10 بسته برای عرض جغرافیایی\n",
        "*   10 بسته برای طول جغرافیایی\n",
        "\n"
      ],
      "metadata": {
        "id": "bUKNZBNI_f2U"
      }
    },
    {
      "cell_type": "code",
      "execution_count": null,
      "metadata": {
        "id": "OlfX2OgdoCeT",
        "colab": {
          "base_uri": "https://localhost:8080/"
        },
        "outputId": "d2fc3e43-4baf-427e-b4a5-c3774e52bb4c"
      },
      "outputs": [
        {
          "output_type": "stream",
          "name": "stdout",
          "text": [
            "latitude boundries: [32.0, 33.0, 34.0, 35.0, 36.0, 37.0, 38.0, 39.0, 40.0]\n",
            "longitude boundries: [-124.0, -123.0, -122.0, -121.0, -120.0, -119.0, -118.0, -117.0, -116.0, -115.0]\n"
          ]
        }
      ],
      "source": [
        "resolution_in_degrees = 1.0\n",
        "#ایجاد لیستی از اعداد معرفی شده در مرز بسته ها\n",
        "latitude_boundries = list(np.arange(int(min(train_df['latitude'])),\n",
        "                                    int(max(train_df['latitude']))\n",
        "                                    , resolution_in_degrees))\n",
        "print(\"latitude boundries: \"+str(latitude_boundries))\n",
        "#  ایجاد یک لایه ی گسسته سازی برای جداسازی عرض های جغرافیایی\n",
        "latitude = tf. keras.layers.Discretization(\n",
        "    bin_boundaries=latitude_boundries,\n",
        "    name='discretization_latitude')(inputs.get('latitude'))\n",
        "\n",
        "#  تعداد دسته بندی ها مساوی است با طول مرز های عرض جغرافیایی به علاوه ی یک\n",
        "latitude = tf.keras.layers.CategoryEncoding(\n",
        "    num_tokens=len(latitude_boundries) + 1,\n",
        "    output_mode='one_hot',\n",
        "    name='category_encoding_latitude')(latitude)\n",
        "# ایجاد یک لیست از اعداد معرفی کننده ی مرز بسته های عرض جغرافیایی\n",
        "longitude_boundries = list(np.arange(int(min(train_df['longitude'])),\n",
        "                                    int(max(train_df['longitude']))\n",
        "                                    , resolution_in_degrees))\n",
        "print(\"longitude boundries: \"+str(longitude_boundries))\n",
        "# ایجاد یک لایه ی گسسته سازی برای جداسازی طول های جغرافیایی\n",
        "longitude = tf. keras.layers.Discretization(\n",
        "    bin_boundaries=longitude_boundries,\n",
        "    name='discretization_longitude')(inputs.get('longitude'))\n",
        "\n",
        "#  تعداد دسته بندی ها مساوی است با طول مرز های طول جغرافیایی به علاوه ی یک\n",
        "longitude = tf.keras.layers.CategoryEncoding(\n",
        "    num_tokens=len(longitude_boundries) + 1,\n",
        "    output_mode='one_hot',\n",
        "    name='category_encoding_longitude')(longitude)\n",
        "\n",
        "\n",
        "# Concatenate latitude and longitude into a single tensor as input for the Dense layer.\n",
        "concatenate_layer = tf.keras.layers.Concatenate()([latitude, longitude])\n",
        "\n",
        "dense_output = layers.Dense(units=1, name='dense_layer')(concatenate_layer)\n",
        "\n",
        "# Define an output dictionary we'll send to the model constructor.\n",
        "outputs = {\n",
        "  'dense_output': dense_output\n",
        "}"
      ]
    },
    {
      "cell_type": "markdown",
      "source": [
        "##اموزش دادن مدل با معرفی بسته ها\n"
      ],
      "metadata": {
        "id": "a2hUpmpNHq-x"
      }
    },
    {
      "cell_type": "code",
      "source": [
        "\n",
        "#مقداردهی هایپر پارامتر ها\n",
        "learning_rate = 0.05\n",
        "epochs = 30\n",
        "\n",
        "\n",
        "# ایجاد و گرد آوری تپو گرافی مدل\n",
        "my_model = create_model(inputs, outputs, learning_rate)\n",
        "\n",
        "# برای مشاهده یک PNG از لایه‌های این مدل، تماس را لغو نظر کنید\n",
        "# `tf.keras.utils.plot_model` در زیر. پس از اجرای این سلول کد، کلیک کنید\n",
        "# پوشه فایل در سمت چپ، سپس فایل «my_model.png».\n",
        "# tf.keras.utils.plot_model(my_model، \"my_model.png\"، show_shapes=True)\n",
        "\n",
        "# آموزش مدل روی داده های آموزشی\n",
        "epochs, rmse = train_model(my_model, train_df, epochs, batch_size,label_name)\n",
        "\n",
        "# خلاصه ی مدل را چاپ کن\n",
        "my_model.summary(expand_nested=True)\n",
        "\n",
        "plot_the_loss_curve(epochs, rmse)\n",
        "\n",
        "print(\"\\n: Evaluate the new model against the test set:\")\n",
        "my_model.evaluate(x=test_features, y=test_label, batch_size= batch_size)"
      ],
      "metadata": {
        "colab": {
          "base_uri": "https://localhost:8080/",
          "height": 1000
        },
        "id": "77FzC4IYn395",
        "outputId": "f39d6375-9015-4130-8129-d277e8a7f7c5"
      },
      "execution_count": null,
      "outputs": [
        {
          "output_type": "stream",
          "name": "stdout",
          "text": [
            "Epoch 1/30\n"
          ]
        },
        {
          "output_type": "stream",
          "name": "stderr",
          "text": [
            "/usr/local/lib/python3.10/dist-packages/keras/src/engine/functional.py:642: UserWarning: Input dict contained keys ['housing_median_age', 'total_rooms', 'total_bedrooms', 'population', 'households', 'median_income'] which did not match any model input. They will be ignored by the model.\n",
            "  inputs = self._flatten_to_reference_inputs(inputs)\n"
          ]
        },
        {
          "output_type": "stream",
          "name": "stdout",
          "text": [
            "170/170 [==============================] - 0s 1ms/step - loss: 50987.7305 - root_mean_squared_error: 225.8046\n",
            "Epoch 2/30\n",
            "170/170 [==============================] - 0s 1ms/step - loss: 42000.4453 - root_mean_squared_error: 204.9401\n",
            "Epoch 3/30\n",
            "170/170 [==============================] - 0s 1ms/step - loss: 34294.8984 - root_mean_squared_error: 185.1888\n",
            "Epoch 4/30\n",
            "170/170 [==============================] - 0s 1ms/step - loss: 27787.8535 - root_mean_squared_error: 166.6969\n",
            "Epoch 5/30\n",
            "170/170 [==============================] - 0s 1ms/step - loss: 22468.8125 - root_mean_squared_error: 149.8960\n",
            "Epoch 6/30\n",
            "170/170 [==============================] - 0s 1ms/step - loss: 18344.9629 - root_mean_squared_error: 135.4436\n",
            "Epoch 7/30\n",
            "170/170 [==============================] - 0s 1ms/step - loss: 15287.7314 - root_mean_squared_error: 123.6436\n",
            "Epoch 8/30\n",
            "170/170 [==============================] - 0s 1ms/step - loss: 13149.6475 - root_mean_squared_error: 114.6719\n",
            "Epoch 9/30\n",
            "170/170 [==============================] - 0s 1ms/step - loss: 11853.4326 - root_mean_squared_error: 108.8735\n",
            "Epoch 10/30\n",
            "170/170 [==============================] - 0s 1ms/step - loss: 11170.2051 - root_mean_squared_error: 105.6892\n",
            "Epoch 11/30\n",
            "170/170 [==============================] - 0s 1ms/step - loss: 10854.6328 - root_mean_squared_error: 104.1856\n",
            "Epoch 12/30\n",
            "170/170 [==============================] - 0s 1ms/step - loss: 10687.5400 - root_mean_squared_error: 103.3806\n",
            "Epoch 13/30\n",
            "170/170 [==============================] - 0s 1ms/step - loss: 10592.7188 - root_mean_squared_error: 102.9209\n",
            "Epoch 14/30\n",
            "170/170 [==============================] - 0s 1ms/step - loss: 10538.4541 - root_mean_squared_error: 102.6570\n",
            "Epoch 15/30\n",
            "170/170 [==============================] - 0s 1ms/step - loss: 10504.6514 - root_mean_squared_error: 102.4922\n",
            "Epoch 16/30\n",
            "170/170 [==============================] - 0s 1ms/step - loss: 10479.7305 - root_mean_squared_error: 102.3706\n",
            "Epoch 17/30\n",
            "170/170 [==============================] - 0s 1ms/step - loss: 10461.5117 - root_mean_squared_error: 102.2815\n",
            "Epoch 18/30\n",
            "170/170 [==============================] - 0s 1ms/step - loss: 10446.0459 - root_mean_squared_error: 102.2059\n",
            "Epoch 19/30\n",
            "170/170 [==============================] - 0s 1ms/step - loss: 10433.1230 - root_mean_squared_error: 102.1427\n",
            "Epoch 20/30\n",
            "170/170 [==============================] - 0s 1ms/step - loss: 10421.0488 - root_mean_squared_error: 102.0835\n",
            "Epoch 21/30\n",
            "170/170 [==============================] - 0s 1ms/step - loss: 10409.7480 - root_mean_squared_error: 102.0282\n",
            "Epoch 22/30\n",
            "170/170 [==============================] - 0s 1ms/step - loss: 10398.3418 - root_mean_squared_error: 101.9723\n",
            "Epoch 23/30\n",
            "170/170 [==============================] - 0s 1ms/step - loss: 10388.3252 - root_mean_squared_error: 101.9231\n",
            "Epoch 24/30\n",
            "170/170 [==============================] - 0s 1ms/step - loss: 10377.8223 - root_mean_squared_error: 101.8716\n",
            "Epoch 25/30\n",
            "170/170 [==============================] - 0s 1ms/step - loss: 10368.2979 - root_mean_squared_error: 101.8248\n",
            "Epoch 26/30\n",
            "170/170 [==============================] - 0s 1ms/step - loss: 10359.4746 - root_mean_squared_error: 101.7815\n",
            "Epoch 27/30\n",
            "170/170 [==============================] - 0s 1ms/step - loss: 10350.9941 - root_mean_squared_error: 101.7398\n",
            "Epoch 28/30\n",
            "170/170 [==============================] - 0s 2ms/step - loss: 10343.4023 - root_mean_squared_error: 101.7025\n",
            "Epoch 29/30\n",
            "170/170 [==============================] - 0s 2ms/step - loss: 10335.1807 - root_mean_squared_error: 101.6621\n",
            "Epoch 30/30\n",
            "170/170 [==============================] - 0s 1ms/step - loss: 10327.2207 - root_mean_squared_error: 101.6229\n",
            "Model: \"model_2\"\n",
            "__________________________________________________________________________________________________\n",
            " Layer (type)                Output Shape                 Param #   Connected to                  \n",
            "==================================================================================================\n",
            " latitude (InputLayer)       [(None, 1)]                  0         []                            \n",
            "                                                                                                  \n",
            " longitude (InputLayer)      [(None, 1)]                  0         []                            \n",
            "                                                                                                  \n",
            " discretization_latitude (D  (None, 1)                    0         ['latitude[0][0]']            \n",
            " iscretization)                                                                                   \n",
            "                                                                                                  \n",
            " discretization_longitude (  (None, 1)                    0         ['longitude[0][0]']           \n",
            " Discretization)                                                                                  \n",
            "                                                                                                  \n",
            " category_encoding_latitude  (None, 10)                   0         ['discretization_latitude[0][0\n",
            "  (CategoryEncoding)                                                ]']                           \n",
            "                                                                                                  \n",
            " category_encoding_longitud  (None, 11)                   0         ['discretization_longitude[0][\n",
            " e (CategoryEncoding)                                               0]']                          \n",
            "                                                                                                  \n",
            " concatenate_3 (Concatenate  (None, 21)                   0         ['category_encoding_latitude[0\n",
            " )                                                                  ][0]',                        \n",
            "                                                                     'category_encoding_longitude[\n",
            "                                                                    0][0]']                       \n",
            "                                                                                                  \n",
            " dense_layer (Dense)         (None, 1)                    22        ['concatenate_3[0][0]']       \n",
            "                                                                                                  \n",
            "==================================================================================================\n",
            "Total params: 22 (88.00 Byte)\n",
            "Trainable params: 22 (88.00 Byte)\n",
            "Non-trainable params: 0 (0.00 Byte)\n",
            "__________________________________________________________________________________________________\n"
          ]
        },
        {
          "output_type": "display_data",
          "data": {
            "text/plain": [
              "<Figure size 640x480 with 1 Axes>"
            ],
            "image/png": "[encoded data removed]"
          },
          "metadata": {}
        },
        {
          "output_type": "stream",
          "name": "stdout",
          "text": [
            "\n",
            ": Evaluate the new model against the test set:\n",
            "30/30 [==============================] - 0s 1ms/step - loss: 10182.4590 - root_mean_squared_error: 100.9082\n"
          ]
        },
        {
          "output_type": "stream",
          "name": "stderr",
          "text": [
            "/usr/local/lib/python3.10/dist-packages/keras/src/engine/functional.py:642: UserWarning: Input dict contained keys ['housing_median_age', 'total_rooms', 'total_bedrooms', 'population', 'households', 'median_income'] which did not match any model input. They will be ignored by the model.\n",
            "  inputs = self._flatten_to_reference_inputs(inputs)\n"
          ]
        },
        {
          "output_type": "execute_result",
          "data": {
            "text/plain": [
              "[10182.458984375, 100.90817260742188]"
            ]
          },
          "metadata": {},
          "execution_count": 11
        }
      ]
    },
    {
      "cell_type": "markdown",
      "source": [
        "##تمرین 2 : آیا بسته ها عملکرد بهتری از نقاط شناور طول و عرض جغرافیایی دارند؟\n"
      ],
      "metadata": {
        "id": "bJDnAqcSGHHZ"
      }
    },
    {
      "cell_type": "code",
      "source": [
        "#@title برای پاسخ به Task 2 دوبار کلیک کنید.\n",
        "\n",
        "# نمایندگی سطل عملکرد بهتری داشت\n",
        "# نمایش ممیز شناور.\n",
        "# با این حال، شما هنوز هم می توانید به مراتب بهتر عمل کنید."
      ],
      "metadata": {
        "id": "GPHGNmWVrWeN"
      },
      "execution_count": null,
      "outputs": []
    },
    {
      "cell_type": "markdown",
      "source": [
        "##تمرین3 : بهترین راه نمایش موقعیت های مکانی چیست؟\n",
        "\n",
        "بسته ها پیشرفت بزرگی نسبت به مقادیر ممیز شناور هستند. آیا می توانید راه بهتری برای شناسایی موقعیت مکانی با طول و عرض جغرافیایی شناسایی کنید؟"
      ],
      "metadata": {
        "id": "HK6TVJ3ZFn3q"
      }
    },
    {
      "cell_type": "markdown",
      "source": [],
      "metadata": {
        "id": "GUhFNlazHF2_"
      }
    },
    {
      "cell_type": "code",
      "source": [
        "#@title برای مشاهده پاسخ به Task 3 دوبار کلیک کنید.\n",
        "\n",
        "# نشان دادن مکان به صورت ویژگی های متقاطع باید\n",
        "#نتایج بهتری ایجاد کنند.\n",
        "\n",
        "# در تمرین 2، عرض جغرافیایی را در نشان دادید\n",
        "# بسته های یک بعدی و طول جغرافیایی در\n",
        "# یک سری دیگر از بسته های تک بعدی.\n",
        "#با این حال،\n",
        "# مکان‌های دنیای واقعی در آن وجود دارند\n",
        "#دو بعدی بنابراین شما باید\n",
        "# مکان را به عنوان یک ویژگی دو بعدی نشان می دهد\n",
        "# صلیب. یعنی از حدود 10 بسته\n",
        "# عرض جغرافیایی عبور خواهید کرد\n",
        "#  با بسته 10 یا بیشتر طول جغرافیایی به\n",
        "# یک شبکه از 100 سلول ایجاد کنید.\n",
        "\n",
        "# مدل برای هر یک از سلول ها وزنه های جداگانه یاد می گیرد\n"
      ],
      "metadata": {
        "id": "5dq5fhx5GEvE"
      },
      "execution_count": null,
      "outputs": []
    },
    {
      "cell_type": "code",
      "source": [
        "resolution_in_degrees = 0.1\n",
        "#ایجاد لیستی از اعداد معرفی شده در مرز بسته ها\n",
        "latitude_boundaries = list(np.arange(int(min(train_df['latitude'])),\n",
        "                                    int(max(train_df['latitude']))\n",
        "                                    , resolution_in_degrees))\n",
        "print(\"latitude boundaries: \"+str(latitude_boundaries))\n",
        "#  ایجاد یک لایه ی گسسته سازی برای جداسازی عرض های جغرافیایی\n",
        "latitude = tf. keras.layers.Discretization(\n",
        "    bin_boundaries=latitude_boundries,\n",
        "    name='discretization_latitude')(inputs.get('latitude'))\n",
        "\n",
        "\n",
        "# ایجاد یک لیست از اعداد معرفی کننده ی مرز بسته های عرض جغرافیایی\n",
        "longitude_boundaries = list(np.arange(int(min(train_df['longitude'])),\n",
        "                                    int(max(train_df['longitude']))\n",
        "                                    , resolution_in_degrees))\n",
        "print(\"longitude boundaries: \"+str(longitude_boundaries))\n",
        "# ایجاد یک لایه ی گسسته سازی برای جداسازی طول های جغرافیایی\n",
        "longitude = tf. keras.layers.Discretization(\n",
        "    bin_boundaries=longitude_boundries,\n",
        "    name='discretization_longitude')(inputs.get('longitude'))\n",
        "\n",
        "#  طول و عرض جغرافیایی را باهم تقاطع می دهیم تا به یک بردار one hot\n",
        "\n",
        "\n",
        "feature_cross = tf.keras.layers.HashedCrossing(\n",
        "    num_bins=len(latitude_boundries)* len(longitude_boundries) ,\n",
        "    output_mode='one_hot',\n",
        "    name='cross_latitude_longitude')([latitude, longitude])\n",
        "\n",
        "dense_output = layers.Dense(units=1, name='dense_layer')(feature_cross)\n",
        "\n",
        "# Define an output dictionary we'll send to the model constructor.\n",
        "outputs = {\n",
        "  'dense_output': dense_output\n",
        "}"
      ],
      "metadata": {
        "colab": {
          "base_uri": "https://localhost:8080/"
        },
        "id": "LBsL-ANVuNsJ",
        "outputId": "1018196f-dfec-43b8-e87a-0140f371a486"
      },
      "execution_count": null,
      "outputs": [
        {
          "output_type": "stream",
          "name": "stdout",
          "text": [
            "latitude boundaries: [32.0, 32.1, 32.2, 32.300000000000004, 32.400000000000006, 32.50000000000001, 32.60000000000001, 32.70000000000001, 32.80000000000001, 32.90000000000001, 33.000000000000014, 33.100000000000016, 33.20000000000002, 33.30000000000002, 33.40000000000002, 33.50000000000002, 33.60000000000002, 33.700000000000024, 33.800000000000026, 33.90000000000003, 34.00000000000003, 34.10000000000003, 34.20000000000003, 34.30000000000003, 34.400000000000034, 34.500000000000036, 34.60000000000004, 34.70000000000004, 34.80000000000004, 34.90000000000004, 35.00000000000004, 35.100000000000044, 35.200000000000045, 35.30000000000005, 35.40000000000005, 35.50000000000005, 35.60000000000005, 35.70000000000005, 35.800000000000054, 35.900000000000055, 36.00000000000006, 36.10000000000006, 36.20000000000006, 36.30000000000006, 36.40000000000006, 36.500000000000064, 36.600000000000065, 36.70000000000007, 36.80000000000007, 36.90000000000007, 37.00000000000007, 37.10000000000007, 37.200000000000074, 37.300000000000075, 37.40000000000008, 37.50000000000008, 37.60000000000008, 37.70000000000008, 37.80000000000008, 37.900000000000084, 38.000000000000085, 38.10000000000009, 38.20000000000009, 38.30000000000009, 38.40000000000009, 38.50000000000009, 38.600000000000094, 38.700000000000095, 38.8000000000001, 38.9000000000001, 39.0000000000001, 39.1000000000001, 39.2000000000001, 39.300000000000104, 39.400000000000105, 39.50000000000011, 39.60000000000011, 39.70000000000011, 39.80000000000011, 39.90000000000011, 40.000000000000114, 40.100000000000115, 40.20000000000012, 40.30000000000012, 40.40000000000012, 40.50000000000012, 40.60000000000012, 40.700000000000124, 40.800000000000125, 40.90000000000013]\n",
            "longitude boundaries: [-124.0, -123.9, -123.80000000000001, -123.70000000000002, -123.60000000000002, -123.50000000000003, -123.40000000000003, -123.30000000000004, -123.20000000000005, -123.10000000000005, -123.00000000000006, -122.90000000000006, -122.80000000000007, -122.70000000000007, -122.60000000000008, -122.50000000000009, -122.40000000000009, -122.3000000000001, -122.2000000000001, -122.10000000000011, -122.00000000000011, -121.90000000000012, -121.80000000000013, -121.70000000000013, -121.60000000000014, -121.50000000000014, -121.40000000000015, -121.30000000000015, -121.20000000000016, -121.10000000000016, -121.00000000000017, -120.90000000000018, -120.80000000000018, -120.70000000000019, -120.6000000000002, -120.5000000000002, -120.4000000000002, -120.30000000000021, -120.20000000000022, -120.10000000000022, -120.00000000000023, -119.90000000000023, -119.80000000000024, -119.70000000000024, -119.60000000000025, -119.50000000000026, -119.40000000000026, -119.30000000000027, -119.20000000000027, -119.10000000000028, -119.00000000000028, -118.90000000000029, -118.8000000000003, -118.7000000000003, -118.6000000000003, -118.50000000000031, -118.40000000000032, -118.30000000000032, -118.20000000000033, -118.10000000000034, -118.00000000000034, -117.90000000000035, -117.80000000000035, -117.70000000000036, -117.60000000000036, -117.50000000000037, -117.40000000000038, -117.30000000000038, -117.20000000000039, -117.10000000000039, -117.0000000000004, -116.9000000000004, -116.80000000000041, -116.70000000000041, -116.60000000000042, -116.50000000000043, -116.40000000000043, -116.30000000000044, -116.20000000000044, -116.10000000000045, -116.00000000000045, -115.90000000000046, -115.80000000000047, -115.70000000000047, -115.60000000000048, -115.50000000000048, -115.40000000000049, -115.3000000000005, -115.2000000000005, -115.1000000000005, -115.00000000000051, -114.90000000000052, -114.80000000000052, -114.70000000000053, -114.60000000000053, -114.50000000000054, -114.40000000000055, -114.30000000000055, -114.20000000000056, -114.10000000000056]\n"
          ]
        }
      ]
    },
    {
      "cell_type": "code",
      "source": [
        "\n",
        "#مقداردهی هایپر پارامتر ها\n",
        "learning_rate = 0.05\n",
        "epochs = 30\n",
        "\n",
        "\n",
        "# ایجاد و گرد آوری تپو گرافی مدل\n",
        "my_model = create_model(inputs, outputs, learning_rate)\n",
        "\n",
        "\n",
        "# آموزش مدل روی داده های آموزشی\n",
        "epochs, rmse = train_model(my_model, train_df, epochs, batch_size,label_name)\n",
        "\n",
        "# خلاصه ی مدل را چاپ کن\n",
        "my_model.summary(expand_nested=True)\n",
        "\n",
        "plot_the_loss_curve(epochs, rmse)\n",
        "\n",
        "print(\"\\n: Evaluate the new model against the test set:\")\n",
        "my_model.evaluate(x=test_features, y=test_label, batch_size= batch_size)"
      ],
      "metadata": {
        "colab": {
          "base_uri": "https://localhost:8080/",
          "height": 1000
        },
        "id": "-wgH8Xb7v_o9",
        "outputId": "c23d766a-42f8-4f50-f6c8-4a7b51c7540d"
      },
      "execution_count": null,
      "outputs": [
        {
          "output_type": "stream",
          "name": "stdout",
          "text": [
            "Epoch 1/30\n",
            "170/170 [==============================] - 0s 1ms/step - loss: 52837.9883 - root_mean_squared_error: 229.8652\n",
            "Epoch 2/30\n",
            "170/170 [==============================] - 0s 1ms/step - loss: 46680.5508 - root_mean_squared_error: 216.0568\n",
            "Epoch 3/30\n",
            "170/170 [==============================] - 0s 1ms/step - loss: 41063.0312 - root_mean_squared_error: 202.6402\n",
            "Epoch 4/30\n",
            "170/170 [==============================] - 0s 1ms/step - loss: 35943.1211 - root_mean_squared_error: 189.5867\n",
            "Epoch 5/30\n",
            "170/170 [==============================] - 0s 1ms/step - loss: 31333.8340 - root_mean_squared_error: 177.0137\n",
            "Epoch 6/30\n",
            "170/170 [==============================] - 0s 1ms/step - loss: 27254.9492 - root_mean_squared_error: 165.0907\n",
            "Epoch 7/30\n",
            "170/170 [==============================] - 0s 1ms/step - loss: 23677.7090 - root_mean_squared_error: 153.8756\n",
            "Epoch 8/30\n",
            "170/170 [==============================] - 0s 1ms/step - loss: 20564.8926 - root_mean_squared_error: 143.4046\n",
            "Epoch 9/30\n",
            "170/170 [==============================] - 0s 1ms/step - loss: 17927.0781 - root_mean_squared_error: 133.8920\n",
            "Epoch 10/30\n",
            "170/170 [==============================] - 0s 1ms/step - loss: 15718.9424 - root_mean_squared_error: 125.3752\n",
            "Epoch 11/30\n",
            "170/170 [==============================] - 0s 1ms/step - loss: 13939.6172 - root_mean_squared_error: 118.0662\n",
            "Epoch 12/30\n",
            "170/170 [==============================] - 0s 1ms/step - loss: 12535.5791 - root_mean_squared_error: 111.9624\n",
            "Epoch 13/30\n",
            "170/170 [==============================] - 0s 1ms/step - loss: 11490.6934 - root_mean_squared_error: 107.1946\n",
            "Epoch 14/30\n",
            "170/170 [==============================] - 0s 1ms/step - loss: 10762.0635 - root_mean_squared_error: 103.7404\n",
            "Epoch 15/30\n",
            "170/170 [==============================] - 0s 1ms/step - loss: 10310.1006 - root_mean_squared_error: 101.5387\n",
            "Epoch 16/30\n",
            "170/170 [==============================] - 0s 1ms/step - loss: 10041.9092 - root_mean_squared_error: 100.2093\n",
            "Epoch 17/30\n",
            "170/170 [==============================] - 0s 1ms/step - loss: 9878.8359 - root_mean_squared_error: 99.3923\n",
            "Epoch 18/30\n",
            "170/170 [==============================] - 0s 1ms/step - loss: 9763.9395 - root_mean_squared_error: 98.8126\n",
            "Epoch 19/30\n",
            "170/170 [==============================] - 0s 1ms/step - loss: 9682.7920 - root_mean_squared_error: 98.4012\n",
            "Epoch 20/30\n",
            "170/170 [==============================] - 0s 1ms/step - loss: 9625.6865 - root_mean_squared_error: 98.1106\n",
            "Epoch 21/30\n",
            "170/170 [==============================] - 0s 1ms/step - loss: 9586.2725 - root_mean_squared_error: 97.9095\n",
            "Epoch 22/30\n",
            "170/170 [==============================] - 0s 1ms/step - loss: 9558.2412 - root_mean_squared_error: 97.7663\n",
            "Epoch 23/30\n",
            "170/170 [==============================] - 0s 1ms/step - loss: 9538.8555 - root_mean_squared_error: 97.6671\n",
            "Epoch 24/30\n",
            "170/170 [==============================] - 0s 1ms/step - loss: 9525.0850 - root_mean_squared_error: 97.5965\n",
            "Epoch 25/30\n",
            "170/170 [==============================] - 0s 1ms/step - loss: 9514.3877 - root_mean_squared_error: 97.5417\n",
            "Epoch 26/30\n",
            "170/170 [==============================] - 0s 1ms/step - loss: 9507.1016 - root_mean_squared_error: 97.5044\n",
            "Epoch 27/30\n",
            "170/170 [==============================] - 0s 1ms/step - loss: 9502.0479 - root_mean_squared_error: 97.4784\n",
            "Epoch 28/30\n",
            "170/170 [==============================] - 0s 1ms/step - loss: 9497.7803 - root_mean_squared_error: 97.4566\n",
            "Epoch 29/30\n",
            "170/170 [==============================] - 0s 1ms/step - loss: 9494.4453 - root_mean_squared_error: 97.4394\n",
            "Epoch 30/30\n",
            "170/170 [==============================] - 0s 1ms/step - loss: 9491.9883 - root_mean_squared_error: 97.4268\n",
            "Model: \"model_6\"\n",
            "__________________________________________________________________________________________________\n",
            " Layer (type)                Output Shape                 Param #   Connected to                  \n",
            "==================================================================================================\n",
            " latitude (InputLayer)       [(None, 1)]                  0         []                            \n",
            "                                                                                                  \n",
            " longitude (InputLayer)      [(None, 1)]                  0         []                            \n",
            "                                                                                                  \n",
            " discretization_latitude (D  (None, 1)                    0         ['latitude[0][0]']            \n",
            " iscretization)                                                                                   \n",
            "                                                                                                  \n",
            " discretization_longitude (  (None, 1)                    0         ['longitude[0][0]']           \n",
            " Discretization)                                                                                  \n",
            "                                                                                                  \n",
            " cross_latitude_longitude (  (None, 90)                   0         ['discretization_latitude[0][0\n",
            " HashedCrossing)                                                    ]',                           \n",
            "                                                                     'discretization_longitude[0][\n",
            "                                                                    0]']                          \n",
            "                                                                                                  \n",
            " dense_layer (Dense)         (None, 1)                    91        ['cross_latitude_longitude[0][\n",
            "                                                                    0]']                          \n",
            "                                                                                                  \n",
            "==================================================================================================\n",
            "Total params: 91 (364.00 Byte)\n",
            "Trainable params: 91 (364.00 Byte)\n",
            "Non-trainable params: 0 (0.00 Byte)\n",
            "__________________________________________________________________________________________________\n"
          ]
        },
        {
          "output_type": "display_data",
          "data": {
            "text/plain": [
              "<Figure size 640x480 with 1 Axes>"
            ],
            "image/png": "[encoded data removed]"
          },
          "metadata": {}
        },
        {
          "output_type": "stream",
          "name": "stdout",
          "text": [
            "\n",
            ": Evaluate the new model against the test set:\n",
            "30/30 [==============================] - 0s 1ms/step - loss: 9319.5889 - root_mean_squared_error: 96.5380\n"
          ]
        },
        {
          "output_type": "stream",
          "name": "stderr",
          "text": [
            "/usr/local/lib/python3.10/dist-packages/keras/src/engine/functional.py:642: UserWarning: Input dict contained keys ['housing_median_age', 'total_rooms', 'total_bedrooms', 'population', 'households', 'median_income'] which did not match any model input. They will be ignored by the model.\n",
            "  inputs = self._flatten_to_reference_inputs(inputs)\n"
          ]
        },
        {
          "output_type": "execute_result",
          "data": {
            "text/plain": [
              "[9319.5888671875, 96.53801727294922]"
            ]
          },
          "metadata": {},
          "execution_count": 23
        }
      ]
    },
    {
      "cell_type": "markdown",
      "source": [
        "##معرفی موقعیت مکانی به عنوان ویژگی متقاطع"
      ],
      "metadata": {
        "id": "aRyC-j1PH4ap"
      }
    },
    {
      "cell_type": "markdown",
      "source": [
        "## وظیفه 4: آیا عملکرد feature cross از بسته ها بهتر عمل کرد؟\n",
        "\n",
        "\n",
        "\n",
        "مقادیر \"root_mean_squared_error\" مدل را برای دو نمایش مقایسه کنید (سطل ها در مقابل متقاطع ویژگی ها)؟ کدام مدل تولید شده است\n",
        "ضرر کمتر؟"
      ],
      "metadata": {
        "id": "T2nhBsd4IpYR"
      }
    },
    {
      "cell_type": "code",
      "source": [
        "#@title برای پاسخ به این سوال دوبار کلیک کنید.\n",
        "\n",
        "# بله، نشان دادن این ویژگی ها به عنوان یک ویژگی\n",
        "# مقادیر متقاطع loss بسیار کمتری نسبت به\n",
        "# این ویژگی ها را به صورت بسته نشان می دهد"
      ],
      "metadata": {
        "id": "TCsAjJ0O181j"
      },
      "execution_count": null,
      "outputs": []
    },
    {
      "cell_type": "markdown",
      "source": [
        "## وظیفه 5: وضوح تصویر متقاطع را تنظیم کنید\n",
        "\n",
        "به سلول کد در بخش «نمایش مکان به عنوان متقاطع ویژگی» بازگردید. توجه داشته باشید که \"رزولوشن_در_درجه\" روی 1.0 تنظیم شده است. بنابراین، هر سلول مساحت 1.0 درجه عرض جغرافیایی در 1.0 درجه طول جغرافیایی را نشان می دهد که مربوط به سلول 110 کیلومتر در 90 کیلومتر است. این قطعنامه یک محله نسبتا بزرگ را تعریف می کند.\n",
        "\n",
        "برای پاسخ به سؤالات زیر، «رزولوشن_در_درجه» را آزمایش کنید:\n",
        "\n",
        "   1. کدام مقدار «رزولوشن_در_درجه» بهترین نتایج را ایجاد می کند (کمترین مقدار ضرر)؟\n",
        "   2. چرا وقتی مقدار «رزولوشن_در_درجه» به زیر مقدار معینی می‌رسد، ضرر افزایش می‌یابد؟\n",
        "\n",
        "در نهایت به سوال زیر پاسخ دهید:\n",
        "\n",
        "   3. چه ویژگی (که در مجموعه داده مسکن کالیفرنیا وجود ندارد).\n",
        "      پروکسی بهتری برای موقعیت مکانی نسبت به طول جغرافیایی X باشد."
      ],
      "metadata": {
        "id": "nRtuco3UJNYp"
      }
    },
    {
      "cell_type": "code",
      "source": [
        "#@title برای پاسخ‌های احتمالی به Task 5 دوبار کلیک کنید.\n",
        "\n",
        "#1. وضوح ~ 0.4 درجه بهترین را ارائه می دهد\n",
        "#   نتایج.\n",
        "\n",
        "#2. زیر 0.4 درجه، loss افزایش می یابد زیرا\n",
        "# مجموعه داده شامل نمونه های کافی در نیست\n",
        "# هر سلول برای پیش‌بینی دقیق قیمت‌ها\n",
        "# آن سلول ها\n",
        "\n",
        "#3. کد پستی ویژگی بسیار بهتری خواهد بود\n",
        "# از طول جغرافیایی X، با این فرض\n",
        "# مجموعه داده حاوی نمونه های کافی بود\n",
        "# در هر کد پستی"
      ],
      "metadata": {
        "id": "YHjj2ioAIWgK"
      },
      "execution_count": null,
      "outputs": []
    }
  ]
}